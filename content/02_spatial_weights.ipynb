{
 "cells": [
  {
   "cell_type": "markdown",
   "metadata": {},
   "source": [
    "# Spatial Weights\n"
   ]
  },
  {
   "cell_type": "markdown",
   "metadata": {},
   "source": [
    "Spatial weights are mathematical structures used to represent spatial relationships. Many spatial analytics, such as spatial autocorrelation statistics and regionalization algorithms rely on spatial weights. Generally speaking, a spatial weight $w_{i,j}$ expresses the notion of a geographical relationship between locations $i$ and $j$. These relationships can be based on a number of criteria including contiguity, geospatial distance and general distances.\n",
    "\n",
    "libpysal offers functionality for the construction, manipulation, analysis, and conversion of a wide array of spatial weights.\n",
    "\n",
    "We begin with construction of weights from common spatial data formats.\n"
   ]
  },
  {
   "cell_type": "code",
   "execution_count": null,
   "metadata": {
    "execution": {
     "iopub.execute_input": "2020-11-03T03:36:42.554254Z",
     "iopub.status.busy": "2020-11-03T03:36:42.550890Z",
     "iopub.status.idle": "2020-11-03T03:36:43.932739Z",
     "shell.execute_reply": "2020-11-03T03:36:43.932049Z"
    }
   },
   "outputs": [],
   "source": [
    "import libpysal \n",
    "from libpysal.weights import Queen, Rook, KNN, Kernel, DistanceBand\n",
    "import numpy as np\n",
    "import geopandas\n",
    "import pandas\n",
    "%matplotlib inline\n",
    "import matplotlib.pyplot as plt"
   ]
  },
  {
   "cell_type": "code",
   "execution_count": null,
   "metadata": {
    "execution": {
     "iopub.execute_input": "2020-11-03T03:36:43.936063Z",
     "iopub.status.busy": "2020-11-03T03:36:43.935538Z",
     "iopub.status.idle": "2020-11-03T03:36:43.939402Z",
     "shell.execute_reply": "2020-11-03T03:36:43.939923Z"
    }
   },
   "outputs": [],
   "source": [
    "from splot.libpysal import plot_spatial_weights"
   ]
  },
  {
   "cell_type": "markdown",
   "metadata": {},
   "source": [
    "There are functions to construct weights directly from a file path. "
   ]
  },
  {
   "cell_type": "markdown",
   "metadata": {},
   "source": [
    "## Weight Types"
   ]
  },
  {
   "cell_type": "markdown",
   "metadata": {},
   "source": [
    "### Contiguity\n",
    "\n",
    "#### Queen Weights"
   ]
  },
  {
   "cell_type": "markdown",
   "metadata": {},
   "source": [
    "A commonly-used type of weight is a queen contigutiy weight, which reflects adjacency relationships as a binary indicator variable denoting whether or not a polygon shares an edge or a vertex with another polygon. These weights are symmetric, in that when polygon $A$ neighbors polygon $B$, both $w_{AB} = 1$ and $w_{BA} = 1$.\n",
    "\n",
    "To construct queen weights from a shapefile, we will use geopandas to read the file into a GeoDataFrame, and then use   libpysal to construct the weights:"
   ]
  },
  {
   "cell_type": "code",
   "execution_count": null,
   "metadata": {
    "execution": {
     "iopub.execute_input": "2020-11-03T03:36:44.250099Z",
     "iopub.status.busy": "2020-11-03T03:36:43.955443Z",
     "iopub.status.idle": "2020-11-03T03:36:44.853825Z",
     "shell.execute_reply": "2020-11-03T03:36:44.853233Z"
    }
   },
   "outputs": [],
   "source": [
    "path = \"data/scag_region.gpkg\"\n",
    "df = geopandas.read_file(path)\n",
    "df.head()"
   ]
  },
  {
   "cell_type": "code",
   "execution_count": null,
   "metadata": {
    "execution": {
     "iopub.execute_input": "2020-11-03T03:36:44.856981Z",
     "iopub.status.busy": "2020-11-03T03:36:44.856476Z",
     "iopub.status.idle": "2020-11-03T03:36:45.357397Z",
     "shell.execute_reply": "2020-11-03T03:36:45.357910Z"
    }
   },
   "outputs": [],
   "source": [
    "df = df.to_crs(26911)  #UTM zone 11N"
   ]
  },
  {
   "cell_type": "code",
   "execution_count": null,
   "metadata": {
    "execution": {
     "iopub.execute_input": "2020-11-03T03:36:45.367420Z",
     "iopub.status.busy": "2020-11-03T03:36:45.366806Z",
     "iopub.status.idle": "2020-11-03T03:36:45.969529Z",
     "shell.execute_reply": "2020-11-03T03:36:45.970007Z"
    }
   },
   "outputs": [],
   "source": [
    "qW = Queen.from_dataframe(df)"
   ]
  },
  {
   "cell_type": "code",
   "execution_count": null,
   "metadata": {
    "execution": {
     "iopub.execute_input": "2020-11-03T03:36:45.973076Z",
     "iopub.status.busy": "2020-11-03T03:36:45.972613Z",
     "iopub.status.idle": "2020-11-03T03:36:45.975528Z",
     "shell.execute_reply": "2020-11-03T03:36:45.976034Z"
    }
   },
   "outputs": [],
   "source": [
    "qW"
   ]
  },
  {
   "cell_type": "markdown",
   "metadata": {},
   "source": [
    "All weights objects have a few traits that you can use to work with the weights object, as well as to get information about the weights object. \n",
    "\n",
    "To get the neighbors & weights around an observation, use the observation's index on the weights object, like a dictionary:"
   ]
  },
  {
   "cell_type": "code",
   "execution_count": null,
   "metadata": {
    "execution": {
     "iopub.execute_input": "2020-11-03T03:36:45.979511Z",
     "iopub.status.busy": "2020-11-03T03:36:45.979083Z",
     "iopub.status.idle": "2020-11-03T03:36:45.981275Z",
     "shell.execute_reply": "2020-11-03T03:36:45.981733Z"
    }
   },
   "outputs": [],
   "source": [
    "qW[155] #neighbors & weights of the 156th observation (0-index remember)"
   ]
  },
  {
   "cell_type": "markdown",
   "metadata": {},
   "source": [
    "By default, the weights and the pandas dataframe will use the same index. So, we can view the observation and its neighbors in the dataframe by putting the observation's index and its neighbors' indexes together in one list:"
   ]
  },
  {
   "cell_type": "code",
   "execution_count": null,
   "metadata": {
    "execution": {
     "iopub.execute_input": "2020-11-03T03:36:45.985143Z",
     "iopub.status.busy": "2020-11-03T03:36:45.984594Z",
     "iopub.status.idle": "2020-11-03T03:36:45.986700Z",
     "shell.execute_reply": "2020-11-03T03:36:45.987144Z"
    }
   },
   "outputs": [],
   "source": [
    "self_and_neighbors = [155]\n",
    "self_and_neighbors.extend(qW.neighbors[155])\n",
    "print(self_and_neighbors)"
   ]
  },
  {
   "cell_type": "markdown",
   "metadata": {},
   "source": [
    "and grabbing those elements from the dataframe:"
   ]
  },
  {
   "cell_type": "code",
   "execution_count": null,
   "metadata": {
    "execution": {
     "iopub.execute_input": "2020-11-03T03:36:45.997599Z",
     "iopub.status.busy": "2020-11-03T03:36:45.997168Z",
     "iopub.status.idle": "2020-11-03T03:36:46.010581Z",
     "shell.execute_reply": "2020-11-03T03:36:46.011021Z"
    }
   },
   "outputs": [],
   "source": [
    "df.loc[self_and_neighbors]"
   ]
  },
  {
   "cell_type": "markdown",
   "metadata": {},
   "source": [
    "A full, dense matrix describing all of the pairwise relationships is constructed using the `.full` method, or when `libpysal.weights.full` is called on a weights object:"
   ]
  },
  {
   "cell_type": "code",
   "execution_count": null,
   "metadata": {
    "execution": {
     "iopub.execute_input": "2020-11-03T03:36:46.089579Z",
     "iopub.status.busy": "2020-11-03T03:36:46.049694Z",
     "iopub.status.idle": "2020-11-03T03:36:46.823881Z",
     "shell.execute_reply": "2020-11-03T03:36:46.824245Z"
    }
   },
   "outputs": [],
   "source": [
    "Wmatrix, ids = qW.full()\n",
    "#Wmatrix, ids = libpysal.weights.full(qW)"
   ]
  },
  {
   "cell_type": "code",
   "execution_count": null,
   "metadata": {
    "execution": {
     "iopub.execute_input": "2020-11-03T03:36:46.827805Z",
     "iopub.status.busy": "2020-11-03T03:36:46.827237Z",
     "iopub.status.idle": "2020-11-03T03:36:46.829619Z",
     "shell.execute_reply": "2020-11-03T03:36:46.830189Z"
    }
   },
   "outputs": [],
   "source": [
    "Wmatrix"
   ]
  },
  {
   "cell_type": "code",
   "execution_count": null,
   "metadata": {
    "execution": {
     "iopub.execute_input": "2020-11-03T03:36:46.833187Z",
     "iopub.status.busy": "2020-11-03T03:36:46.832684Z",
     "iopub.status.idle": "2020-11-03T03:36:46.877738Z",
     "shell.execute_reply": "2020-11-03T03:36:46.878273Z"
    }
   },
   "outputs": [],
   "source": [
    "n_neighbors = Wmatrix.sum(axis=1) # how many neighbors each region has"
   ]
  },
  {
   "cell_type": "code",
   "execution_count": null,
   "metadata": {
    "execution": {
     "iopub.execute_input": "2020-11-03T03:36:46.881724Z",
     "iopub.status.busy": "2020-11-03T03:36:46.881160Z",
     "iopub.status.idle": "2020-11-03T03:36:46.883570Z",
     "shell.execute_reply": "2020-11-03T03:36:46.884096Z"
    }
   },
   "outputs": [],
   "source": [
    "n_neighbors[155]"
   ]
  },
  {
   "cell_type": "code",
   "execution_count": null,
   "metadata": {
    "execution": {
     "iopub.execute_input": "2020-11-03T03:36:46.887190Z",
     "iopub.status.busy": "2020-11-03T03:36:46.886647Z",
     "iopub.status.idle": "2020-11-03T03:36:46.889024Z",
     "shell.execute_reply": "2020-11-03T03:36:46.889533Z"
    }
   },
   "outputs": [],
   "source": [
    "qW.cardinalities[155]"
   ]
  },
  {
   "cell_type": "markdown",
   "metadata": {},
   "source": [
    "Note that this matrix is binary, in that its elements are either zero or one, since an observation is either a neighbor or it is not a neighbor. \n",
    "\n",
    "However, many common use cases of spatial weights require that the matrix is row-standardized. This is done simply in PySAL using the `.transform` attribute"
   ]
  },
  {
   "cell_type": "code",
   "execution_count": null,
   "metadata": {
    "execution": {
     "iopub.execute_input": "2020-11-03T03:36:46.896256Z",
     "iopub.status.busy": "2020-11-03T03:36:46.895762Z",
     "iopub.status.idle": "2020-11-03T03:36:46.897724Z",
     "shell.execute_reply": "2020-11-03T03:36:46.898230Z"
    }
   },
   "outputs": [],
   "source": [
    "qW.transform = 'r'"
   ]
  },
  {
   "cell_type": "markdown",
   "metadata": {},
   "source": [
    "Now, if we build a new full matrix, its rows should sum to one:"
   ]
  },
  {
   "cell_type": "code",
   "execution_count": null,
   "metadata": {
    "execution": {
     "iopub.execute_input": "2020-11-03T03:36:46.980702Z",
     "iopub.status.busy": "2020-11-03T03:36:46.937106Z",
     "iopub.status.idle": "2020-11-03T03:36:47.685056Z",
     "shell.execute_reply": "2020-11-03T03:36:47.685539Z"
    }
   },
   "outputs": [],
   "source": [
    "Wmatrix, ids = qW.full()"
   ]
  },
  {
   "cell_type": "code",
   "execution_count": null,
   "metadata": {
    "execution": {
     "iopub.execute_input": "2020-11-03T03:36:47.688516Z",
     "iopub.status.busy": "2020-11-03T03:36:47.688046Z",
     "iopub.status.idle": "2020-11-03T03:36:47.745110Z",
     "shell.execute_reply": "2020-11-03T03:36:47.745766Z"
    }
   },
   "outputs": [],
   "source": [
    "Wmatrix.sum(axis=1) #numpy axes are 0:column, 1:row, 2:facet, into higher dimensions"
   ]
  },
  {
   "cell_type": "markdown",
   "metadata": {},
   "source": [
    "Since weight matrices are typically very sparse, there is also a sparse weights matrix constructor:"
   ]
  },
  {
   "cell_type": "code",
   "execution_count": null,
   "metadata": {
    "execution": {
     "iopub.execute_input": "2020-11-03T03:36:47.763924Z",
     "iopub.status.busy": "2020-11-03T03:36:47.763278Z",
     "iopub.status.idle": "2020-11-03T03:36:47.767356Z",
     "shell.execute_reply": "2020-11-03T03:36:47.767939Z"
    }
   },
   "outputs": [],
   "source": [
    "qW.sparse"
   ]
  },
  {
   "cell_type": "code",
   "execution_count": null,
   "metadata": {
    "execution": {
     "iopub.execute_input": "2020-11-03T03:36:47.771382Z",
     "iopub.status.busy": "2020-11-03T03:36:47.770737Z",
     "iopub.status.idle": "2020-11-03T03:36:47.773112Z",
     "shell.execute_reply": "2020-11-03T03:36:47.773630Z"
    }
   },
   "outputs": [],
   "source": [
    "qW.pct_nonzero #Percentage of nonzero neighbor counts"
   ]
  },
  {
   "cell_type": "markdown",
   "metadata": {},
   "source": [
    "Let's look at the neighborhoods of the 101th observation"
   ]
  },
  {
   "cell_type": "code",
   "execution_count": null,
   "metadata": {
    "execution": {
     "iopub.execute_input": "2020-11-03T03:36:47.777815Z",
     "iopub.status.busy": "2020-11-03T03:36:47.777272Z",
     "iopub.status.idle": "2020-11-03T03:36:47.780191Z",
     "shell.execute_reply": "2020-11-03T03:36:47.780715Z"
    }
   },
   "outputs": [],
   "source": [
    "df.iloc[100]"
   ]
  },
  {
   "cell_type": "code",
   "execution_count": null,
   "metadata": {
    "execution": {
     "iopub.execute_input": "2020-11-03T03:36:47.783874Z",
     "iopub.status.busy": "2020-11-03T03:36:47.783323Z",
     "iopub.status.idle": "2020-11-03T03:36:47.785560Z",
     "shell.execute_reply": "2020-11-03T03:36:47.786090Z"
    }
   },
   "outputs": [],
   "source": [
    "qW.neighbors[100]"
   ]
  },
  {
   "cell_type": "code",
   "execution_count": null,
   "metadata": {
    "execution": {
     "iopub.execute_input": "2020-11-03T03:36:47.789229Z",
     "iopub.status.busy": "2020-11-03T03:36:47.788693Z",
     "iopub.status.idle": "2020-11-03T03:36:47.790910Z",
     "shell.execute_reply": "2020-11-03T03:36:47.791473Z"
    }
   },
   "outputs": [],
   "source": [
    "len(qW.neighbors[100])"
   ]
  },
  {
   "cell_type": "code",
   "execution_count": null,
   "metadata": {
    "execution": {
     "iopub.execute_input": "2020-11-03T03:36:47.802401Z",
     "iopub.status.busy": "2020-11-03T03:36:47.801927Z",
     "iopub.status.idle": "2020-11-03T03:36:47.813361Z",
     "shell.execute_reply": "2020-11-03T03:36:47.813836Z"
    }
   },
   "outputs": [],
   "source": [
    "df.iloc[qW.neighbors[100]]"
   ]
  },
  {
   "cell_type": "code",
   "execution_count": null,
   "metadata": {
    "execution": {
     "iopub.execute_input": "2020-11-03T03:36:47.881552Z",
     "iopub.status.busy": "2020-11-03T03:36:47.880943Z",
     "iopub.status.idle": "2020-11-03T03:36:49.994222Z",
     "shell.execute_reply": "2020-11-03T03:36:49.994668Z"
    }
   },
   "outputs": [],
   "source": [
    "plot_spatial_weights(qW, df)"
   ]
  },
  {
   "cell_type": "markdown",
   "metadata": {},
   "source": [
    "By default, PySAL assigns each observation an index according to the order in which the observation was read in. This means that, by default, all of the observations in the weights object are indexed by table order."
   ]
  },
  {
   "cell_type": "code",
   "execution_count": null,
   "metadata": {
    "execution": {
     "iopub.execute_input": "2020-11-03T03:36:49.999196Z",
     "iopub.status.busy": "2020-11-03T03:36:49.998200Z",
     "iopub.status.idle": "2020-11-03T03:36:50.110948Z",
     "shell.execute_reply": "2020-11-03T03:36:50.111409Z"
    }
   },
   "outputs": [],
   "source": [
    "pandas.Series(qW.cardinalities).plot.hist(bins=9)"
   ]
  },
  {
   "cell_type": "code",
   "execution_count": null,
   "metadata": {
    "execution": {
     "iopub.execute_input": "2020-11-03T03:36:50.114704Z",
     "iopub.status.busy": "2020-11-03T03:36:50.114223Z",
     "iopub.status.idle": "2020-11-03T03:36:50.116927Z",
     "shell.execute_reply": "2020-11-03T03:36:50.117376Z"
    }
   },
   "outputs": [],
   "source": [
    "qW.cardinalities.values()"
   ]
  },
  {
   "cell_type": "markdown",
   "metadata": {},
   "source": [
    "#### Rook Weights"
   ]
  },
  {
   "cell_type": "markdown",
   "metadata": {},
   "source": [
    "Rook weights are another type of contiguity weight, but consider observations as neighboring only when they share an edge. The rook neighbors of an observation may be different than its queen neighbors, depending on how the observation and its nearby polygons are configured. \n",
    "\n",
    "We can construct this in the same way as the queen weights:"
   ]
  },
  {
   "cell_type": "code",
   "execution_count": null,
   "metadata": {
    "execution": {
     "iopub.execute_input": "2020-11-03T03:36:50.126516Z",
     "iopub.status.busy": "2020-11-03T03:36:50.126058Z",
     "iopub.status.idle": "2020-11-03T03:36:50.835990Z",
     "shell.execute_reply": "2020-11-03T03:36:50.836362Z"
    }
   },
   "outputs": [],
   "source": [
    "rW = Rook.from_dataframe(df)"
   ]
  },
  {
   "cell_type": "code",
   "execution_count": null,
   "metadata": {
    "execution": {
     "iopub.execute_input": "2020-11-03T03:36:50.839734Z",
     "iopub.status.busy": "2020-11-03T03:36:50.839191Z",
     "iopub.status.idle": "2020-11-03T03:36:50.841625Z",
     "shell.execute_reply": "2020-11-03T03:36:50.842139Z"
    }
   },
   "outputs": [],
   "source": [
    "rW.neighbors[100]"
   ]
  },
  {
   "cell_type": "code",
   "execution_count": null,
   "metadata": {
    "execution": {
     "iopub.execute_input": "2020-11-03T03:36:50.845300Z",
     "iopub.status.busy": "2020-11-03T03:36:50.844763Z",
     "iopub.status.idle": "2020-11-03T03:36:50.846962Z",
     "shell.execute_reply": "2020-11-03T03:36:50.847467Z"
    }
   },
   "outputs": [],
   "source": [
    "len(rW.neighbors[100])"
   ]
  },
  {
   "cell_type": "code",
   "execution_count": null,
   "metadata": {
    "execution": {
     "iopub.execute_input": "2020-11-03T03:36:50.858749Z",
     "iopub.status.busy": "2020-11-03T03:36:50.858242Z",
     "iopub.status.idle": "2020-11-03T03:36:50.869732Z",
     "shell.execute_reply": "2020-11-03T03:36:50.870388Z"
    }
   },
   "outputs": [],
   "source": [
    "df.iloc[rW.neighbors[100]]"
   ]
  },
  {
   "cell_type": "code",
   "execution_count": null,
   "metadata": {
    "execution": {
     "iopub.execute_input": "2020-11-03T03:36:50.884571Z",
     "iopub.status.busy": "2020-11-03T03:36:50.884143Z",
     "iopub.status.idle": "2020-11-03T03:36:52.973784Z",
     "shell.execute_reply": "2020-11-03T03:36:52.974253Z"
    }
   },
   "outputs": [],
   "source": [
    "plot_spatial_weights(rW, df)"
   ]
  },
  {
   "cell_type": "code",
   "execution_count": null,
   "metadata": {
    "execution": {
     "iopub.execute_input": "2020-11-03T03:36:52.979681Z",
     "iopub.status.busy": "2020-11-03T03:36:52.979238Z",
     "iopub.status.idle": "2020-11-03T03:36:53.089547Z",
     "shell.execute_reply": "2020-11-03T03:36:53.090157Z"
    }
   },
   "outputs": [],
   "source": [
    "pandas.Series(rW.cardinalities).plot.hist(bins=9)"
   ]
  },
  {
   "cell_type": "markdown",
   "metadata": {},
   "source": [
    "#### Bishop Weights"
   ]
  },
  {
   "cell_type": "markdown",
   "metadata": {},
   "source": [
    "In theory, a \"Bishop\" weighting scheme is one that arises when only polygons that share vertexes are considered to be neighboring. But, since Queen contiguigy requires either an edge or a vertex and Rook contiguity requires only shared edges, the following relationship is true:\n",
    "\n",
    "$$ \\mathcal{Q} = \\mathcal{R} \\cup \\mathcal{B} $$\n",
    "\n",
    "where $\\mathcal{Q}$ is the set of neighbor pairs *via* queen contiguity, $\\mathcal{R}$ is the set of neighbor pairs *via* Rook contiguity, and $\\mathcal{B}$ *via* Bishop contiguity. Thus:\n",
    "\n",
    "$$ \\mathcal{Q} \\setminus \\mathcal{R} = \\mathcal{B}$$\n",
    "\n",
    "Bishop weights entail all Queen neighbor pairs that are not also Rook neighbors.\n",
    "\n",
    "PySAL does not have a dedicated bishop weights constructor, but you can construct very easily using the `w_difference` function. This function is one of a family of tools to work with weights, all defined in `libpysal.weights`, that conduct these types of set operations between weight objects."
   ]
  },
  {
   "cell_type": "code",
   "execution_count": null,
   "metadata": {
    "execution": {
     "iopub.execute_input": "2020-11-03T03:36:53.108148Z",
     "iopub.status.busy": "2020-11-03T03:36:53.107717Z",
     "iopub.status.idle": "2020-11-03T03:36:53.111016Z",
     "shell.execute_reply": "2020-11-03T03:36:53.111460Z"
    }
   },
   "outputs": [],
   "source": [
    "bW = libpysal.weights.w_difference(qW, rW, constrained=False)"
   ]
  },
  {
   "cell_type": "code",
   "execution_count": null,
   "metadata": {
    "execution": {
     "iopub.execute_input": "2020-11-03T03:36:53.193730Z",
     "iopub.status.busy": "2020-11-03T03:36:53.193000Z",
     "iopub.status.idle": "2020-11-03T03:36:53.198505Z",
     "shell.execute_reply": "2020-11-03T03:36:53.199182Z"
    }
   },
   "outputs": [],
   "source": [
    "bW = libpysal.weights.w_difference(qW, rW, constrained=False)"
   ]
  },
  {
   "cell_type": "code",
   "execution_count": null,
   "metadata": {},
   "outputs": [],
   "source": []
  },
  {
   "cell_type": "code",
   "execution_count": null,
   "metadata": {
    "execution": {
     "iopub.execute_input": "2020-11-03T03:36:53.204474Z",
     "iopub.status.busy": "2020-11-03T03:36:53.203791Z",
     "iopub.status.idle": "2020-11-03T03:36:53.206552Z",
     "shell.execute_reply": "2020-11-03T03:36:53.207194Z"
    }
   },
   "outputs": [],
   "source": [
    "bW.histogram"
   ]
  },
  {
   "cell_type": "markdown",
   "metadata": {},
   "source": [
    "Thus, many tracts have no bishop neighbors. But, a few do. A simple way to see these observations in the dataframe is to find all elements of the dataframe that are not \"islands,\" the term for an observation with no neighbors:"
   ]
  },
  {
   "cell_type": "code",
   "execution_count": null,
   "metadata": {
    "execution": {
     "iopub.execute_input": "2020-11-03T03:36:53.226040Z",
     "iopub.status.busy": "2020-11-03T03:36:53.225521Z",
     "iopub.status.idle": "2020-11-03T03:36:54.691344Z",
     "shell.execute_reply": "2020-11-03T03:36:54.691792Z"
    }
   },
   "outputs": [],
   "source": [
    "plot_spatial_weights(bW, df)"
   ]
  },
  {
   "cell_type": "markdown",
   "metadata": {},
   "source": [
    "## Distance"
   ]
  },
  {
   "cell_type": "markdown",
   "metadata": {},
   "source": [
    "There are many other kinds of weighting functions in PySAL. Another separate type use a continuous measure of distance to define neighborhoods. "
   ]
  },
  {
   "cell_type": "code",
   "execution_count": null,
   "metadata": {
    "execution": {
     "iopub.execute_input": "2020-11-03T03:36:54.704389Z",
     "iopub.status.busy": "2020-11-03T03:36:54.703598Z",
     "iopub.status.idle": "2020-11-03T03:36:54.706795Z",
     "shell.execute_reply": "2020-11-03T03:36:54.707232Z"
    }
   },
   "outputs": [],
   "source": [
    "df.crs"
   ]
  },
  {
   "cell_type": "markdown",
   "metadata": {},
   "source": [
    "Our coordinate system (UTM 11N) measures distance in meters, so that's how we'll define our neighbors"
   ]
  },
  {
   "cell_type": "code",
   "execution_count": null,
   "metadata": {
    "execution": {
     "iopub.execute_input": "2020-11-03T03:36:54.710751Z",
     "iopub.status.busy": "2020-11-03T03:36:54.710330Z",
     "iopub.status.idle": "2020-11-03T03:36:54.993558Z",
     "shell.execute_reply": "2020-11-03T03:36:54.994279Z"
    }
   },
   "outputs": [],
   "source": [
    "dist_band = DistanceBand.from_dataframe(df, threshold=2000)"
   ]
  },
  {
   "cell_type": "code",
   "execution_count": null,
   "metadata": {
    "execution": {
     "iopub.execute_input": "2020-11-03T03:36:55.011176Z",
     "iopub.status.busy": "2020-11-03T03:36:55.010662Z",
     "iopub.status.idle": "2020-11-03T03:36:57.195516Z",
     "shell.execute_reply": "2020-11-03T03:36:57.195975Z"
    }
   },
   "outputs": [],
   "source": [
    "plot_spatial_weights(dist_band,df)"
   ]
  },
  {
   "cell_type": "code",
   "execution_count": null,
   "metadata": {},
   "outputs": [],
   "source": []
  },
  {
   "cell_type": "markdown",
   "metadata": {},
   "source": [
    "### knn defined weights"
   ]
  },
  {
   "cell_type": "code",
   "execution_count": null,
   "metadata": {
    "execution": {
     "iopub.execute_input": "2020-11-03T03:36:57.199591Z",
     "iopub.status.busy": "2020-11-03T03:36:57.198788Z",
     "iopub.status.idle": "2020-11-03T03:36:57.201161Z",
     "shell.execute_reply": "2020-11-03T03:36:57.201660Z"
    }
   },
   "outputs": [],
   "source": [
    "radius_mile = libpysal.cg.sphere.RADIUS_EARTH_MILES\n",
    "radius_mile"
   ]
  },
  {
   "cell_type": "code",
   "execution_count": null,
   "metadata": {
    "execution": {
     "iopub.execute_input": "2020-11-03T03:36:57.204132Z",
     "iopub.status.busy": "2020-11-03T03:36:57.203709Z",
     "iopub.status.idle": "2020-11-03T03:36:57.615654Z",
     "shell.execute_reply": "2020-11-03T03:36:57.616135Z"
    }
   },
   "outputs": [],
   "source": [
    "df_latlong = df.to_crs(4326)"
   ]
  },
  {
   "cell_type": "code",
   "execution_count": null,
   "metadata": {
    "execution": {
     "iopub.execute_input": "2020-11-03T03:36:57.619408Z",
     "iopub.status.busy": "2020-11-03T03:36:57.618843Z",
     "iopub.status.idle": "2020-11-03T03:36:57.771933Z",
     "shell.execute_reply": "2020-11-03T03:36:57.772250Z"
    }
   },
   "outputs": [],
   "source": [
    "knn8_bad = KNN.from_dataframe(df_latlong, k=8) # ignore curvature of the earth"
   ]
  },
  {
   "cell_type": "code",
   "execution_count": null,
   "metadata": {
    "execution": {
     "iopub.execute_input": "2020-11-03T03:36:57.776097Z",
     "iopub.status.busy": "2020-11-03T03:36:57.775529Z",
     "iopub.status.idle": "2020-11-03T03:36:57.777982Z",
     "shell.execute_reply": "2020-11-03T03:36:57.778419Z"
    }
   },
   "outputs": [],
   "source": [
    "knn8_bad.histogram"
   ]
  },
  {
   "cell_type": "code",
   "execution_count": null,
   "metadata": {
    "execution": {
     "iopub.execute_input": "2020-11-03T03:36:57.781073Z",
     "iopub.status.busy": "2020-11-03T03:36:57.780657Z",
     "iopub.status.idle": "2020-11-03T03:36:58.102493Z",
     "shell.execute_reply": "2020-11-03T03:36:58.102942Z"
    }
   },
   "outputs": [],
   "source": [
    "knn8 = KNN.from_dataframe(df_latlong, k=8, radius=radius_mile)"
   ]
  },
  {
   "cell_type": "code",
   "execution_count": null,
   "metadata": {
    "execution": {
     "iopub.execute_input": "2020-11-03T03:36:58.106370Z",
     "iopub.status.busy": "2020-11-03T03:36:58.105838Z",
     "iopub.status.idle": "2020-11-03T03:36:58.108019Z",
     "shell.execute_reply": "2020-11-03T03:36:58.108472Z"
    }
   },
   "outputs": [],
   "source": [
    "knn8.histogram"
   ]
  },
  {
   "cell_type": "code",
   "execution_count": null,
   "metadata": {
    "execution": {
     "iopub.execute_input": "2020-11-03T03:36:58.111577Z",
     "iopub.status.busy": "2020-11-03T03:36:58.111098Z",
     "iopub.status.idle": "2020-11-03T03:36:58.113503Z",
     "shell.execute_reply": "2020-11-03T03:36:58.113946Z"
    }
   },
   "outputs": [],
   "source": [
    "knn8_bad.neighbors[1487]"
   ]
  },
  {
   "cell_type": "code",
   "execution_count": null,
   "metadata": {
    "execution": {
     "iopub.execute_input": "2020-11-03T03:36:58.116779Z",
     "iopub.status.busy": "2020-11-03T03:36:58.116337Z",
     "iopub.status.idle": "2020-11-03T03:36:58.118346Z",
     "shell.execute_reply": "2020-11-03T03:36:58.118800Z"
    }
   },
   "outputs": [],
   "source": [
    "knn8.neighbors[1487]"
   ]
  },
  {
   "cell_type": "code",
   "execution_count": null,
   "metadata": {
    "execution": {
     "iopub.execute_input": "2020-11-03T03:36:58.121752Z",
     "iopub.status.busy": "2020-11-03T03:36:58.121325Z",
     "iopub.status.idle": "2020-11-03T03:36:58.123376Z",
     "shell.execute_reply": "2020-11-03T03:36:58.123835Z"
    }
   },
   "outputs": [],
   "source": [
    "set(knn8_bad.neighbors[1487]) == set(knn8.neighbors[1487])"
   ]
  },
  {
   "cell_type": "markdown",
   "metadata": {},
   "source": [
    "<div class=\"alert alert-success\" style=\"font-size:120%\">\n",
    "<b>Exercise</b>: <br>\n",
    "Enumerate the tracts for which ignoring curvature results in an incorrect neighbor set for knn.\n",
    "</div>"
   ]
  },
  {
   "cell_type": "code",
   "execution_count": null,
   "metadata": {
    "execution": {
     "iopub.execute_input": "2020-11-03T03:36:58.126190Z",
     "iopub.status.busy": "2020-11-03T03:36:58.125768Z",
     "iopub.status.idle": "2020-11-03T03:36:58.127318Z",
     "shell.execute_reply": "2020-11-03T03:36:58.127785Z"
    }
   },
   "outputs": [],
   "source": [
    "# %load solutions/02_knn.py\n"
   ]
  },
  {
   "cell_type": "markdown",
   "metadata": {},
   "source": [
    "### Kernel W"
   ]
  },
  {
   "cell_type": "markdown",
   "metadata": {},
   "source": [
    "Kernel Weights are continuous distance-based weights that use kernel densities to define the neighbor relationship.\n",
    "Typically, they estimate a `bandwidth`, which is a parameter governing how far out observations should be considered neighboring. Then, using this bandwidth, they evaluate a continuous kernel function to provide a weight between 0 and 1.\n",
    "\n",
    "Many different choices of kernel functions are supported, and bandwidths can either be fixed (constant over all units) or adaptive in function of unit density.\n",
    "\n",
    "For example, if we want to use **adaptive bandwidths for the map and weight according to a gaussian kernel**:"
   ]
  },
  {
   "cell_type": "markdown",
   "metadata": {},
   "source": [
    "#### Adaptive gaussian kernel weights\n",
    "\n",
    "bandwidth = the distance to the kth nearest neighbor for each\n",
    "                  observation\n",
    "   \n",
    "bandwith is changing across observations"
   ]
  },
  {
   "cell_type": "code",
   "execution_count": null,
   "metadata": {
    "execution": {
     "iopub.execute_input": "2020-11-03T03:36:58.131045Z",
     "iopub.status.busy": "2020-11-03T03:36:58.130584Z",
     "iopub.status.idle": "2020-11-03T03:36:58.707477Z",
     "shell.execute_reply": "2020-11-03T03:36:58.707974Z"
    }
   },
   "outputs": [],
   "source": [
    "kernelWa = Kernel.from_dataframe(df, k=10, fixed=False, function='gaussian')\n"
   ]
  },
  {
   "cell_type": "code",
   "execution_count": null,
   "metadata": {
    "execution": {
     "iopub.execute_input": "2020-11-03T03:36:58.722005Z",
     "iopub.status.busy": "2020-11-03T03:36:58.721576Z",
     "iopub.status.idle": "2020-11-03T03:37:01.362966Z",
     "shell.execute_reply": "2020-11-03T03:37:01.363418Z"
    }
   },
   "outputs": [],
   "source": [
    "plot_spatial_weights(kernelWa, df)"
   ]
  },
  {
   "cell_type": "code",
   "execution_count": null,
   "metadata": {
    "execution": {
     "iopub.execute_input": "2020-11-03T03:37:01.366896Z",
     "iopub.status.busy": "2020-11-03T03:37:01.366318Z",
     "iopub.status.idle": "2020-11-03T03:37:01.368541Z",
     "shell.execute_reply": "2020-11-03T03:37:01.369000Z"
    }
   },
   "outputs": [],
   "source": [
    "kernelWa.bandwidth"
   ]
  },
  {
   "cell_type": "code",
   "execution_count": null,
   "metadata": {
    "execution": {
     "iopub.execute_input": "2020-11-03T03:37:01.372023Z",
     "iopub.status.busy": "2020-11-03T03:37:01.371599Z",
     "iopub.status.idle": "2020-11-03T03:37:02.230369Z",
     "shell.execute_reply": "2020-11-03T03:37:02.230815Z"
    }
   },
   "outputs": [],
   "source": [
    "df.assign(bw=kernelWa.bandwidth.flatten()).plot('bw', cmap='Reds')"
   ]
  },
  {
   "cell_type": "markdown",
   "metadata": {},
   "source": [
    "## Block Weights"
   ]
  },
  {
   "cell_type": "code",
   "execution_count": null,
   "metadata": {
    "execution": {
     "iopub.execute_input": "2020-11-03T03:37:02.235163Z",
     "iopub.status.busy": "2020-11-03T03:37:02.234480Z",
     "iopub.status.idle": "2020-11-03T03:37:02.365131Z",
     "shell.execute_reply": "2020-11-03T03:37:02.365601Z"
    }
   },
   "outputs": [],
   "source": [
    "w,s,e,n = df.total_bounds"
   ]
  },
  {
   "cell_type": "code",
   "execution_count": null,
   "metadata": {
    "execution": {
     "iopub.execute_input": "2020-11-03T03:37:02.368676Z",
     "iopub.status.busy": "2020-11-03T03:37:02.368223Z",
     "iopub.status.idle": "2020-11-03T03:37:02.369864Z",
     "shell.execute_reply": "2020-11-03T03:37:02.370362Z"
    }
   },
   "outputs": [],
   "source": [
    "mx = (w+e)/2\n",
    "my = (n+s)/2"
   ]
  },
  {
   "cell_type": "code",
   "execution_count": null,
   "metadata": {
    "execution": {
     "iopub.execute_input": "2020-11-03T03:37:02.372842Z",
     "iopub.status.busy": "2020-11-03T03:37:02.372334Z",
     "iopub.status.idle": "2020-11-03T03:37:02.374014Z",
     "shell.execute_reply": "2020-11-03T03:37:02.374452Z"
    }
   },
   "outputs": [],
   "source": [
    "import shapely"
   ]
  },
  {
   "cell_type": "code",
   "execution_count": null,
   "metadata": {
    "execution": {
     "iopub.execute_input": "2020-11-03T03:37:02.376973Z",
     "iopub.status.busy": "2020-11-03T03:37:02.376554Z",
     "iopub.status.idle": "2020-11-03T03:37:02.406446Z",
     "shell.execute_reply": "2020-11-03T03:37:02.406948Z"
    }
   },
   "outputs": [],
   "source": [
    "centroids = df.geometry.centroid"
   ]
  },
  {
   "cell_type": "code",
   "execution_count": null,
   "metadata": {
    "execution": {
     "iopub.execute_input": "2020-11-03T03:37:02.410441Z",
     "iopub.status.busy": "2020-11-03T03:37:02.409994Z",
     "iopub.status.idle": "2020-11-03T03:37:02.477827Z",
     "shell.execute_reply": "2020-11-03T03:37:02.478301Z"
    }
   },
   "outputs": [],
   "source": [
    "lon = centroids.apply(lambda p: p.x).values\n",
    "lat = centroids.apply(lambda p: p.y).values"
   ]
  },
  {
   "cell_type": "code",
   "execution_count": null,
   "metadata": {
    "execution": {
     "iopub.execute_input": "2020-11-03T03:37:02.481523Z",
     "iopub.status.busy": "2020-11-03T03:37:02.481053Z",
     "iopub.status.idle": "2020-11-03T03:37:02.482579Z",
     "shell.execute_reply": "2020-11-03T03:37:02.483050Z"
    }
   },
   "outputs": [],
   "source": [
    "north = lat > my\n",
    "south = lat <= my\n",
    "east = lon > mx\n",
    "west = lon <= mx"
   ]
  },
  {
   "cell_type": "code",
   "execution_count": null,
   "metadata": {
    "execution": {
     "iopub.execute_input": "2020-11-03T03:37:02.486049Z",
     "iopub.status.busy": "2020-11-03T03:37:02.485628Z",
     "iopub.status.idle": "2020-11-03T03:37:02.487371Z",
     "shell.execute_reply": "2020-11-03T03:37:02.487847Z"
    }
   },
   "outputs": [],
   "source": [
    "nw = west * north * 2\n",
    "ne = east * north * 1\n",
    "sw = west * south * 3\n",
    "se = east * south *4\n",
    "quad = nw + ne + sw + se"
   ]
  },
  {
   "cell_type": "code",
   "execution_count": null,
   "metadata": {
    "execution": {
     "iopub.execute_input": "2020-11-03T03:37:02.490776Z",
     "iopub.status.busy": "2020-11-03T03:37:02.490292Z",
     "iopub.status.idle": "2020-11-03T03:37:02.492559Z",
     "shell.execute_reply": "2020-11-03T03:37:02.493065Z"
    }
   },
   "outputs": [],
   "source": [
    "quad"
   ]
  },
  {
   "cell_type": "code",
   "execution_count": null,
   "metadata": {
    "execution": {
     "iopub.execute_input": "2020-11-03T03:37:02.507919Z",
     "iopub.status.busy": "2020-11-03T03:37:02.507442Z",
     "iopub.status.idle": "2020-11-03T03:37:03.340707Z",
     "shell.execute_reply": "2020-11-03T03:37:03.341155Z"
    }
   },
   "outputs": [],
   "source": [
    "df['quad'] = quad\n",
    "df.plot(column=\"quad\", categorical=True)"
   ]
  },
  {
   "cell_type": "code",
   "execution_count": null,
   "metadata": {
    "execution": {
     "iopub.execute_input": "2020-11-03T03:37:03.345605Z",
     "iopub.status.busy": "2020-11-03T03:37:03.344937Z",
     "iopub.status.idle": "2020-11-03T03:37:09.164524Z",
     "shell.execute_reply": "2020-11-03T03:37:09.165113Z"
    }
   },
   "outputs": [],
   "source": [
    "blockW = libpysal.weights.block_weights(df[\"quad\"])"
   ]
  },
  {
   "cell_type": "code",
   "execution_count": null,
   "metadata": {
    "execution": {
     "iopub.execute_input": "2020-11-03T03:37:09.168360Z",
     "iopub.status.busy": "2020-11-03T03:37:09.167800Z",
     "iopub.status.idle": "2020-11-03T03:37:09.170161Z",
     "shell.execute_reply": "2020-11-03T03:37:09.170681Z"
    }
   },
   "outputs": [],
   "source": [
    "blockW.n"
   ]
  },
  {
   "cell_type": "code",
   "execution_count": null,
   "metadata": {
    "execution": {
     "iopub.execute_input": "2020-11-03T03:37:09.173782Z",
     "iopub.status.busy": "2020-11-03T03:37:09.173228Z",
     "iopub.status.idle": "2020-11-03T03:37:09.175489Z",
     "shell.execute_reply": "2020-11-03T03:37:09.176023Z"
    }
   },
   "outputs": [],
   "source": [
    "blockW.pct_nonzero"
   ]
  },
  {
   "cell_type": "code",
   "execution_count": null,
   "metadata": {
    "execution": {
     "iopub.execute_input": "2020-11-03T03:37:09.192879Z",
     "iopub.status.busy": "2020-11-03T03:37:09.192382Z",
     "iopub.status.idle": "2020-11-03T03:37:09.316638Z",
     "shell.execute_reply": "2020-11-03T03:37:09.317124Z"
    }
   },
   "outputs": [],
   "source": [
    "pandas.Series(blockW.cardinalities).plot.hist()"
   ]
  },
  {
   "cell_type": "code",
   "execution_count": null,
   "metadata": {
    "execution": {
     "iopub.execute_input": "2020-11-03T03:37:09.324993Z",
     "iopub.status.busy": "2020-11-03T03:37:09.324532Z",
     "iopub.status.idle": "2020-11-03T03:37:09.339191Z",
     "shell.execute_reply": "2020-11-03T03:37:09.339660Z"
    }
   },
   "outputs": [],
   "source": [
    "df.groupby(by='quad').count()"
   ]
  },
  {
   "cell_type": "code",
   "execution_count": null,
   "metadata": {
    "execution": {
     "iopub.execute_input": "2020-11-03T03:37:09.342275Z",
     "iopub.status.busy": "2020-11-03T03:37:09.341843Z",
     "iopub.status.idle": "2020-11-03T03:37:09.343802Z",
     "shell.execute_reply": "2020-11-03T03:37:09.344255Z"
    }
   },
   "outputs": [],
   "source": [
    "#plot_spatial_weights(blockW, df)"
   ]
  },
  {
   "cell_type": "code",
   "execution_count": null,
   "metadata": {},
   "outputs": [],
   "source": []
  },
  {
   "cell_type": "markdown",
   "metadata": {},
   "source": [
    "<div class=\"alert alert-success\" style=\"font-size:120%\">\n",
    "<b>Exercise</b>: <br>\n",
    "    Which spatial weights structure would be more dense, tracts based on rook contiguity or SoCal tracts based on knn with k=4?\n",
    "</div>"
   ]
  },
  {
   "cell_type": "markdown",
   "metadata": {},
   "source": [
    "<div class=\"alert alert-success\" style=\"font-size:120%\">\n",
    "<b>Exercise</b>: <br>\n",
    "    How many tracts have fewer neighbors under rook contiguity relative to knn4?\n",
    "</div>"
   ]
  },
  {
   "cell_type": "markdown",
   "metadata": {},
   "source": [
    "<div class=\"alert alert-success\" style=\"font-size:120%\">\n",
    "<b>Exercise</b>: <br>\n",
    "    How many tracts have identical neighbors under queen contiguity and queen rook contiguity?\n",
    "</div>"
   ]
  },
  {
   "cell_type": "code",
   "execution_count": null,
   "metadata": {
    "execution": {
     "iopub.execute_input": "2020-11-03T03:37:09.347021Z",
     "iopub.status.busy": "2020-11-03T03:37:09.346592Z",
     "iopub.status.idle": "2020-11-03T03:37:09.348272Z",
     "shell.execute_reply": "2020-11-03T03:37:09.348725Z"
    }
   },
   "outputs": [],
   "source": [
    "# %load solutions/02.py"
   ]
  },
  {
   "cell_type": "markdown",
   "metadata": {},
   "source": [
    "---\n",
    "\n",
    "<a rel=\"license\" href=\"http://creativecommons.org/licenses/by-nc-\n",
    "sa/4.0/\"><img alt=\"Creative Commons License\" style=\"border-width:0\"\n",
    "src=\"https://i.creativecommons.org/l/by-nc-sa/4.0/88x31.png\" /></a><br /><span\n",
    "xmlns:dct=\"http://purl.org/dc/terms/\" property=\"dct:title\">Spatial Weights</span> by <a xmlns:cc=\"http://creativecommons.org/ns#\"\n",
    "href=\"http://sergerey.org\" property=\"cc:attributionName\"\n",
    "rel=\"cc:attributionURL\">Serge Rey</a> is licensed under a <a\n",
    "rel=\"license\" href=\"http://creativecommons.org/licenses/by-nc-sa/4.0/\">Creative\n",
    "Commons Attribution-NonCommercial-ShareAlike 4.0 International License</a>."
   ]
  }
 ],
 "metadata": {
  "anaconda-cloud": {},
  "jupytext": {
   "formats": "ipynb,md"
  },
  "kernelspec": {
   "display_name": "Python [conda env:pysal-workshop]",
   "language": "python",
   "name": "conda-env-pysal-workshop-py"
  },
  "language_info": {
   "codemirror_mode": {
    "name": "ipython",
    "version": 3
   },
   "file_extension": ".py",
   "mimetype": "text/x-python",
   "name": "python",
   "nbconvert_exporter": "python",
   "pygments_lexer": "ipython3",
   "version": "3.7.8"
  },
  "widgets": {
   "application/vnd.jupyter.widget-state+json": {
    "state": {},
    "version_major": 2,
    "version_minor": 0
   }
  }
 },
 "nbformat": 4,
 "nbformat_minor": 4
}
