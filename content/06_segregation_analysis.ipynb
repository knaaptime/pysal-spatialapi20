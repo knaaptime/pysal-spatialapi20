{
 "cells": [
  {
   "cell_type": "markdown",
   "metadata": {},
   "source": [
    "# Segregation Analysis with PySAL"
   ]
  },
  {
   "cell_type": "code",
   "execution_count": null,
   "metadata": {
    "execution": {
     "iopub.execute_input": "2020-11-03T03:38:58.471700Z",
     "iopub.status.busy": "2020-11-03T03:38:58.471133Z",
     "iopub.status.idle": "2020-11-03T03:38:58.602054Z",
     "shell.execute_reply": "2020-11-03T03:38:58.602586Z"
    }
   },
   "outputs": [],
   "source": [
    "%load_ext watermark\n",
    "%load_ext autoreload\n",
    "%autoreload 2"
   ]
  },
  {
   "cell_type": "code",
   "execution_count": null,
   "metadata": {
    "execution": {
     "iopub.execute_input": "2020-11-03T03:38:58.605931Z",
     "iopub.status.busy": "2020-11-03T03:38:58.605447Z",
     "iopub.status.idle": "2020-11-03T03:39:00.113136Z",
     "shell.execute_reply": "2020-11-03T03:39:00.113805Z"
    }
   },
   "outputs": [],
   "source": [
    "%watermark -v -a \"author: eli knaap\" -d -u -p segregation,libpysal,geopandas"
   ]
  },
  {
   "cell_type": "markdown",
   "metadata": {},
   "source": [
    "Here, we'll use PySAL's `segregation` module to analyze racial segregation in southern california"
   ]
  },
  {
   "cell_type": "code",
   "execution_count": null,
   "metadata": {
    "execution": {
     "iopub.execute_input": "2020-11-03T03:39:00.116873Z",
     "iopub.status.busy": "2020-11-03T03:39:00.116276Z",
     "iopub.status.idle": "2020-11-03T03:39:00.152907Z",
     "shell.execute_reply": "2020-11-03T03:39:00.153459Z"
    }
   },
   "outputs": [],
   "source": [
    "import geopandas as gpd"
   ]
  },
  {
   "cell_type": "markdown",
   "metadata": {},
   "source": [
    "## Data Prep"
   ]
  },
  {
   "cell_type": "code",
   "execution_count": null,
   "metadata": {
    "execution": {
     "iopub.execute_input": "2020-11-03T03:39:00.156438Z",
     "iopub.status.busy": "2020-11-03T03:39:00.155892Z",
     "iopub.status.idle": "2020-11-03T03:39:01.066497Z",
     "shell.execute_reply": "2020-11-03T03:39:01.067107Z"
    }
   },
   "outputs": [],
   "source": [
    "scag = gpd.read_file(\"data/scag_region.gpkg\", layer=\"tracts\")"
   ]
  },
  {
   "cell_type": "markdown",
   "metadata": {},
   "source": [
    "We need to reproject the data into a more appropriate coordinate system. UTM11 should work "
   ]
  },
  {
   "cell_type": "code",
   "execution_count": null,
   "metadata": {
    "execution": {
     "iopub.execute_input": "2020-11-03T03:39:01.070228Z",
     "iopub.status.busy": "2020-11-03T03:39:01.069661Z",
     "iopub.status.idle": "2020-11-03T03:39:01.606865Z",
     "shell.execute_reply": "2020-11-03T03:39:01.607332Z"
    }
   },
   "outputs": [],
   "source": [
    "scag = scag.to_crs(epsg=26911)\n",
    "scag.crs"
   ]
  },
  {
   "cell_type": "code",
   "execution_count": null,
   "metadata": {
    "execution": {
     "iopub.execute_input": "2020-11-03T03:39:01.610377Z",
     "iopub.status.busy": "2020-11-03T03:39:01.609877Z",
     "iopub.status.idle": "2020-11-03T03:39:02.766593Z",
     "shell.execute_reply": "2020-11-03T03:39:02.767097Z"
    }
   },
   "outputs": [],
   "source": [
    "scag.dropna(subset=['p_hispanic_persons']).plot(column='p_hispanic_persons',\n",
    "                                                scheme='quantiles', \n",
    "                                                cmap='Blues',\n",
    "                                                k=8, \n",
    "                                                legend=True)"
   ]
  },
  {
   "cell_type": "markdown",
   "metadata": {},
   "source": [
    "some background on [fips codes](https://www.policymap.com/2012/08/tips-on-fips-a-quick-guide-to-geographic-place-codes-part-iii/)"
   ]
  },
  {
   "cell_type": "code",
   "execution_count": null,
   "metadata": {
    "execution": {
     "iopub.execute_input": "2020-11-03T03:39:02.770095Z",
     "iopub.status.busy": "2020-11-03T03:39:02.769658Z",
     "iopub.status.idle": "2020-11-03T03:39:02.808276Z",
     "shell.execute_reply": "2020-11-03T03:39:02.808797Z"
    }
   },
   "outputs": [],
   "source": [
    "scag['county'] = scag.geoid.str[:5]"
   ]
  },
  {
   "cell_type": "code",
   "execution_count": null,
   "metadata": {
    "execution": {
     "iopub.execute_input": "2020-11-03T03:39:02.811713Z",
     "iopub.status.busy": "2020-11-03T03:39:02.811201Z",
     "iopub.status.idle": "2020-11-03T03:39:02.852647Z",
     "shell.execute_reply": "2020-11-03T03:39:02.853192Z"
    }
   },
   "outputs": [],
   "source": [
    "scag.county.unique()"
   ]
  },
  {
   "cell_type": "code",
   "execution_count": null,
   "metadata": {
    "execution": {
     "iopub.execute_input": "2020-11-03T03:39:02.856189Z",
     "iopub.status.busy": "2020-11-03T03:39:02.855694Z",
     "iopub.status.idle": "2020-11-03T03:39:02.895071Z",
     "shell.execute_reply": "2020-11-03T03:39:02.895587Z"
    }
   },
   "outputs": [],
   "source": [
    "county_names = [\"Los Angeles\", \"Imperial\", \"Orange\", \"San Bernadino\", \"San Diego\", \"Riverside\", \"Ventura\"]"
   ]
  },
  {
   "cell_type": "code",
   "execution_count": null,
   "metadata": {
    "execution": {
     "iopub.execute_input": "2020-11-03T03:39:02.898681Z",
     "iopub.status.busy": "2020-11-03T03:39:02.898197Z",
     "iopub.status.idle": "2020-11-03T03:39:02.937811Z",
     "shell.execute_reply": "2020-11-03T03:39:02.938338Z"
    }
   },
   "outputs": [],
   "source": [
    "namer = dict(zip(scag.county.unique(), county_names))"
   ]
  },
  {
   "cell_type": "code",
   "execution_count": null,
   "metadata": {
    "execution": {
     "iopub.execute_input": "2020-11-03T03:39:02.941279Z",
     "iopub.status.busy": "2020-11-03T03:39:02.940790Z",
     "iopub.status.idle": "2020-11-03T03:39:02.980662Z",
     "shell.execute_reply": "2020-11-03T03:39:02.980120Z"
    }
   },
   "outputs": [],
   "source": [
    "namer"
   ]
  },
  {
   "cell_type": "markdown",
   "metadata": {},
   "source": [
    "Now that we know which county is which, we could just use these codes to divide up the region into pieces. But lets go ahead and replace the codes with their names. It's more to type, but if we want to subset later, we won't have to go look up the codes again"
   ]
  },
  {
   "cell_type": "code",
   "execution_count": null,
   "metadata": {
    "execution": {
     "iopub.execute_input": "2020-11-03T03:39:02.983559Z",
     "iopub.status.busy": "2020-11-03T03:39:02.983071Z",
     "iopub.status.idle": "2020-11-03T03:39:03.023653Z",
     "shell.execute_reply": "2020-11-03T03:39:03.024174Z"
    }
   },
   "outputs": [],
   "source": [
    "scag['county'] = scag.county.replace(to_replace=namer)"
   ]
  },
  {
   "cell_type": "code",
   "execution_count": null,
   "metadata": {
    "execution": {
     "iopub.execute_input": "2020-11-03T03:39:03.027166Z",
     "iopub.status.busy": "2020-11-03T03:39:03.026673Z",
     "iopub.status.idle": "2020-11-03T03:39:03.067249Z",
     "shell.execute_reply": "2020-11-03T03:39:03.067773Z"
    }
   },
   "outputs": [],
   "source": [
    "scag.county"
   ]
  },
  {
   "cell_type": "code",
   "execution_count": null,
   "metadata": {
    "execution": {
     "iopub.execute_input": "2020-11-03T03:39:03.070792Z",
     "iopub.status.busy": "2020-11-03T03:39:03.070297Z",
     "iopub.status.idle": "2020-11-03T03:39:03.113443Z",
     "shell.execute_reply": "2020-11-03T03:39:03.113037Z"
    }
   },
   "outputs": [],
   "source": [
    "coastal = scag[scag.county.isin([\"Los Angeles\", \"Orange\", \"San Diego\", \"Ventura\"])]"
   ]
  },
  {
   "cell_type": "code",
   "execution_count": null,
   "metadata": {
    "execution": {
     "iopub.execute_input": "2020-11-03T03:39:03.116654Z",
     "iopub.status.busy": "2020-11-03T03:39:03.116139Z",
     "iopub.status.idle": "2020-11-03T03:39:03.158942Z",
     "shell.execute_reply": "2020-11-03T03:39:03.159491Z"
    }
   },
   "outputs": [],
   "source": [
    "inland = scag[scag.county.isin(['Riverside', \"San Bernadino\", \"Imperial\"])]"
   ]
  },
  {
   "cell_type": "code",
   "execution_count": null,
   "metadata": {
    "execution": {
     "iopub.execute_input": "2020-11-03T03:39:03.162696Z",
     "iopub.status.busy": "2020-11-03T03:39:03.162180Z",
     "iopub.status.idle": "2020-11-03T03:39:03.926101Z",
     "shell.execute_reply": "2020-11-03T03:39:03.926544Z"
    }
   },
   "outputs": [],
   "source": [
    "coastal.plot(column='county')"
   ]
  },
  {
   "cell_type": "code",
   "execution_count": null,
   "metadata": {
    "execution": {
     "iopub.execute_input": "2020-11-03T03:39:03.930227Z",
     "iopub.status.busy": "2020-11-03T03:39:03.929801Z",
     "iopub.status.idle": "2020-11-03T03:39:04.247317Z",
     "shell.execute_reply": "2020-11-03T03:39:04.247933Z"
    }
   },
   "outputs": [],
   "source": [
    "inland.plot(column='county')"
   ]
  },
  {
   "cell_type": "markdown",
   "metadata": {},
   "source": [
    "## Calculating Segregation Measures"
   ]
  },
  {
   "cell_type": "markdown",
   "metadata": {},
   "source": []
  },
  {
   "cell_type": "markdown",
   "metadata": {},
   "source": [
    "### Classic (aspatial) Single-Group Indices"
   ]
  },
  {
   "cell_type": "code",
   "execution_count": null,
   "metadata": {
    "execution": {
     "iopub.execute_input": "2020-11-03T03:39:04.251135Z",
     "iopub.status.busy": "2020-11-03T03:39:04.250685Z",
     "iopub.status.idle": "2020-11-03T03:39:04.286205Z",
     "shell.execute_reply": "2020-11-03T03:39:04.286670Z"
    }
   },
   "outputs": [],
   "source": [
    "from segregation.aspatial import Dissim, GiniSeg, Entropy"
   ]
  },
  {
   "cell_type": "code",
   "execution_count": null,
   "metadata": {
    "execution": {
     "iopub.execute_input": "2020-11-03T03:39:04.289726Z",
     "iopub.status.busy": "2020-11-03T03:39:04.289265Z",
     "iopub.status.idle": "2020-11-03T03:39:04.580091Z",
     "shell.execute_reply": "2020-11-03T03:39:04.580656Z"
    }
   },
   "outputs": [],
   "source": [
    "dissim = Dissim(scag, \"n_hispanic_persons\", \"n_total_pop\")\n",
    "gini = GiniSeg(scag, \"n_hispanic_persons\", \"n_total_pop\")\n",
    "entropy = Entropy(scag, \"n_hispanic_persons\", \"n_total_pop\")"
   ]
  },
  {
   "cell_type": "code",
   "execution_count": null,
   "metadata": {
    "execution": {
     "iopub.execute_input": "2020-11-03T03:39:04.583581Z",
     "iopub.status.busy": "2020-11-03T03:39:04.583078Z",
     "iopub.status.idle": "2020-11-03T03:39:04.624740Z",
     "shell.execute_reply": "2020-11-03T03:39:04.625265Z"
    }
   },
   "outputs": [],
   "source": [
    "dissim.statistic"
   ]
  },
  {
   "cell_type": "code",
   "execution_count": null,
   "metadata": {
    "execution": {
     "iopub.execute_input": "2020-11-03T03:39:04.628033Z",
     "iopub.status.busy": "2020-11-03T03:39:04.627535Z",
     "iopub.status.idle": "2020-11-03T03:39:04.667835Z",
     "shell.execute_reply": "2020-11-03T03:39:04.668406Z"
    }
   },
   "outputs": [],
   "source": [
    "gini.statistic"
   ]
  },
  {
   "cell_type": "code",
   "execution_count": null,
   "metadata": {
    "execution": {
     "iopub.execute_input": "2020-11-03T03:39:04.671138Z",
     "iopub.status.busy": "2020-11-03T03:39:04.670652Z",
     "iopub.status.idle": "2020-11-03T03:39:04.710057Z",
     "shell.execute_reply": "2020-11-03T03:39:04.710625Z"
    }
   },
   "outputs": [],
   "source": [
    "entropy.statistic"
   ]
  },
  {
   "cell_type": "markdown",
   "metadata": {},
   "source": [
    "### Multigroup Indices"
   ]
  },
  {
   "cell_type": "code",
   "execution_count": null,
   "metadata": {
    "execution": {
     "iopub.execute_input": "2020-11-03T03:39:04.713575Z",
     "iopub.status.busy": "2020-11-03T03:39:04.713070Z",
     "iopub.status.idle": "2020-11-03T03:39:04.752127Z",
     "shell.execute_reply": "2020-11-03T03:39:04.752645Z"
    }
   },
   "outputs": [],
   "source": [
    "from segregation.aspatial import MultiInformationTheory, MultiGiniSeg, MultiDiversity"
   ]
  },
  {
   "cell_type": "code",
   "execution_count": null,
   "metadata": {
    "execution": {
     "iopub.execute_input": "2020-11-03T03:39:04.755683Z",
     "iopub.status.busy": "2020-11-03T03:39:04.755198Z",
     "iopub.status.idle": "2020-11-03T03:39:04.794353Z",
     "shell.execute_reply": "2020-11-03T03:39:04.794876Z"
    }
   },
   "outputs": [],
   "source": [
    "pop_groups = ['n_asian_persons', 'n_hispanic_persons', 'n_nonhisp_black_persons', 'n_nonhisp_white_persons']"
   ]
  },
  {
   "cell_type": "code",
   "execution_count": null,
   "metadata": {
    "execution": {
     "iopub.execute_input": "2020-11-03T03:39:04.798013Z",
     "iopub.status.busy": "2020-11-03T03:39:04.797517Z",
     "iopub.status.idle": "2020-11-03T03:39:04.838615Z",
     "shell.execute_reply": "2020-11-03T03:39:04.839182Z"
    }
   },
   "outputs": [],
   "source": [
    "multi_div = MultiDiversity(scag, pop_groups)\n",
    "multi_info = MultiInformationTheory(scag, pop_groups)"
   ]
  },
  {
   "cell_type": "code",
   "execution_count": null,
   "metadata": {
    "execution": {
     "iopub.execute_input": "2020-11-03T03:39:04.842360Z",
     "iopub.status.busy": "2020-11-03T03:39:04.841778Z",
     "iopub.status.idle": "2020-11-03T03:39:04.880553Z",
     "shell.execute_reply": "2020-11-03T03:39:04.880913Z"
    }
   },
   "outputs": [],
   "source": [
    "multi_div.statistic"
   ]
  },
  {
   "cell_type": "code",
   "execution_count": null,
   "metadata": {
    "execution": {
     "iopub.execute_input": "2020-11-03T03:39:04.883716Z",
     "iopub.status.busy": "2020-11-03T03:39:04.883223Z",
     "iopub.status.idle": "2020-11-03T03:39:04.918936Z",
     "shell.execute_reply": "2020-11-03T03:39:04.919438Z"
    }
   },
   "outputs": [],
   "source": [
    "multi_info.statistic"
   ]
  },
  {
   "cell_type": "code",
   "execution_count": null,
   "metadata": {},
   "outputs": [],
   "source": []
  },
  {
   "cell_type": "code",
   "execution_count": null,
   "metadata": {},
   "outputs": [],
   "source": []
  },
  {
   "cell_type": "markdown",
   "metadata": {},
   "source": [
    "### Spatial Indices"
   ]
  },
  {
   "cell_type": "code",
   "execution_count": null,
   "metadata": {},
   "outputs": [],
   "source": []
  },
  {
   "cell_type": "code",
   "execution_count": null,
   "metadata": {
    "execution": {
     "iopub.execute_input": "2020-11-03T03:39:04.922200Z",
     "iopub.status.busy": "2020-11-03T03:39:04.921778Z",
     "iopub.status.idle": "2020-11-03T03:39:04.953988Z",
     "shell.execute_reply": "2020-11-03T03:39:04.954464Z"
    }
   },
   "outputs": [],
   "source": [
    "from libpysal import weights"
   ]
  },
  {
   "cell_type": "code",
   "execution_count": null,
   "metadata": {
    "execution": {
     "iopub.execute_input": "2020-11-03T03:39:04.957569Z",
     "iopub.status.busy": "2020-11-03T03:39:04.957132Z",
     "iopub.status.idle": "2020-11-03T03:39:04.994985Z",
     "shell.execute_reply": "2020-11-03T03:39:04.995503Z"
    }
   },
   "outputs": [],
   "source": [
    "from segregation.spatial import SpatialDissim,  SpatialInformationTheory"
   ]
  },
  {
   "cell_type": "code",
   "execution_count": null,
   "metadata": {
    "execution": {
     "iopub.execute_input": "2020-11-03T03:39:04.998853Z",
     "iopub.status.busy": "2020-11-03T03:39:04.998245Z",
     "iopub.status.idle": "2020-11-03T03:39:05.876587Z",
     "shell.execute_reply": "2020-11-03T03:39:05.877127Z"
    }
   },
   "outputs": [],
   "source": [
    "w_queen = weights.Queen.from_dataframe(scag)\n",
    "w_knn = weights.KNN.from_dataframe(scag, k=10)"
   ]
  },
  {
   "cell_type": "markdown",
   "metadata": {},
   "source": [
    "#### Single Group"
   ]
  },
  {
   "cell_type": "code",
   "execution_count": null,
   "metadata": {
    "execution": {
     "iopub.execute_input": "2020-11-03T03:39:05.880317Z",
     "iopub.status.busy": "2020-11-03T03:39:05.879808Z",
     "iopub.status.idle": "2020-11-03T03:39:06.847084Z",
     "shell.execute_reply": "2020-11-03T03:39:06.847728Z"
    }
   },
   "outputs": [],
   "source": [
    "spatial_dissim = SpatialDissim(scag, 'n_hispanic_persons', 'n_total_pop', w=w_queen)"
   ]
  },
  {
   "cell_type": "code",
   "execution_count": null,
   "metadata": {
    "execution": {
     "iopub.execute_input": "2020-11-03T03:39:06.851219Z",
     "iopub.status.busy": "2020-11-03T03:39:06.850651Z",
     "iopub.status.idle": "2020-11-03T03:39:06.891100Z",
     "shell.execute_reply": "2020-11-03T03:39:06.891650Z"
    }
   },
   "outputs": [],
   "source": [
    "spatial_dissim.statistic"
   ]
  },
  {
   "cell_type": "code",
   "execution_count": null,
   "metadata": {
    "execution": {
     "iopub.execute_input": "2020-11-03T03:39:06.894574Z",
     "iopub.status.busy": "2020-11-03T03:39:06.894074Z",
     "iopub.status.idle": "2020-11-03T03:39:08.164098Z",
     "shell.execute_reply": "2020-11-03T03:39:08.164583Z"
    }
   },
   "outputs": [],
   "source": [
    "spatial_dissim_dist = SpatialDissim(scag, 'n_hispanic_persons', 'n_total_pop', w=w_knn)"
   ]
  },
  {
   "cell_type": "code",
   "execution_count": null,
   "metadata": {
    "execution": {
     "iopub.execute_input": "2020-11-03T03:39:08.167960Z",
     "iopub.status.busy": "2020-11-03T03:39:08.167376Z",
     "iopub.status.idle": "2020-11-03T03:39:08.208879Z",
     "shell.execute_reply": "2020-11-03T03:39:08.209412Z"
    }
   },
   "outputs": [],
   "source": [
    "spatial_dissim_dist.statistic"
   ]
  },
  {
   "cell_type": "markdown",
   "metadata": {},
   "source": [
    "#### Multi Group"
   ]
  },
  {
   "cell_type": "markdown",
   "metadata": {},
   "source": [
    "we can also look at how different concepts of space influence the resulting index statistic"
   ]
  },
  {
   "cell_type": "code",
   "execution_count": null,
   "metadata": {
    "execution": {
     "iopub.execute_input": "2020-11-03T03:39:08.212635Z",
     "iopub.status.busy": "2020-11-03T03:39:08.212133Z",
     "iopub.status.idle": "2020-11-03T03:39:08.359490Z",
     "shell.execute_reply": "2020-11-03T03:39:08.359954Z"
    }
   },
   "outputs": [],
   "source": [
    "spatial_info_queen = SpatialInformationTheory(scag, pop_groups, w=w_queen)\n",
    "spatial_info_dist = SpatialInformationTheory(scag, pop_groups, w=w_knn)"
   ]
  },
  {
   "cell_type": "code",
   "execution_count": null,
   "metadata": {
    "execution": {
     "iopub.execute_input": "2020-11-03T03:39:08.362754Z",
     "iopub.status.busy": "2020-11-03T03:39:08.362292Z",
     "iopub.status.idle": "2020-11-03T03:39:08.400279Z",
     "shell.execute_reply": "2020-11-03T03:39:08.400852Z"
    }
   },
   "outputs": [],
   "source": [
    "spatial_info_queen.statistic"
   ]
  },
  {
   "cell_type": "code",
   "execution_count": null,
   "metadata": {
    "execution": {
     "iopub.execute_input": "2020-11-03T03:39:08.403486Z",
     "iopub.status.busy": "2020-11-03T03:39:08.403000Z",
     "iopub.status.idle": "2020-11-03T03:39:08.440910Z",
     "shell.execute_reply": "2020-11-03T03:39:08.441432Z"
    }
   },
   "outputs": [],
   "source": [
    "spatial_info_dist.statistic"
   ]
  },
  {
   "cell_type": "markdown",
   "metadata": {},
   "source": [
    "#### Multiscalar Profile"
   ]
  },
  {
   "cell_type": "markdown",
   "metadata": {},
   "source": [
    "The multiscalar segregation profile is a way of measuring how global versus local the segregation patterns are in a region. "
   ]
  },
  {
   "cell_type": "code",
   "execution_count": null,
   "metadata": {
    "execution": {
     "iopub.execute_input": "2020-11-03T03:39:08.444446Z",
     "iopub.status.busy": "2020-11-03T03:39:08.443953Z",
     "iopub.status.idle": "2020-11-03T03:39:08.477779Z",
     "shell.execute_reply": "2020-11-03T03:39:08.478270Z"
    }
   },
   "outputs": [],
   "source": [
    "from segregation.spatial import compute_segregation_profile"
   ]
  },
  {
   "cell_type": "code",
   "execution_count": null,
   "metadata": {
    "execution": {
     "iopub.execute_input": "2020-11-03T03:39:08.481337Z",
     "iopub.status.busy": "2020-11-03T03:39:08.480851Z",
     "iopub.status.idle": "2020-11-03T03:39:08.519846Z",
     "shell.execute_reply": "2020-11-03T03:39:08.520372Z"
    }
   },
   "outputs": [],
   "source": [
    "distances = [1500., 2500., 3500., 4500., 5500.]"
   ]
  },
  {
   "cell_type": "code",
   "execution_count": null,
   "metadata": {
    "execution": {
     "iopub.execute_input": "2020-11-03T03:39:08.523442Z",
     "iopub.status.busy": "2020-11-03T03:39:08.522951Z",
     "iopub.status.idle": "2020-11-03T03:39:20.679431Z",
     "shell.execute_reply": "2020-11-03T03:39:20.680030Z"
    }
   },
   "outputs": [],
   "source": [
    "prof = compute_segregation_profile(scag, pop_groups, distances)"
   ]
  },
  {
   "cell_type": "code",
   "execution_count": null,
   "metadata": {
    "execution": {
     "iopub.execute_input": "2020-11-03T03:39:20.683035Z",
     "iopub.status.busy": "2020-11-03T03:39:20.682467Z",
     "iopub.status.idle": "2020-11-03T03:39:20.829141Z",
     "shell.execute_reply": "2020-11-03T03:39:20.828488Z"
    }
   },
   "outputs": [],
   "source": [
    "import pandas as pd\n",
    "pd.Series(prof).plot()"
   ]
  },
  {
   "cell_type": "markdown",
   "metadata": {},
   "source": [
    "We can also look at how the segregation profiles differ by region. If we plot them all on the same graph, we can compare the slopes of the lines to see how the shape of segregation differs between places in the southern cal region"
   ]
  },
  {
   "cell_type": "code",
   "execution_count": null,
   "metadata": {
    "execution": {
     "iopub.execute_input": "2020-11-03T03:39:20.832601Z",
     "iopub.status.busy": "2020-11-03T03:39:20.832091Z",
     "iopub.status.idle": "2020-11-03T03:39:32.921621Z",
     "shell.execute_reply": "2020-11-03T03:39:32.922066Z"
    }
   },
   "outputs": [],
   "source": [
    "coastal_prof = compute_segregation_profile(coastal, pop_groups, distances)\n",
    "inland_prof = compute_segregation_profile(inland, pop_groups, distances)"
   ]
  },
  {
   "cell_type": "code",
   "execution_count": null,
   "metadata": {
    "execution": {
     "iopub.execute_input": "2020-11-03T03:39:32.925136Z",
     "iopub.status.busy": "2020-11-03T03:39:32.924702Z",
     "iopub.status.idle": "2020-11-03T03:39:33.092348Z",
     "shell.execute_reply": "2020-11-03T03:39:33.092796Z"
    }
   },
   "outputs": [],
   "source": [
    "\n",
    "pd.Series(prof, name='socal').plot(legend=True)\n",
    "pd.Series(coastal_prof, name='coastal').plot(legend=True)\n",
    "pd.Series(inland_prof, name='inland').plot(legend=True)"
   ]
  },
  {
   "cell_type": "markdown",
   "metadata": {},
   "source": [
    "This shows that segregation in the coastal region is considerably larger than the inland region at every scale, though have similar shapes to their overall segregation profiles."
   ]
  },
  {
   "cell_type": "markdown",
   "metadata": {},
   "source": [
    "## Single-Value Inference"
   ]
  },
  {
   "cell_type": "code",
   "execution_count": null,
   "metadata": {
    "execution": {
     "iopub.execute_input": "2020-11-03T03:39:33.095540Z",
     "iopub.status.busy": "2020-11-03T03:39:33.095111Z",
     "iopub.status.idle": "2020-11-03T03:39:33.134625Z",
     "shell.execute_reply": "2020-11-03T03:39:33.135143Z"
    }
   },
   "outputs": [],
   "source": [
    "from segregation.inference import SingleValueTest"
   ]
  },
  {
   "cell_type": "code",
   "execution_count": null,
   "metadata": {
    "execution": {
     "iopub.execute_input": "2020-11-03T03:39:33.138156Z",
     "iopub.status.busy": "2020-11-03T03:39:33.137672Z",
     "iopub.status.idle": "2020-11-03T03:39:36.227739Z",
     "shell.execute_reply": "2020-11-03T03:39:36.228190Z"
    }
   },
   "outputs": [],
   "source": [
    "entropy_test = SingleValueTest(entropy)"
   ]
  },
  {
   "cell_type": "code",
   "execution_count": null,
   "metadata": {
    "execution": {
     "iopub.execute_input": "2020-11-03T03:39:36.230949Z",
     "iopub.status.busy": "2020-11-03T03:39:36.230526Z",
     "iopub.status.idle": "2020-11-03T03:39:39.288674Z",
     "shell.execute_reply": "2020-11-03T03:39:39.289120Z"
    }
   },
   "outputs": [],
   "source": [
    "dissim_test = SingleValueTest(dissim)"
   ]
  },
  {
   "cell_type": "code",
   "execution_count": null,
   "metadata": {
    "execution": {
     "iopub.execute_input": "2020-11-03T03:39:39.291725Z",
     "iopub.status.busy": "2020-11-03T03:39:39.291242Z",
     "iopub.status.idle": "2020-11-03T03:39:39.326110Z",
     "shell.execute_reply": "2020-11-03T03:39:39.326612Z"
    }
   },
   "outputs": [],
   "source": [
    "entropy_test.p_value"
   ]
  },
  {
   "cell_type": "code",
   "execution_count": null,
   "metadata": {
    "execution": {
     "iopub.execute_input": "2020-11-03T03:39:39.329234Z",
     "iopub.status.busy": "2020-11-03T03:39:39.328744Z",
     "iopub.status.idle": "2020-11-03T03:39:39.502781Z",
     "shell.execute_reply": "2020-11-03T03:39:39.503318Z"
    }
   },
   "outputs": [],
   "source": [
    "entropy_test.plot()"
   ]
  },
  {
   "cell_type": "code",
   "execution_count": null,
   "metadata": {
    "execution": {
     "iopub.execute_input": "2020-11-03T03:39:39.506420Z",
     "iopub.status.busy": "2020-11-03T03:39:39.505924Z",
     "iopub.status.idle": "2020-11-03T03:39:39.680885Z",
     "shell.execute_reply": "2020-11-03T03:39:39.681350Z"
    }
   },
   "outputs": [],
   "source": [
    "dissim_test.plot()"
   ]
  },
  {
   "cell_type": "markdown",
   "metadata": {},
   "source": [
    "## Comparative Inference"
   ]
  },
  {
   "cell_type": "code",
   "execution_count": null,
   "metadata": {
    "execution": {
     "iopub.execute_input": "2020-11-03T03:39:39.684241Z",
     "iopub.status.busy": "2020-11-03T03:39:39.683807Z",
     "iopub.status.idle": "2020-11-03T03:39:39.719978Z",
     "shell.execute_reply": "2020-11-03T03:39:39.720422Z"
    }
   },
   "outputs": [],
   "source": [
    "from segregation.inference import TwoValueTest"
   ]
  },
  {
   "cell_type": "code",
   "execution_count": null,
   "metadata": {
    "execution": {
     "iopub.execute_input": "2020-11-03T03:39:39.723351Z",
     "iopub.status.busy": "2020-11-03T03:39:39.722878Z",
     "iopub.status.idle": "2020-11-03T03:39:42.005287Z",
     "shell.execute_reply": "2020-11-03T03:39:42.005728Z"
    }
   },
   "outputs": [],
   "source": [
    "info_test = TwoValueTest(MultiInformationTheory(coastal, pop_groups),\n",
    "            MultiInformationTheory(inland, pop_groups))"
   ]
  },
  {
   "cell_type": "code",
   "execution_count": null,
   "metadata": {
    "execution": {
     "iopub.execute_input": "2020-11-03T03:39:42.008238Z",
     "iopub.status.busy": "2020-11-03T03:39:42.007805Z",
     "iopub.status.idle": "2020-11-03T03:39:42.042626Z",
     "shell.execute_reply": "2020-11-03T03:39:42.043215Z"
    }
   },
   "outputs": [],
   "source": [
    "info_test.est_point_diff"
   ]
  },
  {
   "cell_type": "code",
   "execution_count": null,
   "metadata": {
    "execution": {
     "iopub.execute_input": "2020-11-03T03:39:42.046147Z",
     "iopub.status.busy": "2020-11-03T03:39:42.045659Z",
     "iopub.status.idle": "2020-11-03T03:39:42.234253Z",
     "shell.execute_reply": "2020-11-03T03:39:42.234702Z"
    }
   },
   "outputs": [],
   "source": [
    "info_test.plot()"
   ]
  },
  {
   "cell_type": "markdown",
   "metadata": {},
   "source": [
    "## Decomposition"
   ]
  },
  {
   "cell_type": "code",
   "execution_count": null,
   "metadata": {
    "execution": {
     "iopub.execute_input": "2020-11-03T03:39:42.237660Z",
     "iopub.status.busy": "2020-11-03T03:39:42.237235Z",
     "iopub.status.idle": "2020-11-03T03:39:42.271503Z",
     "shell.execute_reply": "2020-11-03T03:39:42.271960Z"
    }
   },
   "outputs": [],
   "source": [
    "from segregation.decomposition import DecomposeSegregation"
   ]
  },
  {
   "cell_type": "code",
   "execution_count": null,
   "metadata": {
    "execution": {
     "iopub.execute_input": "2020-11-03T03:39:42.275018Z",
     "iopub.status.busy": "2020-11-03T03:39:42.274600Z",
     "iopub.status.idle": "2020-11-03T03:39:42.468897Z",
     "shell.execute_reply": "2020-11-03T03:39:42.469403Z"
    }
   },
   "outputs": [],
   "source": [
    "w_coastal = weights.DistanceBand.from_dataframe(coastal, 2000)"
   ]
  },
  {
   "cell_type": "code",
   "execution_count": null,
   "metadata": {
    "execution": {
     "iopub.execute_input": "2020-11-03T03:39:42.472191Z",
     "iopub.status.busy": "2020-11-03T03:39:42.471771Z",
     "iopub.status.idle": "2020-11-03T03:39:42.539047Z",
     "shell.execute_reply": "2020-11-03T03:39:42.539492Z"
    }
   },
   "outputs": [],
   "source": [
    "w_inland = weights.DistanceBand.from_dataframe(inland, 2000)"
   ]
  },
  {
   "cell_type": "code",
   "execution_count": null,
   "metadata": {
    "execution": {
     "iopub.execute_input": "2020-11-03T03:39:42.542379Z",
     "iopub.status.busy": "2020-11-03T03:39:42.541962Z",
     "iopub.status.idle": "2020-11-03T03:39:43.309398Z",
     "shell.execute_reply": "2020-11-03T03:39:43.310094Z"
    }
   },
   "outputs": [],
   "source": [
    "one = SpatialDissim(coastal, 'n_nonhisp_black_persons', 'n_total_pop', w=w_coastal)"
   ]
  },
  {
   "cell_type": "code",
   "execution_count": null,
   "metadata": {
    "execution": {
     "iopub.execute_input": "2020-11-03T03:39:43.313936Z",
     "iopub.status.busy": "2020-11-03T03:39:43.313341Z",
     "iopub.status.idle": "2020-11-03T03:39:47.339056Z",
     "shell.execute_reply": "2020-11-03T03:39:47.339587Z"
    }
   },
   "outputs": [],
   "source": [
    "decomp = DecomposeSegregation(SpatialDissim(coastal, 'n_nonhisp_black_persons', 'n_total_pop', w=w_coastal),\n",
    "                    SpatialDissim(inland,'n_nonhisp_black_persons', 'n_total_pop', w=w_inland))"
   ]
  },
  {
   "cell_type": "code",
   "execution_count": null,
   "metadata": {
    "execution": {
     "iopub.execute_input": "2020-11-03T03:39:47.342912Z",
     "iopub.status.busy": "2020-11-03T03:39:47.342383Z",
     "iopub.status.idle": "2020-11-03T03:39:50.158506Z",
     "shell.execute_reply": "2020-11-03T03:39:50.158954Z"
    }
   },
   "outputs": [],
   "source": [
    "decomp.plot(plot_type='maps',  scheme='equalinterval', k=10, city_a='Coastal', city_b='inland')"
   ]
  },
  {
   "cell_type": "code",
   "execution_count": null,
   "metadata": {
    "execution": {
     "iopub.execute_input": "2020-11-03T03:39:50.161837Z",
     "iopub.status.busy": "2020-11-03T03:39:50.161383Z",
     "iopub.status.idle": "2020-11-03T03:39:50.391717Z",
     "shell.execute_reply": "2020-11-03T03:39:50.391389Z"
    }
   },
   "outputs": [],
   "source": [
    "decomp.plot()"
   ]
  },
  {
   "cell_type": "markdown",
   "metadata": {},
   "source": [
    "## Exercise"
   ]
  },
  {
   "cell_type": "markdown",
   "metadata": {},
   "source": [
    "1. Which county in the socal region has the greatest level of multiracial segregation, (using the 4 categories above) according to the MultiInformationTheory index?\n",
    "\n",
    "2. According to the Gini index, is hispanic/latino segregation in Riverside County greater or less than Ventura County? Is that difference significant?\n",
    "\n",
    "3. According to the Spatial Dissimilarity index, does the difference in segregation between Riverside and Venture result from the demograpic structure or the spatial structure?"
   ]
  },
  {
   "cell_type": "code",
   "execution_count": null,
   "metadata": {
    "execution": {
     "iopub.execute_input": "2020-11-03T03:39:50.396026Z",
     "iopub.status.busy": "2020-11-03T03:39:50.395601Z",
     "iopub.status.idle": "2020-11-03T03:39:57.409739Z",
     "shell.execute_reply": "2020-11-03T03:39:57.410396Z"
    }
   },
   "outputs": [],
   "source": [
    "# %load solutions/06.py"
   ]
  },
  {
   "cell_type": "code",
   "execution_count": null,
   "metadata": {},
   "outputs": [],
   "source": []
  }
 ],
 "metadata": {
  "kernelspec": {
   "display_name": "Python [conda env:pysal-spatialapi20]",
   "language": "python",
   "name": "conda-env-pysal-spatialapi20-py"
  },
  "language_info": {
   "codemirror_mode": {
    "name": "ipython",
    "version": 3
   },
   "file_extension": ".py",
   "mimetype": "text/x-python",
   "name": "python",
   "nbconvert_exporter": "python",
   "pygments_lexer": "ipython3",
   "version": "3.7.8"
  },
  "widgets": {
   "application/vnd.jupyter.widget-state+json": {
    "state": {
     "000cacc954304f53a5be5dc55b431e59": {
      "model_module": "@jupyter-widgets/controls",
      "model_module_version": "1.5.0",
      "model_name": "HBoxModel",
      "state": {
       "children": [
        "IPY_MODEL_2dcd27c3dbb84981a51eaa8f16b3d18b",
        "IPY_MODEL_abdeafd139e54128802e8884fbe8d24b",
        "IPY_MODEL_9077ca4e74d243d0a237f13e9e1c7daa"
       ],
       "layout": "IPY_MODEL_e306cf06247544dba82ff01d27485a30"
      }
     },
     "0c7c6f94e18f4638a5bb8fa87645744d": {
      "model_module": "@jupyter-widgets/base",
      "model_module_version": "1.2.0",
      "model_name": "LayoutModel",
      "state": {}
     },
     "1486c48b3b16460e9ac7f7b4725b511f": {
      "model_module": "@jupyter-widgets/controls",
      "model_module_version": "1.5.0",
      "model_name": "FloatProgressModel",
      "state": {
       "bar_style": "success",
       "layout": "IPY_MODEL_edda427aa5104c04b6ef7b2a0dbc7250",
       "max": 500,
       "style": "IPY_MODEL_4658516bbb3f44619802c0137cc926fa",
       "value": 500
      }
     },
     "1ce3ea4eaaf44e879fac6a1d82a6b3a4": {
      "model_module": "@jupyter-widgets/base",
      "model_module_version": "1.2.0",
      "model_name": "LayoutModel",
      "state": {}
     },
     "25b0939b3cf24500bda678ad28f9f777": {
      "model_module": "@jupyter-widgets/base",
      "model_module_version": "1.2.0",
      "model_name": "LayoutModel",
      "state": {}
     },
     "26954188b19742dbaa27a93433774bd8": {
      "model_module": "@jupyter-widgets/base",
      "model_module_version": "1.2.0",
      "model_name": "LayoutModel",
      "state": {}
     },
     "2dcd27c3dbb84981a51eaa8f16b3d18b": {
      "model_module": "@jupyter-widgets/controls",
      "model_module_version": "1.5.0",
      "model_name": "HTMLModel",
      "state": {
       "layout": "IPY_MODEL_d1d537970adc4ec785645a8e454e9e70",
       "style": "IPY_MODEL_6e1cab133ca24888b4ac4906de964ea3",
       "value": "Processed 500 iterations out of 500: 100%"
      }
     },
     "39d3a39600204a7aa9a17ac8c4360c65": {
      "model_module": "@jupyter-widgets/base",
      "model_module_version": "1.2.0",
      "model_name": "LayoutModel",
      "state": {}
     },
     "3b78bc08a9cd4d62a49c864bb0206c6a": {
      "model_module": "@jupyter-widgets/controls",
      "model_module_version": "1.5.0",
      "model_name": "DescriptionStyleModel",
      "state": {
       "description_width": ""
      }
     },
     "42a4a250a4aa491b99d0ca461656f97b": {
      "model_module": "@jupyter-widgets/controls",
      "model_module_version": "1.5.0",
      "model_name": "HBoxModel",
      "state": {
       "children": [
        "IPY_MODEL_50220e5e7e164bfcb87b5e8050d62d64",
        "IPY_MODEL_1486c48b3b16460e9ac7f7b4725b511f",
        "IPY_MODEL_9ca6461b57d74b99b6dd43a87ebffe61"
       ],
       "layout": "IPY_MODEL_26954188b19742dbaa27a93433774bd8"
      }
     },
     "448a5b871af14f698643f448228a868e": {
      "model_module": "@jupyter-widgets/controls",
      "model_module_version": "1.5.0",
      "model_name": "DescriptionStyleModel",
      "state": {
       "description_width": ""
      }
     },
     "4658516bbb3f44619802c0137cc926fa": {
      "model_module": "@jupyter-widgets/controls",
      "model_module_version": "1.5.0",
      "model_name": "ProgressStyleModel",
      "state": {
       "description_width": ""
      }
     },
     "4b9b7369770a430494d079c128d70cc1": {
      "model_module": "@jupyter-widgets/base",
      "model_module_version": "1.2.0",
      "model_name": "LayoutModel",
      "state": {}
     },
     "50220e5e7e164bfcb87b5e8050d62d64": {
      "model_module": "@jupyter-widgets/controls",
      "model_module_version": "1.5.0",
      "model_name": "HTMLModel",
      "state": {
       "layout": "IPY_MODEL_f86c188a6c3541a98b137edc9f3a16c2",
       "style": "IPY_MODEL_de30fdbb812e4ba285d3e416a51fb28f",
       "value": "Processed 500 iterations out of 500: 100%"
      }
     },
     "51517f67750e405e8a4a837a4b7e87fd": {
      "model_module": "@jupyter-widgets/controls",
      "model_module_version": "1.5.0",
      "model_name": "FloatProgressModel",
      "state": {
       "bar_style": "success",
       "layout": "IPY_MODEL_1ce3ea4eaaf44e879fac6a1d82a6b3a4",
       "max": 500,
       "style": "IPY_MODEL_f5e64c12325142d6b5259c02519b676b",
       "value": 500
      }
     },
     "62c61f47bd0142e3bd8be285220e1e8c": {
      "model_module": "@jupyter-widgets/base",
      "model_module_version": "1.2.0",
      "model_name": "LayoutModel",
      "state": {}
     },
     "6a70b30bc1d143e4a86462d748929878": {
      "model_module": "@jupyter-widgets/controls",
      "model_module_version": "1.5.0",
      "model_name": "DescriptionStyleModel",
      "state": {
       "description_width": ""
      }
     },
     "6c1f5de71eff426784ac162e7f8c920e": {
      "model_module": "@jupyter-widgets/base",
      "model_module_version": "1.2.0",
      "model_name": "LayoutModel",
      "state": {}
     },
     "6e1cab133ca24888b4ac4906de964ea3": {
      "model_module": "@jupyter-widgets/controls",
      "model_module_version": "1.5.0",
      "model_name": "DescriptionStyleModel",
      "state": {
       "description_width": ""
      }
     },
     "6e1fced9b2de40adbfbc1c8198c42657": {
      "model_module": "@jupyter-widgets/base",
      "model_module_version": "1.2.0",
      "model_name": "LayoutModel",
      "state": {}
     },
     "77431e6a1c3140dab4a8a0be3079d76f": {
      "model_module": "@jupyter-widgets/controls",
      "model_module_version": "1.5.0",
      "model_name": "ProgressStyleModel",
      "state": {
       "description_width": ""
      }
     },
     "829d8f46d7eb400db5b20dc5d5460ddc": {
      "model_module": "@jupyter-widgets/controls",
      "model_module_version": "1.5.0",
      "model_name": "ProgressStyleModel",
      "state": {
       "description_width": ""
      }
     },
     "8cce896328b54ec9810f1554c41607dd": {
      "model_module": "@jupyter-widgets/controls",
      "model_module_version": "1.5.0",
      "model_name": "DescriptionStyleModel",
      "state": {
       "description_width": ""
      }
     },
     "9077ca4e74d243d0a237f13e9e1c7daa": {
      "model_module": "@jupyter-widgets/controls",
      "model_module_version": "1.5.0",
      "model_name": "HTMLModel",
      "state": {
       "layout": "IPY_MODEL_ba828db86d9a4d8b9511e3013cec6268",
       "style": "IPY_MODEL_3b78bc08a9cd4d62a49c864bb0206c6a",
       "value": " 500/500 [00:10&lt;00:00, 47.92it/s]"
      }
     },
     "917490497b764087913b379e0dbaa5b5": {
      "model_module": "@jupyter-widgets/controls",
      "model_module_version": "1.5.0",
      "model_name": "DescriptionStyleModel",
      "state": {
       "description_width": ""
      }
     },
     "98681f69003e42388ae581d0ab935806": {
      "model_module": "@jupyter-widgets/controls",
      "model_module_version": "1.5.0",
      "model_name": "HTMLModel",
      "state": {
       "layout": "IPY_MODEL_6e1fced9b2de40adbfbc1c8198c42657",
       "style": "IPY_MODEL_6a70b30bc1d143e4a86462d748929878",
       "value": "Processed 500 iterations out of 500: 100%"
      }
     },
     "9a8ddd518924441a85660e3090b872b2": {
      "model_module": "@jupyter-widgets/controls",
      "model_module_version": "1.5.0",
      "model_name": "FloatProgressModel",
      "state": {
       "bar_style": "success",
       "layout": "IPY_MODEL_39d3a39600204a7aa9a17ac8c4360c65",
       "max": 500,
       "style": "IPY_MODEL_77431e6a1c3140dab4a8a0be3079d76f",
       "value": 500
      }
     },
     "9ca6461b57d74b99b6dd43a87ebffe61": {
      "model_module": "@jupyter-widgets/controls",
      "model_module_version": "1.5.0",
      "model_name": "HTMLModel",
      "state": {
       "layout": "IPY_MODEL_6c1f5de71eff426784ac162e7f8c920e",
       "style": "IPY_MODEL_e1e370cddebb434d8a92e54e961714aa",
       "value": " 500/500 [00:03&lt;00:00, 126.48it/s]"
      }
     },
     "a6185115c0d14cf88b2b134db74d3891": {
      "model_module": "@jupyter-widgets/controls",
      "model_module_version": "1.5.0",
      "model_name": "HTMLModel",
      "state": {
       "layout": "IPY_MODEL_25b0939b3cf24500bda678ad28f9f777",
       "style": "IPY_MODEL_8cce896328b54ec9810f1554c41607dd",
       "value": "Processed 500 iterations out of 500: 100%"
      }
     },
     "abdeafd139e54128802e8884fbe8d24b": {
      "model_module": "@jupyter-widgets/controls",
      "model_module_version": "1.5.0",
      "model_name": "FloatProgressModel",
      "state": {
       "bar_style": "success",
       "layout": "IPY_MODEL_4b9b7369770a430494d079c128d70cc1",
       "max": 500,
       "style": "IPY_MODEL_829d8f46d7eb400db5b20dc5d5460ddc",
       "value": 500
      }
     },
     "ad3fabfe0dd243398a47d47782020969": {
      "model_module": "@jupyter-widgets/controls",
      "model_module_version": "1.5.0",
      "model_name": "HTMLModel",
      "state": {
       "layout": "IPY_MODEL_fd83f291315b4183b6be98a1860324fe",
       "style": "IPY_MODEL_917490497b764087913b379e0dbaa5b5",
       "value": " 500/500 [00:09&lt;00:00, 51.80it/s]"
      }
     },
     "ba828db86d9a4d8b9511e3013cec6268": {
      "model_module": "@jupyter-widgets/base",
      "model_module_version": "1.2.0",
      "model_name": "LayoutModel",
      "state": {}
     },
     "bec2b7db41954779bc4ef8205ce933fe": {
      "model_module": "@jupyter-widgets/controls",
      "model_module_version": "1.5.0",
      "model_name": "HBoxModel",
      "state": {
       "children": [
        "IPY_MODEL_a6185115c0d14cf88b2b134db74d3891",
        "IPY_MODEL_51517f67750e405e8a4a837a4b7e87fd",
        "IPY_MODEL_d328d7b38e2b496a8a007a4fe0754036"
       ],
       "layout": "IPY_MODEL_0c7c6f94e18f4638a5bb8fa87645744d"
      }
     },
     "d1d537970adc4ec785645a8e454e9e70": {
      "model_module": "@jupyter-widgets/base",
      "model_module_version": "1.2.0",
      "model_name": "LayoutModel",
      "state": {}
     },
     "d328d7b38e2b496a8a007a4fe0754036": {
      "model_module": "@jupyter-widgets/controls",
      "model_module_version": "1.5.0",
      "model_name": "HTMLModel",
      "state": {
       "layout": "IPY_MODEL_62c61f47bd0142e3bd8be285220e1e8c",
       "style": "IPY_MODEL_448a5b871af14f698643f448228a868e",
       "value": " 500/500 [00:05&lt;00:00, 98.88it/s]"
      }
     },
     "d57ff46ac0af4e21b9e78de710334a2d": {
      "model_module": "@jupyter-widgets/base",
      "model_module_version": "1.2.0",
      "model_name": "LayoutModel",
      "state": {}
     },
     "de30fdbb812e4ba285d3e416a51fb28f": {
      "model_module": "@jupyter-widgets/controls",
      "model_module_version": "1.5.0",
      "model_name": "DescriptionStyleModel",
      "state": {
       "description_width": ""
      }
     },
     "e0265647d46d449c8697dadd46ef1c0b": {
      "model_module": "@jupyter-widgets/controls",
      "model_module_version": "1.5.0",
      "model_name": "HBoxModel",
      "state": {
       "children": [
        "IPY_MODEL_98681f69003e42388ae581d0ab935806",
        "IPY_MODEL_9a8ddd518924441a85660e3090b872b2",
        "IPY_MODEL_ad3fabfe0dd243398a47d47782020969"
       ],
       "layout": "IPY_MODEL_d57ff46ac0af4e21b9e78de710334a2d"
      }
     },
     "e1e370cddebb434d8a92e54e961714aa": {
      "model_module": "@jupyter-widgets/controls",
      "model_module_version": "1.5.0",
      "model_name": "DescriptionStyleModel",
      "state": {
       "description_width": ""
      }
     },
     "e306cf06247544dba82ff01d27485a30": {
      "model_module": "@jupyter-widgets/base",
      "model_module_version": "1.2.0",
      "model_name": "LayoutModel",
      "state": {}
     },
     "edda427aa5104c04b6ef7b2a0dbc7250": {
      "model_module": "@jupyter-widgets/base",
      "model_module_version": "1.2.0",
      "model_name": "LayoutModel",
      "state": {}
     },
     "f5e64c12325142d6b5259c02519b676b": {
      "model_module": "@jupyter-widgets/controls",
      "model_module_version": "1.5.0",
      "model_name": "ProgressStyleModel",
      "state": {
       "description_width": ""
      }
     },
     "f86c188a6c3541a98b137edc9f3a16c2": {
      "model_module": "@jupyter-widgets/base",
      "model_module_version": "1.2.0",
      "model_name": "LayoutModel",
      "state": {}
     },
     "fd83f291315b4183b6be98a1860324fe": {
      "model_module": "@jupyter-widgets/base",
      "model_module_version": "1.2.0",
      "model_name": "LayoutModel",
      "state": {}
     }
    },
    "version_major": 2,
    "version_minor": 0
   }
  }
 },
 "nbformat": 4,
 "nbformat_minor": 4
}
