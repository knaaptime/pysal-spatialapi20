{
 "cells": [
  {
   "cell_type": "markdown",
   "metadata": {},
   "source": [
    "# Segregation Analysis with PySAL"
   ]
  },
  {
   "cell_type": "code",
   "execution_count": null,
   "metadata": {
    "execution": {
     "iopub.execute_input": "2020-11-03T03:38:58.471700Z",
     "iopub.status.busy": "2020-11-03T03:38:58.471133Z",
     "iopub.status.idle": "2020-11-03T03:38:58.602054Z",
     "shell.execute_reply": "2020-11-03T03:38:58.602586Z"
    }
   },
   "outputs": [],
   "source": [
    "%load_ext watermark\n",
    "%load_ext autoreload\n",
    "%autoreload 2"
   ]
  },
  {
   "cell_type": "code",
   "execution_count": null,
   "metadata": {
    "execution": {
     "iopub.execute_input": "2020-11-03T03:38:58.605931Z",
     "iopub.status.busy": "2020-11-03T03:38:58.605447Z",
     "iopub.status.idle": "2020-11-03T03:39:00.113136Z",
     "shell.execute_reply": "2020-11-03T03:39:00.113805Z"
    }
   },
   "outputs": [],
   "source": [
    "%watermark -v -a \"author: eli knaap\" -d -u -p segregation,libpysal,geopandas"
   ]
  },
  {
   "cell_type": "markdown",
   "metadata": {},
   "source": [
    "Here, we'll use PySAL's `segregation` module to analyze racial segregation in southern california"
   ]
  },
  {
   "cell_type": "code",
   "execution_count": null,
   "metadata": {
    "execution": {
     "iopub.execute_input": "2020-11-03T03:39:00.116873Z",
     "iopub.status.busy": "2020-11-03T03:39:00.116276Z",
     "iopub.status.idle": "2020-11-03T03:39:00.152907Z",
     "shell.execute_reply": "2020-11-03T03:39:00.153459Z"
    }
   },
   "outputs": [],
   "source": [
    "import geopandas as gpd"
   ]
  },
  {
   "cell_type": "markdown",
   "metadata": {},
   "source": [
    "## Data Prep"
   ]
  },
  {
   "cell_type": "code",
   "execution_count": null,
   "metadata": {
    "execution": {
     "iopub.execute_input": "2020-11-03T03:39:00.156438Z",
     "iopub.status.busy": "2020-11-03T03:39:00.155892Z",
     "iopub.status.idle": "2020-11-03T03:39:01.066497Z",
     "shell.execute_reply": "2020-11-03T03:39:01.067107Z"
    }
   },
   "outputs": [],
   "source": [
    "scag = gpd.read_file(\"data/scag_region.gpkg\", layer=\"tracts\")"
   ]
  },
  {
   "cell_type": "markdown",
   "metadata": {},
   "source": [
    "We need to reproject the data into a more appropriate coordinate system. UTM11 should work "
   ]
  },
  {
   "cell_type": "code",
   "execution_count": null,
   "metadata": {
    "execution": {
     "iopub.execute_input": "2020-11-03T03:39:01.070228Z",
     "iopub.status.busy": "2020-11-03T03:39:01.069661Z",
     "iopub.status.idle": "2020-11-03T03:39:01.606865Z",
     "shell.execute_reply": "2020-11-03T03:39:01.607332Z"
    }
   },
   "outputs": [],
   "source": [
    "scag = scag.to_crs(epsg=26911)\n",
    "scag.crs"
   ]
  },
  {
   "cell_type": "code",
   "execution_count": null,
   "metadata": {
    "execution": {
     "iopub.execute_input": "2020-11-03T03:39:01.610377Z",
     "iopub.status.busy": "2020-11-03T03:39:01.609877Z",
     "iopub.status.idle": "2020-11-03T03:39:02.766593Z",
     "shell.execute_reply": "2020-11-03T03:39:02.767097Z"
    }
   },
   "outputs": [],
   "source": [
    "scag.dropna(subset=['p_hispanic_persons']).plot(column='p_hispanic_persons',\n",
    "                                                scheme='quantiles', \n",
    "                                                cmap='Blues',\n",
    "                                                k=8, \n",
    "                                                legend=True)"
   ]
  },
  {
   "cell_type": "markdown",
   "metadata": {},
   "source": [
    "some background on [fips codes](https://www.policymap.com/2012/08/tips-on-fips-a-quick-guide-to-geographic-place-codes-part-iii/)"
   ]
  },
  {
   "cell_type": "code",
   "execution_count": null,
   "metadata": {
    "execution": {
     "iopub.execute_input": "2020-11-03T03:39:02.770095Z",
     "iopub.status.busy": "2020-11-03T03:39:02.769658Z",
     "iopub.status.idle": "2020-11-03T03:39:02.808276Z",
     "shell.execute_reply": "2020-11-03T03:39:02.808797Z"
    }
   },
   "outputs": [],
   "source": [
    "scag['county'] = scag.geoid.str[:5]"
   ]
  },
  {
   "cell_type": "code",
   "execution_count": null,
   "metadata": {
    "execution": {
     "iopub.execute_input": "2020-11-03T03:39:02.811713Z",
     "iopub.status.busy": "2020-11-03T03:39:02.811201Z",
     "iopub.status.idle": "2020-11-03T03:39:02.852647Z",
     "shell.execute_reply": "2020-11-03T03:39:02.853192Z"
    }
   },
   "outputs": [],
   "source": [
    "scag.county.unique()"
   ]
  },
  {
   "cell_type": "code",
   "execution_count": null,
   "metadata": {
    "execution": {
     "iopub.execute_input": "2020-11-03T03:39:02.856189Z",
     "iopub.status.busy": "2020-11-03T03:39:02.855694Z",
     "iopub.status.idle": "2020-11-03T03:39:02.895071Z",
     "shell.execute_reply": "2020-11-03T03:39:02.895587Z"
    }
   },
   "outputs": [],
   "source": [
    "county_names = [\"Los Angeles\", \"Imperial\", \"Orange\", \"San Bernadino\", \"San Diego\", \"Riverside\", \"Ventura\"]"
   ]
  },
  {
   "cell_type": "code",
   "execution_count": null,
   "metadata": {
    "execution": {
     "iopub.execute_input": "2020-11-03T03:39:02.898681Z",
     "iopub.status.busy": "2020-11-03T03:39:02.898197Z",
     "iopub.status.idle": "2020-11-03T03:39:02.937811Z",
     "shell.execute_reply": "2020-11-03T03:39:02.938338Z"
    }
   },
   "outputs": [],
   "source": [
    "namer = dict(zip(scag.county.unique(), county_names))"
   ]
  },
  {
   "cell_type": "code",
   "execution_count": null,
   "metadata": {
    "execution": {
     "iopub.execute_input": "2020-11-03T03:39:02.941279Z",
     "iopub.status.busy": "2020-11-03T03:39:02.940790Z",
     "iopub.status.idle": "2020-11-03T03:39:02.980662Z",
     "shell.execute_reply": "2020-11-03T03:39:02.980120Z"
    }
   },
   "outputs": [],
   "source": [
    "namer"
   ]
  },
  {
   "cell_type": "markdown",
   "metadata": {},
   "source": [
    "Now that we know which county is which, we could just use these codes to divide up the region into pieces. But lets go ahead and replace the codes with their names. It's more to type, but if we want to subset later, we won't have to go look up the codes again"
   ]
  },
  {
   "cell_type": "code",
   "execution_count": null,
   "metadata": {
    "execution": {
     "iopub.execute_input": "2020-11-03T03:39:02.983559Z",
     "iopub.status.busy": "2020-11-03T03:39:02.983071Z",
     "iopub.status.idle": "2020-11-03T03:39:03.023653Z",
     "shell.execute_reply": "2020-11-03T03:39:03.024174Z"
    }
   },
   "outputs": [],
   "source": [
    "scag['county'] = scag.county.replace(to_replace=namer)"
   ]
  },
  {
   "cell_type": "code",
   "execution_count": null,
   "metadata": {
    "execution": {
     "iopub.execute_input": "2020-11-03T03:39:03.027166Z",
     "iopub.status.busy": "2020-11-03T03:39:03.026673Z",
     "iopub.status.idle": "2020-11-03T03:39:03.067249Z",
     "shell.execute_reply": "2020-11-03T03:39:03.067773Z"
    }
   },
   "outputs": [],
   "source": [
    "scag.county"
   ]
  },
  {
   "cell_type": "code",
   "execution_count": null,
   "metadata": {
    "execution": {
     "iopub.execute_input": "2020-11-03T03:39:03.070792Z",
     "iopub.status.busy": "2020-11-03T03:39:03.070297Z",
     "iopub.status.idle": "2020-11-03T03:39:03.113443Z",
     "shell.execute_reply": "2020-11-03T03:39:03.113037Z"
    }
   },
   "outputs": [],
   "source": [
    "coastal = scag[scag.county.isin([\"Los Angeles\", \"Orange\", \"San Diego\", \"Ventura\"])]"
   ]
  },
  {
   "cell_type": "code",
   "execution_count": null,
   "metadata": {
    "execution": {
     "iopub.execute_input": "2020-11-03T03:39:03.116654Z",
     "iopub.status.busy": "2020-11-03T03:39:03.116139Z",
     "iopub.status.idle": "2020-11-03T03:39:03.158942Z",
     "shell.execute_reply": "2020-11-03T03:39:03.159491Z"
    }
   },
   "outputs": [],
   "source": [
    "inland = scag[scag.county.isin(['Riverside', \"San Bernadino\", \"Imperial\"])]"
   ]
  },
  {
   "cell_type": "code",
   "execution_count": null,
   "metadata": {
    "execution": {
     "iopub.execute_input": "2020-11-03T03:39:03.162696Z",
     "iopub.status.busy": "2020-11-03T03:39:03.162180Z",
     "iopub.status.idle": "2020-11-03T03:39:03.926101Z",
     "shell.execute_reply": "2020-11-03T03:39:03.926544Z"
    }
   },
   "outputs": [],
   "source": [
    "coastal.plot(column='county')"
   ]
  },
  {
   "cell_type": "code",
   "execution_count": null,
   "metadata": {
    "execution": {
     "iopub.execute_input": "2020-11-03T03:39:03.930227Z",
     "iopub.status.busy": "2020-11-03T03:39:03.929801Z",
     "iopub.status.idle": "2020-11-03T03:39:04.247317Z",
     "shell.execute_reply": "2020-11-03T03:39:04.247933Z"
    }
   },
   "outputs": [],
   "source": [
    "inland.plot(column='county')"
   ]
  },
  {
   "cell_type": "markdown",
   "metadata": {},
   "source": [
    "## Calculating Segregation Measures"
   ]
  },
  {
   "cell_type": "markdown",
   "metadata": {},
   "source": []
  },
  {
   "cell_type": "markdown",
   "metadata": {},
   "source": [
    "### Classic (aspatial) Single-Group Indices"
   ]
  },
  {
   "cell_type": "code",
   "execution_count": null,
   "metadata": {
    "execution": {
     "iopub.execute_input": "2020-11-03T03:39:04.251135Z",
     "iopub.status.busy": "2020-11-03T03:39:04.250685Z",
     "iopub.status.idle": "2020-11-03T03:39:04.286205Z",
     "shell.execute_reply": "2020-11-03T03:39:04.286670Z"
    }
   },
   "outputs": [],
   "source": [
    "from segregation.aspatial import Dissim, GiniSeg, Entropy"
   ]
  },
  {
   "cell_type": "code",
   "execution_count": null,
   "metadata": {
    "execution": {
     "iopub.execute_input": "2020-11-03T03:39:04.289726Z",
     "iopub.status.busy": "2020-11-03T03:39:04.289265Z",
     "iopub.status.idle": "2020-11-03T03:39:04.580091Z",
     "shell.execute_reply": "2020-11-03T03:39:04.580656Z"
    }
   },
   "outputs": [],
   "source": [
    "dissim = Dissim(scag, \"n_hispanic_persons\", \"n_total_pop\")\n",
    "gini = GiniSeg(scag, \"n_hispanic_persons\", \"n_total_pop\")\n",
    "entropy = Entropy(scag, \"n_hispanic_persons\", \"n_total_pop\")"
   ]
  },
  {
   "cell_type": "code",
   "execution_count": null,
   "metadata": {
    "execution": {
     "iopub.execute_input": "2020-11-03T03:39:04.583581Z",
     "iopub.status.busy": "2020-11-03T03:39:04.583078Z",
     "iopub.status.idle": "2020-11-03T03:39:04.624740Z",
     "shell.execute_reply": "2020-11-03T03:39:04.625265Z"
    }
   },
   "outputs": [],
   "source": [
    "dissim.statistic"
   ]
  },
  {
   "cell_type": "code",
   "execution_count": null,
   "metadata": {
    "execution": {
     "iopub.execute_input": "2020-11-03T03:39:04.628033Z",
     "iopub.status.busy": "2020-11-03T03:39:04.627535Z",
     "iopub.status.idle": "2020-11-03T03:39:04.667835Z",
     "shell.execute_reply": "2020-11-03T03:39:04.668406Z"
    }
   },
   "outputs": [],
   "source": [
    "gini.statistic"
   ]
  },
  {
   "cell_type": "code",
   "execution_count": null,
   "metadata": {
    "execution": {
     "iopub.execute_input": "2020-11-03T03:39:04.671138Z",
     "iopub.status.busy": "2020-11-03T03:39:04.670652Z",
     "iopub.status.idle": "2020-11-03T03:39:04.710057Z",
     "shell.execute_reply": "2020-11-03T03:39:04.710625Z"
    }
   },
   "outputs": [],
   "source": [
    "entropy.statistic"
   ]
  },
  {
   "cell_type": "markdown",
   "metadata": {},
   "source": [
    "### Multigroup Indices"
   ]
  },
  {
   "cell_type": "code",
   "execution_count": null,
   "metadata": {
    "execution": {
     "iopub.execute_input": "2020-11-03T03:39:04.713575Z",
     "iopub.status.busy": "2020-11-03T03:39:04.713070Z",
     "iopub.status.idle": "2020-11-03T03:39:04.752127Z",
     "shell.execute_reply": "2020-11-03T03:39:04.752645Z"
    }
   },
   "outputs": [],
   "source": [
    "from segregation.aspatial import MultiInformationTheory, MultiGiniSeg, MultiDiversity"
   ]
  },
  {
   "cell_type": "code",
   "execution_count": null,
   "metadata": {
    "execution": {
     "iopub.execute_input": "2020-11-03T03:39:04.755683Z",
     "iopub.status.busy": "2020-11-03T03:39:04.755198Z",
     "iopub.status.idle": "2020-11-03T03:39:04.794353Z",
     "shell.execute_reply": "2020-11-03T03:39:04.794876Z"
    }
   },
   "outputs": [],
   "source": [
    "pop_groups = ['n_asian_persons', 'n_hispanic_persons', 'n_nonhisp_black_persons', 'n_nonhisp_white_persons']"
   ]
  },
  {
   "cell_type": "code",
   "execution_count": null,
   "metadata": {
    "execution": {
     "iopub.execute_input": "2020-11-03T03:39:04.798013Z",
     "iopub.status.busy": "2020-11-03T03:39:04.797517Z",
     "iopub.status.idle": "2020-11-03T03:39:04.838615Z",
     "shell.execute_reply": "2020-11-03T03:39:04.839182Z"
    }
   },
   "outputs": [],
   "source": [
    "multi_div = MultiDiversity(scag, pop_groups)\n",
    "multi_info = MultiInformationTheory(scag, pop_groups)"
   ]
  },
  {
   "cell_type": "code",
   "execution_count": null,
   "metadata": {
    "execution": {
     "iopub.execute_input": "2020-11-03T03:39:04.842360Z",
     "iopub.status.busy": "2020-11-03T03:39:04.841778Z",
     "iopub.status.idle": "2020-11-03T03:39:04.880553Z",
     "shell.execute_reply": "2020-11-03T03:39:04.880913Z"
    }
   },
   "outputs": [],
   "source": [
    "multi_div.statistic"
   ]
  },
  {
   "cell_type": "code",
   "execution_count": null,
   "metadata": {
    "execution": {
     "iopub.execute_input": "2020-11-03T03:39:04.883716Z",
     "iopub.status.busy": "2020-11-03T03:39:04.883223Z",
     "iopub.status.idle": "2020-11-03T03:39:04.918936Z",
     "shell.execute_reply": "2020-11-03T03:39:04.919438Z"
    }
   },
   "outputs": [],
   "source": [
    "multi_info.statistic"
   ]
  },
  {
   "cell_type": "code",
   "execution_count": null,
   "metadata": {},
   "outputs": [],
   "source": []
  },
  {
   "cell_type": "code",
   "execution_count": null,
   "metadata": {},
   "outputs": [],
   "source": []
  },
  {
   "cell_type": "markdown",
   "metadata": {},
   "source": [
    "### Spatial Indices"
   ]
  },
  {
   "cell_type": "code",
   "execution_count": null,
   "metadata": {},
   "outputs": [],
   "source": []
  },
  {
   "cell_type": "code",
   "execution_count": null,
   "metadata": {
    "execution": {
     "iopub.execute_input": "2020-11-03T03:39:04.922200Z",
     "iopub.status.busy": "2020-11-03T03:39:04.921778Z",
     "iopub.status.idle": "2020-11-03T03:39:04.953988Z",
     "shell.execute_reply": "2020-11-03T03:39:04.954464Z"
    }
   },
   "outputs": [],
   "source": [
    "from libpysal import weights"
   ]
  },
  {
   "cell_type": "code",
   "execution_count": null,
   "metadata": {
    "execution": {
     "iopub.execute_input": "2020-11-03T03:39:04.957569Z",
     "iopub.status.busy": "2020-11-03T03:39:04.957132Z",
     "iopub.status.idle": "2020-11-03T03:39:04.994985Z",
     "shell.execute_reply": "2020-11-03T03:39:04.995503Z"
    }
   },
   "outputs": [],
   "source": [
    "from segregation.spatial import SpatialDissim,  SpatialInformationTheory"
   ]
  },
  {
   "cell_type": "code",
   "execution_count": null,
   "metadata": {
    "execution": {
     "iopub.execute_input": "2020-11-03T03:39:04.998853Z",
     "iopub.status.busy": "2020-11-03T03:39:04.998245Z",
     "iopub.status.idle": "2020-11-03T03:39:05.876587Z",
     "shell.execute_reply": "2020-11-03T03:39:05.877127Z"
    }
   },
   "outputs": [],
   "source": [
    "w_queen = weights.Queen.from_dataframe(scag)\n",
    "w_knn = weights.KNN.from_dataframe(scag, k=10)"
   ]
  },
  {
   "cell_type": "markdown",
   "metadata": {},
   "source": [
    "#### Single Group"
   ]
  },
  {
   "cell_type": "code",
   "execution_count": null,
   "metadata": {
    "execution": {
     "iopub.execute_input": "2020-11-03T03:39:05.880317Z",
     "iopub.status.busy": "2020-11-03T03:39:05.879808Z",
     "iopub.status.idle": "2020-11-03T03:39:06.847084Z",
     "shell.execute_reply": "2020-11-03T03:39:06.847728Z"
    }
   },
   "outputs": [],
   "source": [
    "spatial_dissim = SpatialDissim(scag, 'n_hispanic_persons', 'n_total_pop', w=w_queen)"
   ]
  },
  {
   "cell_type": "code",
   "execution_count": null,
   "metadata": {
    "execution": {
     "iopub.execute_input": "2020-11-03T03:39:06.851219Z",
     "iopub.status.busy": "2020-11-03T03:39:06.850651Z",
     "iopub.status.idle": "2020-11-03T03:39:06.891100Z",
     "shell.execute_reply": "2020-11-03T03:39:06.891650Z"
    }
   },
   "outputs": [],
   "source": [
    "spatial_dissim.statistic"
   ]
  },
  {
   "cell_type": "code",
   "execution_count": null,
   "metadata": {
    "execution": {
     "iopub.execute_input": "2020-11-03T03:39:06.894574Z",
     "iopub.status.busy": "2020-11-03T03:39:06.894074Z",
     "iopub.status.idle": "2020-11-03T03:39:08.164098Z",
     "shell.execute_reply": "2020-11-03T03:39:08.164583Z"
    }
   },
   "outputs": [],
   "source": [
    "spatial_dissim_dist = SpatialDissim(scag, 'n_hispanic_persons', 'n_total_pop', w=w_knn)"
   ]
  },
  {
   "cell_type": "code",
   "execution_count": null,
   "metadata": {
    "execution": {
     "iopub.execute_input": "2020-11-03T03:39:08.167960Z",
     "iopub.status.busy": "2020-11-03T03:39:08.167376Z",
     "iopub.status.idle": "2020-11-03T03:39:08.208879Z",
     "shell.execute_reply": "2020-11-03T03:39:08.209412Z"
    }
   },
   "outputs": [],
   "source": [
    "spatial_dissim_dist.statistic"
   ]
  },
  {
   "cell_type": "markdown",
   "metadata": {},
   "source": [
    "#### Multi Group"
   ]
  },
  {
   "cell_type": "markdown",
   "metadata": {},
   "source": [
    "we can also look at how different concepts of space influence the resulting index statistic"
   ]
  },
  {
   "cell_type": "code",
   "execution_count": null,
   "metadata": {
    "execution": {
     "iopub.execute_input": "2020-11-03T03:39:08.212635Z",
     "iopub.status.busy": "2020-11-03T03:39:08.212133Z",
     "iopub.status.idle": "2020-11-03T03:39:08.359490Z",
     "shell.execute_reply": "2020-11-03T03:39:08.359954Z"
    }
   },
   "outputs": [],
   "source": [
    "spatial_info_queen = SpatialInformationTheory(scag, pop_groups, w=w_queen)\n",
    "spatial_info_dist = SpatialInformationTheory(scag, pop_groups, w=w_knn)"
   ]
  },
  {
   "cell_type": "code",
   "execution_count": null,
   "metadata": {
    "execution": {
     "iopub.execute_input": "2020-11-03T03:39:08.362754Z",
     "iopub.status.busy": "2020-11-03T03:39:08.362292Z",
     "iopub.status.idle": "2020-11-03T03:39:08.400279Z",
     "shell.execute_reply": "2020-11-03T03:39:08.400852Z"
    }
   },
   "outputs": [],
   "source": [
    "spatial_info_queen.statistic"
   ]
  },
  {
   "cell_type": "code",
   "execution_count": null,
   "metadata": {
    "execution": {
     "iopub.execute_input": "2020-11-03T03:39:08.403486Z",
     "iopub.status.busy": "2020-11-03T03:39:08.403000Z",
     "iopub.status.idle": "2020-11-03T03:39:08.440910Z",
     "shell.execute_reply": "2020-11-03T03:39:08.441432Z"
    }
   },
   "outputs": [],
   "source": [
    "spatial_info_dist.statistic"
   ]
  },
  {
   "cell_type": "markdown",
   "metadata": {},
   "source": [
    "#### Multiscalar Profile"
   ]
  },
  {
   "cell_type": "markdown",
   "metadata": {},
   "source": [
    "The multiscalar segregation profile is a way of measuring how global versus local the segregation patterns are in a region. "
   ]
  },
  {
   "cell_type": "code",
   "execution_count": null,
   "metadata": {
    "execution": {
     "iopub.execute_input": "2020-11-03T03:39:08.444446Z",
     "iopub.status.busy": "2020-11-03T03:39:08.443953Z",
     "iopub.status.idle": "2020-11-03T03:39:08.477779Z",
     "shell.execute_reply": "2020-11-03T03:39:08.478270Z"
    }
   },
   "outputs": [],
   "source": [
    "from segregation.spatial import compute_segregation_profile"
   ]
  },
  {
   "cell_type": "code",
   "execution_count": null,
   "metadata": {
    "execution": {
     "iopub.execute_input": "2020-11-03T03:39:08.481337Z",
     "iopub.status.busy": "2020-11-03T03:39:08.480851Z",
     "iopub.status.idle": "2020-11-03T03:39:08.519846Z",
     "shell.execute_reply": "2020-11-03T03:39:08.520372Z"
    }
   },
   "outputs": [],
   "source": [
    "distances = [1500., 2500., 3500., 4500., 5500.]"
   ]
  },
  {
   "cell_type": "code",
   "execution_count": null,
   "metadata": {
    "execution": {
     "iopub.execute_input": "2020-11-03T03:39:08.523442Z",
     "iopub.status.busy": "2020-11-03T03:39:08.522951Z",
     "iopub.status.idle": "2020-11-03T03:39:20.679431Z",
     "shell.execute_reply": "2020-11-03T03:39:20.680030Z"
    }
   },
   "outputs": [],
   "source": [
    "prof = compute_segregation_profile(scag, pop_groups, distances)"
   ]
  },
  {
   "cell_type": "code",
   "execution_count": null,
   "metadata": {
    "execution": {
     "iopub.execute_input": "2020-11-03T03:39:20.683035Z",
     "iopub.status.busy": "2020-11-03T03:39:20.682467Z",
     "iopub.status.idle": "2020-11-03T03:39:20.829141Z",
     "shell.execute_reply": "2020-11-03T03:39:20.828488Z"
    }
   },
   "outputs": [],
   "source": [
    "import pandas as pd\n",
    "pd.Series(prof).plot()"
   ]
  },
  {
   "cell_type": "markdown",
   "metadata": {},
   "source": [
    "We can also look at how the segregation profiles differ by region. If we plot them all on the same graph, we can compare the slopes of the lines to see how the shape of segregation differs between places in the southern cal region"
   ]
  },
  {
   "cell_type": "code",
   "execution_count": null,
   "metadata": {
    "execution": {
     "iopub.execute_input": "2020-11-03T03:39:20.832601Z",
     "iopub.status.busy": "2020-11-03T03:39:20.832091Z",
     "iopub.status.idle": "2020-11-03T03:39:32.921621Z",
     "shell.execute_reply": "2020-11-03T03:39:32.922066Z"
    }
   },
   "outputs": [],
   "source": [
    "coastal_prof = compute_segregation_profile(coastal, pop_groups, distances)\n",
    "inland_prof = compute_segregation_profile(inland, pop_groups, distances)"
   ]
  },
  {
   "cell_type": "code",
   "execution_count": null,
   "metadata": {
    "execution": {
     "iopub.execute_input": "2020-11-03T03:39:32.925136Z",
     "iopub.status.busy": "2020-11-03T03:39:32.924702Z",
     "iopub.status.idle": "2020-11-03T03:39:33.092348Z",
     "shell.execute_reply": "2020-11-03T03:39:33.092796Z"
    }
   },
   "outputs": [],
   "source": [
    "\n",
    "pd.Series(prof, name='socal').plot(legend=True)\n",
    "pd.Series(coastal_prof, name='coastal').plot(legend=True)\n",
    "pd.Series(inland_prof, name='inland').plot(legend=True)"
   ]
  },
  {
   "cell_type": "markdown",
   "metadata": {},
   "source": [
    "This shows that segregation in the coastal region is considerably larger than the inland region at every scale, though have similar shapes to their overall segregation profiles."
   ]
  },
  {
   "cell_type": "markdown",
   "metadata": {},
   "source": [
    "## Single-Value Inference"
   ]
  },
  {
   "cell_type": "code",
   "execution_count": null,
   "metadata": {
    "execution": {
     "iopub.execute_input": "2020-11-03T03:39:33.095540Z",
     "iopub.status.busy": "2020-11-03T03:39:33.095111Z",
     "iopub.status.idle": "2020-11-03T03:39:33.134625Z",
     "shell.execute_reply": "2020-11-03T03:39:33.135143Z"
    }
   },
   "outputs": [],
   "source": [
    "from segregation.inference import SingleValueTest"
   ]
  },
  {
   "cell_type": "code",
   "execution_count": null,
   "metadata": {
    "execution": {
     "iopub.execute_input": "2020-11-03T03:39:33.138156Z",
     "iopub.status.busy": "2020-11-03T03:39:33.137672Z",
     "iopub.status.idle": "2020-11-03T03:39:36.227739Z",
     "shell.execute_reply": "2020-11-03T03:39:36.228190Z"
    }
   },
   "outputs": [],
   "source": [
    "entropy_test = SingleValueTest(entropy)"
   ]
  },
  {
   "cell_type": "code",
   "execution_count": null,
   "metadata": {
    "execution": {
     "iopub.execute_input": "2020-11-03T03:39:36.230949Z",
     "iopub.status.busy": "2020-11-03T03:39:36.230526Z",
     "iopub.status.idle": "2020-11-03T03:39:39.288674Z",
     "shell.execute_reply": "2020-11-03T03:39:39.289120Z"
    }
   },
   "outputs": [],
   "source": [
    "dissim_test = SingleValueTest(dissim)"
   ]
  },
  {
   "cell_type": "code",
   "execution_count": null,
   "metadata": {
    "execution": {
     "iopub.execute_input": "2020-11-03T03:39:39.291725Z",
     "iopub.status.busy": "2020-11-03T03:39:39.291242Z",
     "iopub.status.idle": "2020-11-03T03:39:39.326110Z",
     "shell.execute_reply": "2020-11-03T03:39:39.326612Z"
    }
   },
   "outputs": [],
   "source": [
    "entropy_test.p_value"
   ]
  },
  {
   "cell_type": "code",
   "execution_count": null,
   "metadata": {
    "execution": {
     "iopub.execute_input": "2020-11-03T03:39:39.329234Z",
     "iopub.status.busy": "2020-11-03T03:39:39.328744Z",
     "iopub.status.idle": "2020-11-03T03:39:39.502781Z",
     "shell.execute_reply": "2020-11-03T03:39:39.503318Z"
    }
   },
   "outputs": [],
   "source": [
    "entropy_test.plot()"
   ]
  },
  {
   "cell_type": "code",
   "execution_count": null,
   "metadata": {
    "execution": {
     "iopub.execute_input": "2020-11-03T03:39:39.506420Z",
     "iopub.status.busy": "2020-11-03T03:39:39.505924Z",
     "iopub.status.idle": "2020-11-03T03:39:39.680885Z",
     "shell.execute_reply": "2020-11-03T03:39:39.681350Z"
    }
   },
   "outputs": [],
   "source": [
    "dissim_test.plot()"
   ]
  },
  {
   "cell_type": "markdown",
   "metadata": {},
   "source": [
    "## Comparative Inference"
   ]
  },
  {
   "cell_type": "code",
   "execution_count": null,
   "metadata": {
    "execution": {
     "iopub.execute_input": "2020-11-03T03:39:39.684241Z",
     "iopub.status.busy": "2020-11-03T03:39:39.683807Z",
     "iopub.status.idle": "2020-11-03T03:39:39.719978Z",
     "shell.execute_reply": "2020-11-03T03:39:39.720422Z"
    }
   },
   "outputs": [],
   "source": [
    "from segregation.inference import TwoValueTest"
   ]
  },
  {
   "cell_type": "code",
   "execution_count": null,
   "metadata": {
    "execution": {
     "iopub.execute_input": "2020-11-03T03:39:39.723351Z",
     "iopub.status.busy": "2020-11-03T03:39:39.722878Z",
     "iopub.status.idle": "2020-11-03T03:39:42.005287Z",
     "shell.execute_reply": "2020-11-03T03:39:42.005728Z"
    }
   },
   "outputs": [],
   "source": [
    "info_test = TwoValueTest(MultiInformationTheory(coastal, pop_groups),\n",
    "            MultiInformationTheory(inland, pop_groups))"
   ]
  },
  {
   "cell_type": "code",
   "execution_count": null,
   "metadata": {
    "execution": {
     "iopub.execute_input": "2020-11-03T03:39:42.008238Z",
     "iopub.status.busy": "2020-11-03T03:39:42.007805Z",
     "iopub.status.idle": "2020-11-03T03:39:42.042626Z",
     "shell.execute_reply": "2020-11-03T03:39:42.043215Z"
    }
   },
   "outputs": [],
   "source": [
    "info_test.est_point_diff"
   ]
  },
  {
   "cell_type": "code",
   "execution_count": null,
   "metadata": {
    "execution": {
     "iopub.execute_input": "2020-11-03T03:39:42.046147Z",
     "iopub.status.busy": "2020-11-03T03:39:42.045659Z",
     "iopub.status.idle": "2020-11-03T03:39:42.234253Z",
     "shell.execute_reply": "2020-11-03T03:39:42.234702Z"
    }
   },
   "outputs": [],
   "source": [
    "info_test.plot()"
   ]
  },
  {
   "cell_type": "markdown",
   "metadata": {},
   "source": [
    "## Decomposition"
   ]
  },
  {
   "cell_type": "code",
   "execution_count": null,
   "metadata": {
    "execution": {
     "iopub.execute_input": "2020-11-03T03:39:42.237660Z",
     "iopub.status.busy": "2020-11-03T03:39:42.237235Z",
     "iopub.status.idle": "2020-11-03T03:39:42.271503Z",
     "shell.execute_reply": "2020-11-03T03:39:42.271960Z"
    }
   },
   "outputs": [],
   "source": [
    "from segregation.decomposition import DecomposeSegregation"
   ]
  },
  {
   "cell_type": "code",
   "execution_count": null,
   "metadata": {
    "execution": {
     "iopub.execute_input": "2020-11-03T03:39:42.275018Z",
     "iopub.status.busy": "2020-11-03T03:39:42.274600Z",
     "iopub.status.idle": "2020-11-03T03:39:42.468897Z",
     "shell.execute_reply": "2020-11-03T03:39:42.469403Z"
    }
   },
   "outputs": [],
   "source": [
    "w_coastal = weights.DistanceBand.from_dataframe(coastal, 2000)"
   ]
  },
  {
   "cell_type": "code",
   "execution_count": null,
   "metadata": {
    "execution": {
     "iopub.execute_input": "2020-11-03T03:39:42.472191Z",
     "iopub.status.busy": "2020-11-03T03:39:42.471771Z",
     "iopub.status.idle": "2020-11-03T03:39:42.539047Z",
     "shell.execute_reply": "2020-11-03T03:39:42.539492Z"
    }
   },
   "outputs": [],
   "source": [
    "w_inland = weights.DistanceBand.from_dataframe(inland, 2000)"
   ]
  },
  {
   "cell_type": "code",
   "execution_count": null,
   "metadata": {
    "execution": {
     "iopub.execute_input": "2020-11-03T03:39:42.542379Z",
     "iopub.status.busy": "2020-11-03T03:39:42.541962Z",
     "iopub.status.idle": "2020-11-03T03:39:43.309398Z",
     "shell.execute_reply": "2020-11-03T03:39:43.310094Z"
    }
   },
   "outputs": [],
   "source": [
    "one = SpatialDissim(coastal, 'n_nonhisp_black_persons', 'n_total_pop', w=w_coastal)"
   ]
  },
  {
   "cell_type": "code",
   "execution_count": null,
   "metadata": {
    "execution": {
     "iopub.execute_input": "2020-11-03T03:39:43.313936Z",
     "iopub.status.busy": "2020-11-03T03:39:43.313341Z",
     "iopub.status.idle": "2020-11-03T03:39:47.339056Z",
     "shell.execute_reply": "2020-11-03T03:39:47.339587Z"
    }
   },
   "outputs": [],
   "source": [
    "decomp = DecomposeSegregation(SpatialDissim(coastal, 'n_nonhisp_black_persons', 'n_total_pop', w=w_coastal),\n",
    "                    SpatialDissim(inland,'n_nonhisp_black_persons', 'n_total_pop', w=w_inland))"
   ]
  },
  {
   "cell_type": "code",
   "execution_count": null,
   "metadata": {
    "execution": {
     "iopub.execute_input": "2020-11-03T03:39:47.342912Z",
     "iopub.status.busy": "2020-11-03T03:39:47.342383Z",
     "iopub.status.idle": "2020-11-03T03:39:50.158506Z",
     "shell.execute_reply": "2020-11-03T03:39:50.158954Z"
    }
   },
   "outputs": [],
   "source": [
    "decomp.plot(plot_type='maps',  scheme='equalinterval', k=10, city_a='Coastal', city_b='inland')"
   ]
  },
  {
   "cell_type": "code",
   "execution_count": null,
   "metadata": {
    "execution": {
     "iopub.execute_input": "2020-11-03T03:39:50.161837Z",
     "iopub.status.busy": "2020-11-03T03:39:50.161383Z",
     "iopub.status.idle": "2020-11-03T03:39:50.391717Z",
     "shell.execute_reply": "2020-11-03T03:39:50.391389Z"
    }
   },
   "outputs": [],
   "source": [
    "decomp.plot()"
   ]
  },
  {
   "cell_type": "markdown",
   "metadata": {},
   "source": [
    "## Exercise"
   ]
  },
  {
   "cell_type": "markdown",
   "metadata": {},
   "source": [
    "1. Which county in the socal region has the greatest level of multiracial segregation, (using the 4 categories above) according to the MultiInformationTheory index?\n",
    "\n",
    "2. According to the Gini index, is hispanic/latino segregation in Riverside County greater or less than Ventura County? Is that difference significant?\n",
    "\n",
    "3. According to the Spatial Dissimilarity index, does the difference in segregation between Riverside and Venture result from the demograpic structure or the spatial structure?"
   ]
  },
  {
   "cell_type": "code",
   "execution_count": null,
   "metadata": {
    "execution": {
     "iopub.execute_input": "2020-11-03T03:39:50.396026Z",
     "iopub.status.busy": "2020-11-03T03:39:50.395601Z",
     "iopub.status.idle": "2020-11-03T03:39:57.409739Z",
     "shell.execute_reply": "2020-11-03T03:39:57.410396Z"
    }
   },
   "outputs": [],
   "source": [
    "# %load solutions/06.py\n",
    "#### 1\n",
    "\n",
    "results = {}\n",
    "\n",
    "for i in scag.county.unique():\n",
    "\n",
    "    results[i] = MultiInformationTheory(scag[scag.county==i], pop_groups).statistic\n",
    "    print(f\"{i} Info Theory: {results[i]}\")\n",
    "\n",
    "\n",
    "#### 2\n",
    "\n",
    "rside_gini = GiniSeg(scag[scag.county=='Riverside'], group_pop_var='n_hispanic_persons', total_pop_var='n_total_pop')\n",
    "vent_gini = GiniSeg(scag[scag.county=='Ventura'], group_pop_var='n_hispanic_persons', total_pop_var='n_total_pop')\n",
    "\n",
    "print(f\"\\nRiverside Gini: {rside_gini.statistic}\")\n",
    "print(f\"Venura Gini: {vent_gini.statistic}\")\n",
    "ginitest = TwoValueTest(rside_gini, vent_gini)\n",
    "print(f\"test significance level = {ginitest.p_value}\")\n",
    "ginitest.plot()\n",
    "\n",
    "#### 3\n",
    "decomp = DecomposeSegregation(SpatialDissim(scag[scag.county=='Riverside'], group_pop_var='n_hispanic_persons', total_pop_var='n_total_pop'),\n",
    "                              SpatialDissim(scag[scag.county=='Ventura'], group_pop_var='n_hispanic_persons', total_pop_var='n_total_pop'))\n",
    "decomp.plot('maps', figsize=(20,20))"
   ]
  },
  {
   "cell_type": "code",
   "execution_count": null,
   "metadata": {},
   "outputs": [],
   "source": []
  }
 ],
 "metadata": {
  "kernelspec": {
   "display_name": "Python [conda env:pysal-spatialapi20]",
   "language": "python",
   "name": "conda-env-pysal-spatialapi20-py"
  },
  "language_info": {
   "codemirror_mode": {
    "name": "ipython",
    "version": 3
   },
   "file_extension": ".py",
   "mimetype": "text/x-python",
   "name": "python",
   "nbconvert_exporter": "python",
   "pygments_lexer": "ipython3",
   "version": "3.7.8"
  },
  "widgets": {
   "application/vnd.jupyter.widget-state+json": {
    "state": {
     "00470424a76045b6bf1b7d40acc5a515": {
      "model_module": "@jupyter-widgets/base",
      "model_module_version": "1.2.0",
      "model_name": "LayoutModel",
      "state": {
       "_model_module": "@jupyter-widgets/base",
       "_model_module_version": "1.2.0",
       "_model_name": "LayoutModel",
       "_view_count": null,
       "_view_module": "@jupyter-widgets/base",
       "_view_module_version": "1.2.0",
       "_view_name": "LayoutView",
       "align_content": null,
       "align_items": null,
       "align_self": null,
       "border": null,
       "bottom": null,
       "display": null,
       "flex": null,
       "flex_flow": null,
       "grid_area": null,
       "grid_auto_columns": null,
       "grid_auto_flow": null,
       "grid_auto_rows": null,
       "grid_column": null,
       "grid_gap": null,
       "grid_row": null,
       "grid_template_areas": null,
       "grid_template_columns": null,
       "grid_template_rows": null,
       "height": null,
       "justify_content": null,
       "justify_items": null,
       "left": null,
       "margin": null,
       "max_height": null,
       "max_width": null,
       "min_height": null,
       "min_width": null,
       "object_fit": null,
       "object_position": null,
       "order": null,
       "overflow": null,
       "overflow_x": null,
       "overflow_y": null,
       "padding": null,
       "right": null,
       "top": null,
       "visibility": null,
       "width": null
      }
     },
     "0d922c7d950d4efeb5d2ee5b1f2ab2d2": {
      "model_module": "@jupyter-widgets/base",
      "model_module_version": "1.2.0",
      "model_name": "LayoutModel",
      "state": {
       "_model_module": "@jupyter-widgets/base",
       "_model_module_version": "1.2.0",
       "_model_name": "LayoutModel",
       "_view_count": null,
       "_view_module": "@jupyter-widgets/base",
       "_view_module_version": "1.2.0",
       "_view_name": "LayoutView",
       "align_content": null,
       "align_items": null,
       "align_self": null,
       "border": null,
       "bottom": null,
       "display": null,
       "flex": null,
       "flex_flow": null,
       "grid_area": null,
       "grid_auto_columns": null,
       "grid_auto_flow": null,
       "grid_auto_rows": null,
       "grid_column": null,
       "grid_gap": null,
       "grid_row": null,
       "grid_template_areas": null,
       "grid_template_columns": null,
       "grid_template_rows": null,
       "height": null,
       "justify_content": null,
       "justify_items": null,
       "left": null,
       "margin": null,
       "max_height": null,
       "max_width": null,
       "min_height": null,
       "min_width": null,
       "object_fit": null,
       "object_position": null,
       "order": null,
       "overflow": null,
       "overflow_x": null,
       "overflow_y": null,
       "padding": null,
       "right": null,
       "top": null,
       "visibility": null,
       "width": null
      }
     },
     "0dd073acac704273a5ad0cfabd5e2d72": {
      "model_module": "@jupyter-widgets/controls",
      "model_module_version": "1.5.0",
      "model_name": "FloatProgressModel",
      "state": {
       "_dom_classes": [],
       "_model_module": "@jupyter-widgets/controls",
       "_model_module_version": "1.5.0",
       "_model_name": "FloatProgressModel",
       "_view_count": null,
       "_view_module": "@jupyter-widgets/controls",
       "_view_module_version": "1.5.0",
       "_view_name": "ProgressView",
       "bar_style": "success",
       "description": "",
       "description_tooltip": null,
       "layout": "IPY_MODEL_5871f5de2a8d44e8b833e64344e1ec82",
       "max": 500.0,
       "min": 0.0,
       "orientation": "horizontal",
       "style": "IPY_MODEL_e513bcf862c24d62b86a7d4338155ad6",
       "value": 500.0
      }
     },
     "116e5b0707a345eaad3063c794a63005": {
      "model_module": "@jupyter-widgets/base",
      "model_module_version": "1.2.0",
      "model_name": "LayoutModel",
      "state": {
       "_model_module": "@jupyter-widgets/base",
       "_model_module_version": "1.2.0",
       "_model_name": "LayoutModel",
       "_view_count": null,
       "_view_module": "@jupyter-widgets/base",
       "_view_module_version": "1.2.0",
       "_view_name": "LayoutView",
       "align_content": null,
       "align_items": null,
       "align_self": null,
       "border": null,
       "bottom": null,
       "display": null,
       "flex": null,
       "flex_flow": null,
       "grid_area": null,
       "grid_auto_columns": null,
       "grid_auto_flow": null,
       "grid_auto_rows": null,
       "grid_column": null,
       "grid_gap": null,
       "grid_row": null,
       "grid_template_areas": null,
       "grid_template_columns": null,
       "grid_template_rows": null,
       "height": null,
       "justify_content": null,
       "justify_items": null,
       "left": null,
       "margin": null,
       "max_height": null,
       "max_width": null,
       "min_height": null,
       "min_width": null,
       "object_fit": null,
       "object_position": null,
       "order": null,
       "overflow": null,
       "overflow_x": null,
       "overflow_y": null,
       "padding": null,
       "right": null,
       "top": null,
       "visibility": null,
       "width": null
      }
     },
     "221c8e60219f4f649f51d6857620b6b1": {
      "model_module": "@jupyter-widgets/controls",
      "model_module_version": "1.5.0",
      "model_name": "HBoxModel",
      "state": {
       "_dom_classes": [],
       "_model_module": "@jupyter-widgets/controls",
       "_model_module_version": "1.5.0",
       "_model_name": "HBoxModel",
       "_view_count": null,
       "_view_module": "@jupyter-widgets/controls",
       "_view_module_version": "1.5.0",
       "_view_name": "HBoxView",
       "box_style": "",
       "children": [
        "IPY_MODEL_f51ab97e078640e1b0389063d373a526",
        "IPY_MODEL_22290f74706541ea80863a38dc61b35e",
        "IPY_MODEL_9c6bdfe4275c43db8236f1ea480b7e59"
       ],
       "layout": "IPY_MODEL_00470424a76045b6bf1b7d40acc5a515"
      }
     },
     "22290f74706541ea80863a38dc61b35e": {
      "model_module": "@jupyter-widgets/controls",
      "model_module_version": "1.5.0",
      "model_name": "FloatProgressModel",
      "state": {
       "_dom_classes": [],
       "_model_module": "@jupyter-widgets/controls",
       "_model_module_version": "1.5.0",
       "_model_name": "FloatProgressModel",
       "_view_count": null,
       "_view_module": "@jupyter-widgets/controls",
       "_view_module_version": "1.5.0",
       "_view_name": "ProgressView",
       "bar_style": "success",
       "description": "",
       "description_tooltip": null,
       "layout": "IPY_MODEL_6a5ff28e4f884c6584267b94073535fe",
       "max": 500.0,
       "min": 0.0,
       "orientation": "horizontal",
       "style": "IPY_MODEL_cf1790b255d7415b9641d8d5ee31b055",
       "value": 500.0
      }
     },
     "24f3b968538842558e1e525798725027": {
      "model_module": "@jupyter-widgets/controls",
      "model_module_version": "1.5.0",
      "model_name": "HBoxModel",
      "state": {
       "_dom_classes": [],
       "_model_module": "@jupyter-widgets/controls",
       "_model_module_version": "1.5.0",
       "_model_name": "HBoxModel",
       "_view_count": null,
       "_view_module": "@jupyter-widgets/controls",
       "_view_module_version": "1.5.0",
       "_view_name": "HBoxView",
       "box_style": "",
       "children": [
        "IPY_MODEL_507e924318b843cc8b2aa3ccf9e2a905",
        "IPY_MODEL_4f1d265a152e41dc969f0743957f080e",
        "IPY_MODEL_6aef57de5a43429585979ffb2a134eed"
       ],
       "layout": "IPY_MODEL_0d922c7d950d4efeb5d2ee5b1f2ab2d2"
      }
     },
     "2613a19bc53549a788503b9617f372a3": {
      "model_module": "@jupyter-widgets/controls",
      "model_module_version": "1.5.0",
      "model_name": "HBoxModel",
      "state": {
       "_dom_classes": [],
       "_model_module": "@jupyter-widgets/controls",
       "_model_module_version": "1.5.0",
       "_model_name": "HBoxModel",
       "_view_count": null,
       "_view_module": "@jupyter-widgets/controls",
       "_view_module_version": "1.5.0",
       "_view_name": "HBoxView",
       "box_style": "",
       "children": [
        "IPY_MODEL_41903d87d9264764a0c4ba04fa259065",
        "IPY_MODEL_0dd073acac704273a5ad0cfabd5e2d72",
        "IPY_MODEL_33b8963790ef444aaeb032f87ac634fe"
       ],
       "layout": "IPY_MODEL_415347aced2d439ebb3347dbabe472cd"
      }
     },
     "33b8963790ef444aaeb032f87ac634fe": {
      "model_module": "@jupyter-widgets/controls",
      "model_module_version": "1.5.0",
      "model_name": "HTMLModel",
      "state": {
       "_dom_classes": [],
       "_model_module": "@jupyter-widgets/controls",
       "_model_module_version": "1.5.0",
       "_model_name": "HTMLModel",
       "_view_count": null,
       "_view_module": "@jupyter-widgets/controls",
       "_view_module_version": "1.5.0",
       "_view_name": "HTMLView",
       "description": "",
       "description_tooltip": null,
       "layout": "IPY_MODEL_d4ef95c79aa64ba982df5ff427a17fde",
       "placeholder": "​",
       "style": "IPY_MODEL_e9cd08f61f994f1183fea4e8e2885ab2",
       "value": " 500/500 [00:02&lt;00:00, 176.89it/s]"
      }
     },
     "3a2cc1f2a7fb475f89c35a15cb5b3020": {
      "model_module": "@jupyter-widgets/base",
      "model_module_version": "1.2.0",
      "model_name": "LayoutModel",
      "state": {
       "_model_module": "@jupyter-widgets/base",
       "_model_module_version": "1.2.0",
       "_model_name": "LayoutModel",
       "_view_count": null,
       "_view_module": "@jupyter-widgets/base",
       "_view_module_version": "1.2.0",
       "_view_name": "LayoutView",
       "align_content": null,
       "align_items": null,
       "align_self": null,
       "border": null,
       "bottom": null,
       "display": null,
       "flex": null,
       "flex_flow": null,
       "grid_area": null,
       "grid_auto_columns": null,
       "grid_auto_flow": null,
       "grid_auto_rows": null,
       "grid_column": null,
       "grid_gap": null,
       "grid_row": null,
       "grid_template_areas": null,
       "grid_template_columns": null,
       "grid_template_rows": null,
       "height": null,
       "justify_content": null,
       "justify_items": null,
       "left": null,
       "margin": null,
       "max_height": null,
       "max_width": null,
       "min_height": null,
       "min_width": null,
       "object_fit": null,
       "object_position": null,
       "order": null,
       "overflow": null,
       "overflow_x": null,
       "overflow_y": null,
       "padding": null,
       "right": null,
       "top": null,
       "visibility": null,
       "width": null
      }
     },
     "415347aced2d439ebb3347dbabe472cd": {
      "model_module": "@jupyter-widgets/base",
      "model_module_version": "1.2.0",
      "model_name": "LayoutModel",
      "state": {
       "_model_module": "@jupyter-widgets/base",
       "_model_module_version": "1.2.0",
       "_model_name": "LayoutModel",
       "_view_count": null,
       "_view_module": "@jupyter-widgets/base",
       "_view_module_version": "1.2.0",
       "_view_name": "LayoutView",
       "align_content": null,
       "align_items": null,
       "align_self": null,
       "border": null,
       "bottom": null,
       "display": null,
       "flex": null,
       "flex_flow": null,
       "grid_area": null,
       "grid_auto_columns": null,
       "grid_auto_flow": null,
       "grid_auto_rows": null,
       "grid_column": null,
       "grid_gap": null,
       "grid_row": null,
       "grid_template_areas": null,
       "grid_template_columns": null,
       "grid_template_rows": null,
       "height": null,
       "justify_content": null,
       "justify_items": null,
       "left": null,
       "margin": null,
       "max_height": null,
       "max_width": null,
       "min_height": null,
       "min_width": null,
       "object_fit": null,
       "object_position": null,
       "order": null,
       "overflow": null,
       "overflow_x": null,
       "overflow_y": null,
       "padding": null,
       "right": null,
       "top": null,
       "visibility": null,
       "width": null
      }
     },
     "41903d87d9264764a0c4ba04fa259065": {
      "model_module": "@jupyter-widgets/controls",
      "model_module_version": "1.5.0",
      "model_name": "HTMLModel",
      "state": {
       "_dom_classes": [],
       "_model_module": "@jupyter-widgets/controls",
       "_model_module_version": "1.5.0",
       "_model_name": "HTMLModel",
       "_view_count": null,
       "_view_module": "@jupyter-widgets/controls",
       "_view_module_version": "1.5.0",
       "_view_name": "HTMLView",
       "description": "",
       "description_tooltip": null,
       "layout": "IPY_MODEL_5688f51d24be4d3cb33fd24d7bc6d44a",
       "placeholder": "​",
       "style": "IPY_MODEL_ce5d2ae417184f1b8dff8f42ad259e54",
       "value": "Processed 500 iterations out of 500: 100%"
      }
     },
     "44e8bdb331674162a7fb01de156161f9": {
      "model_module": "@jupyter-widgets/controls",
      "model_module_version": "1.5.0",
      "model_name": "DescriptionStyleModel",
      "state": {
       "_model_module": "@jupyter-widgets/controls",
       "_model_module_version": "1.5.0",
       "_model_name": "DescriptionStyleModel",
       "_view_count": null,
       "_view_module": "@jupyter-widgets/base",
       "_view_module_version": "1.2.0",
       "_view_name": "StyleView",
       "description_width": ""
      }
     },
     "4c00af3e22b04c69a85eb6d76d3b964e": {
      "model_module": "@jupyter-widgets/controls",
      "model_module_version": "1.5.0",
      "model_name": "HTMLModel",
      "state": {
       "_dom_classes": [],
       "_model_module": "@jupyter-widgets/controls",
       "_model_module_version": "1.5.0",
       "_model_name": "HTMLModel",
       "_view_count": null,
       "_view_module": "@jupyter-widgets/controls",
       "_view_module_version": "1.5.0",
       "_view_name": "HTMLView",
       "description": "",
       "description_tooltip": null,
       "layout": "IPY_MODEL_3a2cc1f2a7fb475f89c35a15cb5b3020",
       "placeholder": "​",
       "style": "IPY_MODEL_44e8bdb331674162a7fb01de156161f9",
       "value": "Processed 500 iterations out of 500: 100%"
      }
     },
     "4cc44325a07448aeb9e98784e6211793": {
      "model_module": "@jupyter-widgets/controls",
      "model_module_version": "1.5.0",
      "model_name": "DescriptionStyleModel",
      "state": {
       "_model_module": "@jupyter-widgets/controls",
       "_model_module_version": "1.5.0",
       "_model_name": "DescriptionStyleModel",
       "_view_count": null,
       "_view_module": "@jupyter-widgets/base",
       "_view_module_version": "1.2.0",
       "_view_name": "StyleView",
       "description_width": ""
      }
     },
     "4f1d265a152e41dc969f0743957f080e": {
      "model_module": "@jupyter-widgets/controls",
      "model_module_version": "1.5.0",
      "model_name": "FloatProgressModel",
      "state": {
       "_dom_classes": [],
       "_model_module": "@jupyter-widgets/controls",
       "_model_module_version": "1.5.0",
       "_model_name": "FloatProgressModel",
       "_view_count": null,
       "_view_module": "@jupyter-widgets/controls",
       "_view_module_version": "1.5.0",
       "_view_name": "ProgressView",
       "bar_style": "success",
       "description": "",
       "description_tooltip": null,
       "layout": "IPY_MODEL_f5881831888d4e9fb1b2252dd7d5b4c1",
       "max": 500.0,
       "min": 0.0,
       "orientation": "horizontal",
       "style": "IPY_MODEL_fdb5bfa5ecac43ea9e688c8d1f425db8",
       "value": 500.0
      }
     },
     "507e924318b843cc8b2aa3ccf9e2a905": {
      "model_module": "@jupyter-widgets/controls",
      "model_module_version": "1.5.0",
      "model_name": "HTMLModel",
      "state": {
       "_dom_classes": [],
       "_model_module": "@jupyter-widgets/controls",
       "_model_module_version": "1.5.0",
       "_model_name": "HTMLModel",
       "_view_count": null,
       "_view_module": "@jupyter-widgets/controls",
       "_view_module_version": "1.5.0",
       "_view_name": "HTMLView",
       "description": "",
       "description_tooltip": null,
       "layout": "IPY_MODEL_116e5b0707a345eaad3063c794a63005",
       "placeholder": "​",
       "style": "IPY_MODEL_e1bd290f70d842fab0f0e43495a08df9",
       "value": "Processed 500 iterations out of 500: 100%"
      }
     },
     "5688f51d24be4d3cb33fd24d7bc6d44a": {
      "model_module": "@jupyter-widgets/base",
      "model_module_version": "1.2.0",
      "model_name": "LayoutModel",
      "state": {
       "_model_module": "@jupyter-widgets/base",
       "_model_module_version": "1.2.0",
       "_model_name": "LayoutModel",
       "_view_count": null,
       "_view_module": "@jupyter-widgets/base",
       "_view_module_version": "1.2.0",
       "_view_name": "LayoutView",
       "align_content": null,
       "align_items": null,
       "align_self": null,
       "border": null,
       "bottom": null,
       "display": null,
       "flex": null,
       "flex_flow": null,
       "grid_area": null,
       "grid_auto_columns": null,
       "grid_auto_flow": null,
       "grid_auto_rows": null,
       "grid_column": null,
       "grid_gap": null,
       "grid_row": null,
       "grid_template_areas": null,
       "grid_template_columns": null,
       "grid_template_rows": null,
       "height": null,
       "justify_content": null,
       "justify_items": null,
       "left": null,
       "margin": null,
       "max_height": null,
       "max_width": null,
       "min_height": null,
       "min_width": null,
       "object_fit": null,
       "object_position": null,
       "order": null,
       "overflow": null,
       "overflow_x": null,
       "overflow_y": null,
       "padding": null,
       "right": null,
       "top": null,
       "visibility": null,
       "width": null
      }
     },
     "5871f5de2a8d44e8b833e64344e1ec82": {
      "model_module": "@jupyter-widgets/base",
      "model_module_version": "1.2.0",
      "model_name": "LayoutModel",
      "state": {
       "_model_module": "@jupyter-widgets/base",
       "_model_module_version": "1.2.0",
       "_model_name": "LayoutModel",
       "_view_count": null,
       "_view_module": "@jupyter-widgets/base",
       "_view_module_version": "1.2.0",
       "_view_name": "LayoutView",
       "align_content": null,
       "align_items": null,
       "align_self": null,
       "border": null,
       "bottom": null,
       "display": null,
       "flex": null,
       "flex_flow": null,
       "grid_area": null,
       "grid_auto_columns": null,
       "grid_auto_flow": null,
       "grid_auto_rows": null,
       "grid_column": null,
       "grid_gap": null,
       "grid_row": null,
       "grid_template_areas": null,
       "grid_template_columns": null,
       "grid_template_rows": null,
       "height": null,
       "justify_content": null,
       "justify_items": null,
       "left": null,
       "margin": null,
       "max_height": null,
       "max_width": null,
       "min_height": null,
       "min_width": null,
       "object_fit": null,
       "object_position": null,
       "order": null,
       "overflow": null,
       "overflow_x": null,
       "overflow_y": null,
       "padding": null,
       "right": null,
       "top": null,
       "visibility": null,
       "width": null
      }
     },
     "614ba7ace1ab462181784751c7b9ba29": {
      "model_module": "@jupyter-widgets/controls",
      "model_module_version": "1.5.0",
      "model_name": "HBoxModel",
      "state": {
       "_dom_classes": [],
       "_model_module": "@jupyter-widgets/controls",
       "_model_module_version": "1.5.0",
       "_model_name": "HBoxModel",
       "_view_count": null,
       "_view_module": "@jupyter-widgets/controls",
       "_view_module_version": "1.5.0",
       "_view_name": "HBoxView",
       "box_style": "",
       "children": [
        "IPY_MODEL_4c00af3e22b04c69a85eb6d76d3b964e",
        "IPY_MODEL_7bf233f22cc048669cc01d9f1a92192d",
        "IPY_MODEL_a89c4941df5c4039a13a002245492f4b"
       ],
       "layout": "IPY_MODEL_e9b7057f5f5e422da81b508a9ac44127"
      }
     },
     "6a5ff28e4f884c6584267b94073535fe": {
      "model_module": "@jupyter-widgets/base",
      "model_module_version": "1.2.0",
      "model_name": "LayoutModel",
      "state": {
       "_model_module": "@jupyter-widgets/base",
       "_model_module_version": "1.2.0",
       "_model_name": "LayoutModel",
       "_view_count": null,
       "_view_module": "@jupyter-widgets/base",
       "_view_module_version": "1.2.0",
       "_view_name": "LayoutView",
       "align_content": null,
       "align_items": null,
       "align_self": null,
       "border": null,
       "bottom": null,
       "display": null,
       "flex": null,
       "flex_flow": null,
       "grid_area": null,
       "grid_auto_columns": null,
       "grid_auto_flow": null,
       "grid_auto_rows": null,
       "grid_column": null,
       "grid_gap": null,
       "grid_row": null,
       "grid_template_areas": null,
       "grid_template_columns": null,
       "grid_template_rows": null,
       "height": null,
       "justify_content": null,
       "justify_items": null,
       "left": null,
       "margin": null,
       "max_height": null,
       "max_width": null,
       "min_height": null,
       "min_width": null,
       "object_fit": null,
       "object_position": null,
       "order": null,
       "overflow": null,
       "overflow_x": null,
       "overflow_y": null,
       "padding": null,
       "right": null,
       "top": null,
       "visibility": null,
       "width": null
      }
     },
     "6aef57de5a43429585979ffb2a134eed": {
      "model_module": "@jupyter-widgets/controls",
      "model_module_version": "1.5.0",
      "model_name": "HTMLModel",
      "state": {
       "_dom_classes": [],
       "_model_module": "@jupyter-widgets/controls",
       "_model_module_version": "1.5.0",
       "_model_name": "HTMLModel",
       "_view_count": null,
       "_view_module": "@jupyter-widgets/controls",
       "_view_module_version": "1.5.0",
       "_view_name": "HTMLView",
       "description": "",
       "description_tooltip": null,
       "layout": "IPY_MODEL_e4cd8dd1b8b447b0918050b64d136b4d",
       "placeholder": "​",
       "style": "IPY_MODEL_923631637be74e888178dc27a17d8a70",
       "value": " 500/500 [00:05&lt;00:00, 98.63it/s]"
      }
     },
     "7bf233f22cc048669cc01d9f1a92192d": {
      "model_module": "@jupyter-widgets/controls",
      "model_module_version": "1.5.0",
      "model_name": "FloatProgressModel",
      "state": {
       "_dom_classes": [],
       "_model_module": "@jupyter-widgets/controls",
       "_model_module_version": "1.5.0",
       "_model_name": "FloatProgressModel",
       "_view_count": null,
       "_view_module": "@jupyter-widgets/controls",
       "_view_module_version": "1.5.0",
       "_view_name": "ProgressView",
       "bar_style": "success",
       "description": "",
       "description_tooltip": null,
       "layout": "IPY_MODEL_98861eee1de84f0395255fa3de4d49ff",
       "max": 500.0,
       "min": 0.0,
       "orientation": "horizontal",
       "style": "IPY_MODEL_fe227b8346a34a9287798a629153b6e1",
       "value": 500.0
      }
     },
     "923631637be74e888178dc27a17d8a70": {
      "model_module": "@jupyter-widgets/controls",
      "model_module_version": "1.5.0",
      "model_name": "DescriptionStyleModel",
      "state": {
       "_model_module": "@jupyter-widgets/controls",
       "_model_module_version": "1.5.0",
       "_model_name": "DescriptionStyleModel",
       "_view_count": null,
       "_view_module": "@jupyter-widgets/base",
       "_view_module_version": "1.2.0",
       "_view_name": "StyleView",
       "description_width": ""
      }
     },
     "98861eee1de84f0395255fa3de4d49ff": {
      "model_module": "@jupyter-widgets/base",
      "model_module_version": "1.2.0",
      "model_name": "LayoutModel",
      "state": {
       "_model_module": "@jupyter-widgets/base",
       "_model_module_version": "1.2.0",
       "_model_name": "LayoutModel",
       "_view_count": null,
       "_view_module": "@jupyter-widgets/base",
       "_view_module_version": "1.2.0",
       "_view_name": "LayoutView",
       "align_content": null,
       "align_items": null,
       "align_self": null,
       "border": null,
       "bottom": null,
       "display": null,
       "flex": null,
       "flex_flow": null,
       "grid_area": null,
       "grid_auto_columns": null,
       "grid_auto_flow": null,
       "grid_auto_rows": null,
       "grid_column": null,
       "grid_gap": null,
       "grid_row": null,
       "grid_template_areas": null,
       "grid_template_columns": null,
       "grid_template_rows": null,
       "height": null,
       "justify_content": null,
       "justify_items": null,
       "left": null,
       "margin": null,
       "max_height": null,
       "max_width": null,
       "min_height": null,
       "min_width": null,
       "object_fit": null,
       "object_position": null,
       "order": null,
       "overflow": null,
       "overflow_x": null,
       "overflow_y": null,
       "padding": null,
       "right": null,
       "top": null,
       "visibility": null,
       "width": null
      }
     },
     "9c6bdfe4275c43db8236f1ea480b7e59": {
      "model_module": "@jupyter-widgets/controls",
      "model_module_version": "1.5.0",
      "model_name": "HTMLModel",
      "state": {
       "_dom_classes": [],
       "_model_module": "@jupyter-widgets/controls",
       "_model_module_version": "1.5.0",
       "_model_name": "HTMLModel",
       "_view_count": null,
       "_view_module": "@jupyter-widgets/controls",
       "_view_module_version": "1.5.0",
       "_view_name": "HTMLView",
       "description": "",
       "description_tooltip": null,
       "layout": "IPY_MODEL_f7a8862b00ab4d5b9d4700acced1137a",
       "placeholder": "​",
       "style": "IPY_MODEL_4cc44325a07448aeb9e98784e6211793",
       "value": " 500/500 [00:06&lt;00:00, 74.75it/s]"
      }
     },
     "a89c4941df5c4039a13a002245492f4b": {
      "model_module": "@jupyter-widgets/controls",
      "model_module_version": "1.5.0",
      "model_name": "HTMLModel",
      "state": {
       "_dom_classes": [],
       "_model_module": "@jupyter-widgets/controls",
       "_model_module_version": "1.5.0",
       "_model_name": "HTMLModel",
       "_view_count": null,
       "_view_module": "@jupyter-widgets/controls",
       "_view_module_version": "1.5.0",
       "_view_name": "HTMLView",
       "description": "",
       "description_tooltip": null,
       "layout": "IPY_MODEL_ac89548fd7614f8992884f2c44a5741d",
       "placeholder": "​",
       "style": "IPY_MODEL_ac4cb98b631546e092ffa8cf2e06909b",
       "value": " 500/500 [00:06&lt;00:00, 82.76it/s]"
      }
     },
     "ac4cb98b631546e092ffa8cf2e06909b": {
      "model_module": "@jupyter-widgets/controls",
      "model_module_version": "1.5.0",
      "model_name": "DescriptionStyleModel",
      "state": {
       "_model_module": "@jupyter-widgets/controls",
       "_model_module_version": "1.5.0",
       "_model_name": "DescriptionStyleModel",
       "_view_count": null,
       "_view_module": "@jupyter-widgets/base",
       "_view_module_version": "1.2.0",
       "_view_name": "StyleView",
       "description_width": ""
      }
     },
     "ac89548fd7614f8992884f2c44a5741d": {
      "model_module": "@jupyter-widgets/base",
      "model_module_version": "1.2.0",
      "model_name": "LayoutModel",
      "state": {
       "_model_module": "@jupyter-widgets/base",
       "_model_module_version": "1.2.0",
       "_model_name": "LayoutModel",
       "_view_count": null,
       "_view_module": "@jupyter-widgets/base",
       "_view_module_version": "1.2.0",
       "_view_name": "LayoutView",
       "align_content": null,
       "align_items": null,
       "align_self": null,
       "border": null,
       "bottom": null,
       "display": null,
       "flex": null,
       "flex_flow": null,
       "grid_area": null,
       "grid_auto_columns": null,
       "grid_auto_flow": null,
       "grid_auto_rows": null,
       "grid_column": null,
       "grid_gap": null,
       "grid_row": null,
       "grid_template_areas": null,
       "grid_template_columns": null,
       "grid_template_rows": null,
       "height": null,
       "justify_content": null,
       "justify_items": null,
       "left": null,
       "margin": null,
       "max_height": null,
       "max_width": null,
       "min_height": null,
       "min_width": null,
       "object_fit": null,
       "object_position": null,
       "order": null,
       "overflow": null,
       "overflow_x": null,
       "overflow_y": null,
       "padding": null,
       "right": null,
       "top": null,
       "visibility": null,
       "width": null
      }
     },
     "c8b442e32254483d831edee25f4e3332": {
      "model_module": "@jupyter-widgets/controls",
      "model_module_version": "1.5.0",
      "model_name": "DescriptionStyleModel",
      "state": {
       "_model_module": "@jupyter-widgets/controls",
       "_model_module_version": "1.5.0",
       "_model_name": "DescriptionStyleModel",
       "_view_count": null,
       "_view_module": "@jupyter-widgets/base",
       "_view_module_version": "1.2.0",
       "_view_name": "StyleView",
       "description_width": ""
      }
     },
     "ce5d2ae417184f1b8dff8f42ad259e54": {
      "model_module": "@jupyter-widgets/controls",
      "model_module_version": "1.5.0",
      "model_name": "DescriptionStyleModel",
      "state": {
       "_model_module": "@jupyter-widgets/controls",
       "_model_module_version": "1.5.0",
       "_model_name": "DescriptionStyleModel",
       "_view_count": null,
       "_view_module": "@jupyter-widgets/base",
       "_view_module_version": "1.2.0",
       "_view_name": "StyleView",
       "description_width": ""
      }
     },
     "cf1790b255d7415b9641d8d5ee31b055": {
      "model_module": "@jupyter-widgets/controls",
      "model_module_version": "1.5.0",
      "model_name": "ProgressStyleModel",
      "state": {
       "_model_module": "@jupyter-widgets/controls",
       "_model_module_version": "1.5.0",
       "_model_name": "ProgressStyleModel",
       "_view_count": null,
       "_view_module": "@jupyter-widgets/base",
       "_view_module_version": "1.2.0",
       "_view_name": "StyleView",
       "bar_color": null,
       "description_width": ""
      }
     },
     "d4ef95c79aa64ba982df5ff427a17fde": {
      "model_module": "@jupyter-widgets/base",
      "model_module_version": "1.2.0",
      "model_name": "LayoutModel",
      "state": {
       "_model_module": "@jupyter-widgets/base",
       "_model_module_version": "1.2.0",
       "_model_name": "LayoutModel",
       "_view_count": null,
       "_view_module": "@jupyter-widgets/base",
       "_view_module_version": "1.2.0",
       "_view_name": "LayoutView",
       "align_content": null,
       "align_items": null,
       "align_self": null,
       "border": null,
       "bottom": null,
       "display": null,
       "flex": null,
       "flex_flow": null,
       "grid_area": null,
       "grid_auto_columns": null,
       "grid_auto_flow": null,
       "grid_auto_rows": null,
       "grid_column": null,
       "grid_gap": null,
       "grid_row": null,
       "grid_template_areas": null,
       "grid_template_columns": null,
       "grid_template_rows": null,
       "height": null,
       "justify_content": null,
       "justify_items": null,
       "left": null,
       "margin": null,
       "max_height": null,
       "max_width": null,
       "min_height": null,
       "min_width": null,
       "object_fit": null,
       "object_position": null,
       "order": null,
       "overflow": null,
       "overflow_x": null,
       "overflow_y": null,
       "padding": null,
       "right": null,
       "top": null,
       "visibility": null,
       "width": null
      }
     },
     "dcbe8b6eacef43a2a342099a9d76b79e": {
      "model_module": "@jupyter-widgets/base",
      "model_module_version": "1.2.0",
      "model_name": "LayoutModel",
      "state": {
       "_model_module": "@jupyter-widgets/base",
       "_model_module_version": "1.2.0",
       "_model_name": "LayoutModel",
       "_view_count": null,
       "_view_module": "@jupyter-widgets/base",
       "_view_module_version": "1.2.0",
       "_view_name": "LayoutView",
       "align_content": null,
       "align_items": null,
       "align_self": null,
       "border": null,
       "bottom": null,
       "display": null,
       "flex": null,
       "flex_flow": null,
       "grid_area": null,
       "grid_auto_columns": null,
       "grid_auto_flow": null,
       "grid_auto_rows": null,
       "grid_column": null,
       "grid_gap": null,
       "grid_row": null,
       "grid_template_areas": null,
       "grid_template_columns": null,
       "grid_template_rows": null,
       "height": null,
       "justify_content": null,
       "justify_items": null,
       "left": null,
       "margin": null,
       "max_height": null,
       "max_width": null,
       "min_height": null,
       "min_width": null,
       "object_fit": null,
       "object_position": null,
       "order": null,
       "overflow": null,
       "overflow_x": null,
       "overflow_y": null,
       "padding": null,
       "right": null,
       "top": null,
       "visibility": null,
       "width": null
      }
     },
     "e1bd290f70d842fab0f0e43495a08df9": {
      "model_module": "@jupyter-widgets/controls",
      "model_module_version": "1.5.0",
      "model_name": "DescriptionStyleModel",
      "state": {
       "_model_module": "@jupyter-widgets/controls",
       "_model_module_version": "1.5.0",
       "_model_name": "DescriptionStyleModel",
       "_view_count": null,
       "_view_module": "@jupyter-widgets/base",
       "_view_module_version": "1.2.0",
       "_view_name": "StyleView",
       "description_width": ""
      }
     },
     "e4cd8dd1b8b447b0918050b64d136b4d": {
      "model_module": "@jupyter-widgets/base",
      "model_module_version": "1.2.0",
      "model_name": "LayoutModel",
      "state": {
       "_model_module": "@jupyter-widgets/base",
       "_model_module_version": "1.2.0",
       "_model_name": "LayoutModel",
       "_view_count": null,
       "_view_module": "@jupyter-widgets/base",
       "_view_module_version": "1.2.0",
       "_view_name": "LayoutView",
       "align_content": null,
       "align_items": null,
       "align_self": null,
       "border": null,
       "bottom": null,
       "display": null,
       "flex": null,
       "flex_flow": null,
       "grid_area": null,
       "grid_auto_columns": null,
       "grid_auto_flow": null,
       "grid_auto_rows": null,
       "grid_column": null,
       "grid_gap": null,
       "grid_row": null,
       "grid_template_areas": null,
       "grid_template_columns": null,
       "grid_template_rows": null,
       "height": null,
       "justify_content": null,
       "justify_items": null,
       "left": null,
       "margin": null,
       "max_height": null,
       "max_width": null,
       "min_height": null,
       "min_width": null,
       "object_fit": null,
       "object_position": null,
       "order": null,
       "overflow": null,
       "overflow_x": null,
       "overflow_y": null,
       "padding": null,
       "right": null,
       "top": null,
       "visibility": null,
       "width": null
      }
     },
     "e513bcf862c24d62b86a7d4338155ad6": {
      "model_module": "@jupyter-widgets/controls",
      "model_module_version": "1.5.0",
      "model_name": "ProgressStyleModel",
      "state": {
       "_model_module": "@jupyter-widgets/controls",
       "_model_module_version": "1.5.0",
       "_model_name": "ProgressStyleModel",
       "_view_count": null,
       "_view_module": "@jupyter-widgets/base",
       "_view_module_version": "1.2.0",
       "_view_name": "StyleView",
       "bar_color": null,
       "description_width": ""
      }
     },
     "e9b7057f5f5e422da81b508a9ac44127": {
      "model_module": "@jupyter-widgets/base",
      "model_module_version": "1.2.0",
      "model_name": "LayoutModel",
      "state": {
       "_model_module": "@jupyter-widgets/base",
       "_model_module_version": "1.2.0",
       "_model_name": "LayoutModel",
       "_view_count": null,
       "_view_module": "@jupyter-widgets/base",
       "_view_module_version": "1.2.0",
       "_view_name": "LayoutView",
       "align_content": null,
       "align_items": null,
       "align_self": null,
       "border": null,
       "bottom": null,
       "display": null,
       "flex": null,
       "flex_flow": null,
       "grid_area": null,
       "grid_auto_columns": null,
       "grid_auto_flow": null,
       "grid_auto_rows": null,
       "grid_column": null,
       "grid_gap": null,
       "grid_row": null,
       "grid_template_areas": null,
       "grid_template_columns": null,
       "grid_template_rows": null,
       "height": null,
       "justify_content": null,
       "justify_items": null,
       "left": null,
       "margin": null,
       "max_height": null,
       "max_width": null,
       "min_height": null,
       "min_width": null,
       "object_fit": null,
       "object_position": null,
       "order": null,
       "overflow": null,
       "overflow_x": null,
       "overflow_y": null,
       "padding": null,
       "right": null,
       "top": null,
       "visibility": null,
       "width": null
      }
     },
     "e9cd08f61f994f1183fea4e8e2885ab2": {
      "model_module": "@jupyter-widgets/controls",
      "model_module_version": "1.5.0",
      "model_name": "DescriptionStyleModel",
      "state": {
       "_model_module": "@jupyter-widgets/controls",
       "_model_module_version": "1.5.0",
       "_model_name": "DescriptionStyleModel",
       "_view_count": null,
       "_view_module": "@jupyter-widgets/base",
       "_view_module_version": "1.2.0",
       "_view_name": "StyleView",
       "description_width": ""
      }
     },
     "f51ab97e078640e1b0389063d373a526": {
      "model_module": "@jupyter-widgets/controls",
      "model_module_version": "1.5.0",
      "model_name": "HTMLModel",
      "state": {
       "_dom_classes": [],
       "_model_module": "@jupyter-widgets/controls",
       "_model_module_version": "1.5.0",
       "_model_name": "HTMLModel",
       "_view_count": null,
       "_view_module": "@jupyter-widgets/controls",
       "_view_module_version": "1.5.0",
       "_view_name": "HTMLView",
       "description": "",
       "description_tooltip": null,
       "layout": "IPY_MODEL_dcbe8b6eacef43a2a342099a9d76b79e",
       "placeholder": "​",
       "style": "IPY_MODEL_c8b442e32254483d831edee25f4e3332",
       "value": "Processed 500 iterations out of 500: 100%"
      }
     },
     "f5881831888d4e9fb1b2252dd7d5b4c1": {
      "model_module": "@jupyter-widgets/base",
      "model_module_version": "1.2.0",
      "model_name": "LayoutModel",
      "state": {
       "_model_module": "@jupyter-widgets/base",
       "_model_module_version": "1.2.0",
       "_model_name": "LayoutModel",
       "_view_count": null,
       "_view_module": "@jupyter-widgets/base",
       "_view_module_version": "1.2.0",
       "_view_name": "LayoutView",
       "align_content": null,
       "align_items": null,
       "align_self": null,
       "border": null,
       "bottom": null,
       "display": null,
       "flex": null,
       "flex_flow": null,
       "grid_area": null,
       "grid_auto_columns": null,
       "grid_auto_flow": null,
       "grid_auto_rows": null,
       "grid_column": null,
       "grid_gap": null,
       "grid_row": null,
       "grid_template_areas": null,
       "grid_template_columns": null,
       "grid_template_rows": null,
       "height": null,
       "justify_content": null,
       "justify_items": null,
       "left": null,
       "margin": null,
       "max_height": null,
       "max_width": null,
       "min_height": null,
       "min_width": null,
       "object_fit": null,
       "object_position": null,
       "order": null,
       "overflow": null,
       "overflow_x": null,
       "overflow_y": null,
       "padding": null,
       "right": null,
       "top": null,
       "visibility": null,
       "width": null
      }
     },
     "f7a8862b00ab4d5b9d4700acced1137a": {
      "model_module": "@jupyter-widgets/base",
      "model_module_version": "1.2.0",
      "model_name": "LayoutModel",
      "state": {
       "_model_module": "@jupyter-widgets/base",
       "_model_module_version": "1.2.0",
       "_model_name": "LayoutModel",
       "_view_count": null,
       "_view_module": "@jupyter-widgets/base",
       "_view_module_version": "1.2.0",
       "_view_name": "LayoutView",
       "align_content": null,
       "align_items": null,
       "align_self": null,
       "border": null,
       "bottom": null,
       "display": null,
       "flex": null,
       "flex_flow": null,
       "grid_area": null,
       "grid_auto_columns": null,
       "grid_auto_flow": null,
       "grid_auto_rows": null,
       "grid_column": null,
       "grid_gap": null,
       "grid_row": null,
       "grid_template_areas": null,
       "grid_template_columns": null,
       "grid_template_rows": null,
       "height": null,
       "justify_content": null,
       "justify_items": null,
       "left": null,
       "margin": null,
       "max_height": null,
       "max_width": null,
       "min_height": null,
       "min_width": null,
       "object_fit": null,
       "object_position": null,
       "order": null,
       "overflow": null,
       "overflow_x": null,
       "overflow_y": null,
       "padding": null,
       "right": null,
       "top": null,
       "visibility": null,
       "width": null
      }
     },
     "fdb5bfa5ecac43ea9e688c8d1f425db8": {
      "model_module": "@jupyter-widgets/controls",
      "model_module_version": "1.5.0",
      "model_name": "ProgressStyleModel",
      "state": {
       "_model_module": "@jupyter-widgets/controls",
       "_model_module_version": "1.5.0",
       "_model_name": "ProgressStyleModel",
       "_view_count": null,
       "_view_module": "@jupyter-widgets/base",
       "_view_module_version": "1.2.0",
       "_view_name": "StyleView",
       "bar_color": null,
       "description_width": ""
      }
     },
     "fe227b8346a34a9287798a629153b6e1": {
      "model_module": "@jupyter-widgets/controls",
      "model_module_version": "1.5.0",
      "model_name": "ProgressStyleModel",
      "state": {
       "_model_module": "@jupyter-widgets/controls",
       "_model_module_version": "1.5.0",
       "_model_name": "ProgressStyleModel",
       "_view_count": null,
       "_view_module": "@jupyter-widgets/base",
       "_view_module_version": "1.2.0",
       "_view_name": "StyleView",
       "bar_color": null,
       "description_width": ""
      }
     }
    },
    "version_major": 2,
    "version_minor": 0
   }
  }
 },
 "nbformat": 4,
 "nbformat_minor": 4
}
