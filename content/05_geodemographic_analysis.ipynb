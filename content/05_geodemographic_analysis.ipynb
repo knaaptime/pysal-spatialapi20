{
 "cells": [
  {
   "cell_type": "markdown",
   "metadata": {},
   "source": [
    "# Geodemographic Analysis with PySAL and scikit-learn"
   ]
  },
  {
   "cell_type": "markdown",
   "metadata": {},
   "source": [
    "Here, we'll examine geodemographic clustering in Los Angeles County"
   ]
  },
  {
   "cell_type": "code",
   "execution_count": null,
   "metadata": {
    "execution": {
     "iopub.execute_input": "2020-11-03T03:38:19.214029Z",
     "iopub.status.busy": "2020-11-03T03:38:19.213502Z",
     "iopub.status.idle": "2020-11-03T03:38:19.343530Z",
     "shell.execute_reply": "2020-11-03T03:38:19.344088Z"
    }
   },
   "outputs": [],
   "source": [
    "%load_ext watermark"
   ]
  },
  {
   "cell_type": "code",
   "execution_count": null,
   "metadata": {
    "execution": {
     "iopub.execute_input": "2020-11-03T03:38:19.348017Z",
     "iopub.status.busy": "2020-11-03T03:38:19.347498Z",
     "iopub.status.idle": "2020-11-03T03:38:20.680566Z",
     "shell.execute_reply": "2020-11-03T03:38:20.681070Z"
    }
   },
   "outputs": [],
   "source": [
    "%watermark -v -a \"author: eli knaap\" -d -u -p segregation,libpysal,geopandas"
   ]
  },
  {
   "cell_type": "code",
   "execution_count": null,
   "metadata": {
    "execution": {
     "iopub.execute_input": "2020-11-03T03:38:20.685149Z",
     "iopub.status.busy": "2020-11-03T03:38:20.684659Z",
     "iopub.status.idle": "2020-11-03T03:38:23.797351Z",
     "shell.execute_reply": "2020-11-03T03:38:23.798139Z"
    }
   },
   "outputs": [],
   "source": [
    "import geopandas as gpd\n",
    "from libpysal import weights\n",
    "from sklearn.cluster import AffinityPropagation, AgglomerativeClustering, KMeans\n",
    "from sklearn.preprocessing import StandardScaler, MinMaxScaler\n",
    "import geoviews as gv\n",
    "import hvplot.pandas\n",
    "import seaborn as sns\n",
    "import matplotlib.pyplot as plt\n",
    "gv.extension('matplotlib', 'bokeh')\n",
    "gv.output(backend='bokeh')"
   ]
  },
  {
   "cell_type": "markdown",
   "metadata": {},
   "source": [
    "## Data Prep"
   ]
  },
  {
   "cell_type": "code",
   "execution_count": null,
   "metadata": {
    "execution": {
     "iopub.execute_input": "2020-11-03T03:38:24.067549Z",
     "iopub.status.busy": "2020-11-03T03:38:23.839880Z",
     "iopub.status.idle": "2020-11-03T03:38:24.632558Z",
     "shell.execute_reply": "2020-11-03T03:38:24.633574Z"
    }
   },
   "outputs": [],
   "source": [
    "scag = gpd.read_file(\"data/scag_region.gpkg\", layer=\"tracts\")"
   ]
  },
  {
   "cell_type": "code",
   "execution_count": null,
   "metadata": {
    "execution": {
     "iopub.execute_input": "2020-11-03T03:38:24.637542Z",
     "iopub.status.busy": "2020-11-03T03:38:24.637031Z",
     "iopub.status.idle": "2020-11-03T03:38:24.662432Z",
     "shell.execute_reply": "2020-11-03T03:38:24.662803Z"
    }
   },
   "outputs": [],
   "source": [
    "scag = scag.fillna(0)"
   ]
  },
  {
   "cell_type": "code",
   "execution_count": null,
   "metadata": {
    "execution": {
     "iopub.execute_input": "2020-11-03T03:38:24.681192Z",
     "iopub.status.busy": "2020-11-03T03:38:24.680675Z",
     "iopub.status.idle": "2020-11-03T03:38:25.798002Z",
     "shell.execute_reply": "2020-11-03T03:38:25.798447Z"
    }
   },
   "outputs": [],
   "source": [
    "scag.plot()"
   ]
  },
  {
   "cell_type": "code",
   "execution_count": null,
   "metadata": {
    "execution": {
     "iopub.execute_input": "2020-11-03T03:38:25.805015Z",
     "iopub.status.busy": "2020-11-03T03:38:25.804582Z",
     "iopub.status.idle": "2020-11-03T03:38:25.809840Z",
     "shell.execute_reply": "2020-11-03T03:38:25.810472Z"
    }
   },
   "outputs": [],
   "source": [
    "la = scag[scag.geoid.str[:5]=='06037']"
   ]
  },
  {
   "cell_type": "code",
   "execution_count": null,
   "metadata": {
    "execution": {
     "iopub.execute_input": "2020-11-03T03:38:25.817527Z",
     "iopub.status.busy": "2020-11-03T03:38:25.816960Z",
     "iopub.status.idle": "2020-11-03T03:38:26.123958Z",
     "shell.execute_reply": "2020-11-03T03:38:26.124490Z"
    }
   },
   "outputs": [],
   "source": [
    "wq = weights.Queen.from_dataframe(la)"
   ]
  },
  {
   "cell_type": "code",
   "execution_count": null,
   "metadata": {
    "execution": {
     "iopub.execute_input": "2020-11-03T03:38:26.129700Z",
     "iopub.status.busy": "2020-11-03T03:38:26.128953Z",
     "iopub.status.idle": "2020-11-03T03:38:26.130790Z",
     "shell.execute_reply": "2020-11-03T03:38:26.131313Z"
    }
   },
   "outputs": [],
   "source": [
    "la = la.iloc[wq.component_labels==0]"
   ]
  },
  {
   "cell_type": "code",
   "execution_count": null,
   "metadata": {
    "execution": {
     "iopub.execute_input": "2020-11-03T03:38:26.147503Z",
     "iopub.status.busy": "2020-11-03T03:38:26.146977Z",
     "iopub.status.idle": "2020-11-03T03:38:26.748545Z",
     "shell.execute_reply": "2020-11-03T03:38:26.749144Z"
    }
   },
   "outputs": [],
   "source": [
    "la.plot()"
   ]
  },
  {
   "cell_type": "markdown",
   "metadata": {},
   "source": [
    "## Geodemographic Clusters"
   ]
  },
  {
   "cell_type": "markdown",
   "metadata": {},
   "source": [
    "[Geodemographic analysis](https://en.wikipedia.org/wiki/Geodemographic_segmentation), which includes applying unsupervised learning to demographic and socioeconomic data, followed by a spatial analysis of the results"
   ]
  },
  {
   "cell_type": "code",
   "execution_count": null,
   "metadata": {
    "execution": {
     "iopub.execute_input": "2020-11-03T03:38:26.752743Z",
     "iopub.status.busy": "2020-11-03T03:38:26.752323Z",
     "iopub.status.idle": "2020-11-03T03:38:26.754555Z",
     "shell.execute_reply": "2020-11-03T03:38:26.754994Z"
    }
   },
   "outputs": [],
   "source": [
    "columns = ['median_household_income', 'median_home_value', 'p_asian_persons', 'p_hispanic_persons', 'p_nonhisp_black_persons', 'p_nonhisp_white_persons']"
   ]
  },
  {
   "cell_type": "code",
   "execution_count": null,
   "metadata": {
    "execution": {
     "iopub.execute_input": "2020-11-03T03:38:26.758051Z",
     "iopub.status.busy": "2020-11-03T03:38:26.757627Z",
     "iopub.status.idle": "2020-11-03T03:38:26.759661Z",
     "shell.execute_reply": "2020-11-03T03:38:26.760096Z"
    }
   },
   "outputs": [],
   "source": [
    "scaler = StandardScaler()"
   ]
  },
  {
   "cell_type": "code",
   "execution_count": null,
   "metadata": {
    "execution": {
     "iopub.execute_input": "2020-11-03T03:38:26.765083Z",
     "iopub.status.busy": "2020-11-03T03:38:26.764664Z",
     "iopub.status.idle": "2020-11-03T03:38:26.894475Z",
     "shell.execute_reply": "2020-11-03T03:38:26.895156Z"
    }
   },
   "outputs": [],
   "source": [
    "la_kmeans = KMeans(n_clusters=6).fit(scaler.fit_transform(la[columns]))"
   ]
  },
  {
   "cell_type": "code",
   "execution_count": null,
   "metadata": {
    "execution": {
     "iopub.execute_input": "2020-11-03T03:38:26.899476Z",
     "iopub.status.busy": "2020-11-03T03:38:26.898720Z",
     "iopub.status.idle": "2020-11-03T03:38:26.901696Z",
     "shell.execute_reply": "2020-11-03T03:38:26.902407Z"
    }
   },
   "outputs": [],
   "source": [
    "la_kmeans.labels_"
   ]
  },
  {
   "cell_type": "code",
   "execution_count": null,
   "metadata": {
    "execution": {
     "iopub.execute_input": "2020-11-03T03:38:26.906799Z",
     "iopub.status.busy": "2020-11-03T03:38:26.906023Z",
     "iopub.status.idle": "2020-11-03T03:38:26.908274Z",
     "shell.execute_reply": "2020-11-03T03:38:26.909001Z"
    }
   },
   "outputs": [],
   "source": [
    "la['kmeans'] = la_kmeans.labels_"
   ]
  },
  {
   "cell_type": "code",
   "execution_count": null,
   "metadata": {
    "execution": {
     "iopub.execute_input": "2020-11-03T03:38:26.914132Z",
     "iopub.status.busy": "2020-11-03T03:38:26.913361Z",
     "iopub.status.idle": "2020-11-03T03:38:30.634000Z",
     "shell.execute_reply": "2020-11-03T03:38:30.634458Z"
    }
   },
   "outputs": [],
   "source": [
    "la.hvplot(c='kmeans', cmap='tab10', line_width=0.1, alpha=0.7,  geo=True, tiles='CartoLight',  xaxis=False, yaxis=False, height=500, colorbar=False)"
   ]
  },
  {
   "cell_type": "markdown",
   "metadata": {},
   "source": [
    "There are some obvious spatial patterns (which we might expect, given the results of our prior esda and segregation analyses). But what do these clusters mean? What kinds of demographic features do they represent?"
   ]
  },
  {
   "cell_type": "code",
   "execution_count": null,
   "metadata": {
    "execution": {
     "iopub.execute_input": "2020-11-03T03:38:30.641956Z",
     "iopub.status.busy": "2020-11-03T03:38:30.641525Z",
     "iopub.status.idle": "2020-11-03T03:38:30.646542Z",
     "shell.execute_reply": "2020-11-03T03:38:30.646984Z"
    }
   },
   "outputs": [],
   "source": [
    "la.groupby('kmeans')[columns].mean()"
   ]
  },
  {
   "cell_type": "markdown",
   "metadata": {},
   "source": [
    "This table is a lot to interpret at once, so a visualization would be handy. Violin plots are a nice way of examining how each of the input variables is distributed in each of the resulting clusters"
   ]
  },
  {
   "cell_type": "code",
   "execution_count": null,
   "metadata": {
    "execution": {
     "iopub.execute_input": "2020-11-03T03:38:30.718750Z",
     "iopub.status.busy": "2020-11-03T03:38:30.718016Z",
     "iopub.status.idle": "2020-11-03T03:38:31.805871Z",
     "shell.execute_reply": "2020-11-03T03:38:31.806961Z"
    }
   },
   "outputs": [],
   "source": [
    "sns.set_style('whitegrid')\n",
    "fig, ax = plt.subplots(3,2, figsize=(16,8))\n",
    "ax=ax.flatten()\n",
    "for i, col in enumerate(columns):\n",
    "    sns.violinplot(data=la, y=col, x=la.kmeans, ax=ax[i])\n",
    "    ax[i].set_title(col.replace(\"_\", \" \").title())\n",
    "plt.tight_layout()\n"
   ]
  },
  {
   "cell_type": "markdown",
   "metadata": {},
   "source": [
    "We can also use a statistic to tell us how well this model fits the data. To do so, we can use scikit-learn's [silhouette score](https://scikit-learn.org/stable/modules/generated/sklearn.metrics.silhouette_score.html)\n",
    "\n",
    "> The Silhouette Coefficient is calculated using the mean intra-cluster distance (a) and the mean nearest-cluster distance (b) for each sample. The Silhouette Coefficient for a sample is (b - a) / max(a, b). To clarify, b is the distance between a sample and the nearest cluster that the sample is not a part of. Note that Silhouette Coefficient is only defined if number of labels is 2 <= n_labels <= n_samples - 1.\n",
    "\n",
    "> This function returns the mean Silhouette Coefficient over all samples. To obtain the values for each sample, use silhouette_samples.\n",
    "\n",
    "> The best value is 1 and the worst value is -1. Values near 0 indicate overlapping clusters. Negative values generally indicate that a sample has been assigned to the wrong cluster, as a different cluster is more similar."
   ]
  },
  {
   "cell_type": "code",
   "execution_count": null,
   "metadata": {
    "execution": {
     "iopub.execute_input": "2020-11-03T03:38:31.811107Z",
     "iopub.status.busy": "2020-11-03T03:38:31.810539Z",
     "iopub.status.idle": "2020-11-03T03:38:31.812484Z",
     "shell.execute_reply": "2020-11-03T03:38:31.813117Z"
    }
   },
   "outputs": [],
   "source": [
    "from sklearn.metrics import silhouette_score"
   ]
  },
  {
   "cell_type": "code",
   "execution_count": null,
   "metadata": {
    "execution": {
     "iopub.execute_input": "2020-11-03T03:38:31.818199Z",
     "iopub.status.busy": "2020-11-03T03:38:31.817707Z",
     "iopub.status.idle": "2020-11-03T03:38:31.909264Z",
     "shell.execute_reply": "2020-11-03T03:38:31.909996Z"
    }
   },
   "outputs": [],
   "source": [
    "silhouette_score(scaler.fit_transform(la[columns]), la_kmeans.labels_)"
   ]
  },
  {
   "cell_type": "markdown",
   "metadata": {},
   "source": [
    "What about other clustering algorithms or other numbers for *k*? Might we get a better model fit?"
   ]
  },
  {
   "cell_type": "code",
   "execution_count": null,
   "metadata": {
    "execution": {
     "iopub.execute_input": "2020-11-03T03:38:31.916453Z",
     "iopub.status.busy": "2020-11-03T03:38:31.915795Z",
     "iopub.status.idle": "2020-11-03T03:38:38.676903Z",
     "shell.execute_reply": "2020-11-03T03:38:38.677622Z"
    }
   },
   "outputs": [],
   "source": [
    "la_affprop = AffinityPropagation(damping=0.8, preference=-1000,).fit(scaler.fit_transform(la[columns]))"
   ]
  },
  {
   "cell_type": "code",
   "execution_count": null,
   "metadata": {
    "execution": {
     "iopub.execute_input": "2020-11-03T03:38:38.681718Z",
     "iopub.status.busy": "2020-11-03T03:38:38.681091Z",
     "iopub.status.idle": "2020-11-03T03:38:38.683531Z",
     "shell.execute_reply": "2020-11-03T03:38:38.684147Z"
    }
   },
   "outputs": [],
   "source": [
    "la_affprop.labels_"
   ]
  },
  {
   "cell_type": "code",
   "execution_count": null,
   "metadata": {
    "execution": {
     "iopub.execute_input": "2020-11-03T03:38:38.688007Z",
     "iopub.status.busy": "2020-11-03T03:38:38.687462Z",
     "iopub.status.idle": "2020-11-03T03:38:38.690000Z",
     "shell.execute_reply": "2020-11-03T03:38:38.690514Z"
    }
   },
   "outputs": [],
   "source": [
    "import pandas\n",
    "pandas.Series(la_affprop.labels_).unique()"
   ]
  },
  {
   "cell_type": "code",
   "execution_count": null,
   "metadata": {
    "execution": {
     "iopub.execute_input": "2020-11-03T03:38:38.695307Z",
     "iopub.status.busy": "2020-11-03T03:38:38.694812Z",
     "iopub.status.idle": "2020-11-03T03:38:38.772946Z",
     "shell.execute_reply": "2020-11-03T03:38:38.773616Z"
    }
   },
   "outputs": [],
   "source": [
    "silhouette_score(scaler.fit_transform(la[columns]), la_affprop.labels_)"
   ]
  },
  {
   "cell_type": "code",
   "execution_count": null,
   "metadata": {
    "execution": {
     "iopub.execute_input": "2020-11-03T03:38:38.777557Z",
     "iopub.status.busy": "2020-11-03T03:38:38.776917Z",
     "iopub.status.idle": "2020-11-03T03:38:38.779545Z",
     "shell.execute_reply": "2020-11-03T03:38:38.780219Z"
    }
   },
   "outputs": [],
   "source": [
    "la['affprop'] = la_affprop.labels_"
   ]
  },
  {
   "cell_type": "markdown",
   "metadata": {},
   "source": [
    "This will create a linked holoviews plot so we can zoom in on both maps together (**click the \"wheel zoom\" button on the bokeh plot so you can zoom in**)"
   ]
  },
  {
   "cell_type": "code",
   "execution_count": null,
   "metadata": {
    "execution": {
     "iopub.execute_input": "2020-11-03T03:38:38.785163Z",
     "iopub.status.busy": "2020-11-03T03:38:38.784553Z",
     "iopub.status.idle": "2020-11-03T03:38:46.922965Z",
     "shell.execute_reply": "2020-11-03T03:38:46.923489Z"
    }
   },
   "outputs": [],
   "source": [
    "la.hvplot(c='affprop', cmap='tab10', line_width=0.1, alpha=0.7,  geo=True, tiles='CartoLight',  xaxis=False, yaxis=False,  colorbar=False, title='Affinity Prop') + \\\n",
    "la.hvplot(c='kmeans', cmap='tab10', line_width=0.1, alpha=0.7,  geo=True, tiles='CartoLight',  xaxis=False, yaxis=False, colorbar=False, title='K-Means')"
   ]
  },
  {
   "cell_type": "markdown",
   "metadata": {},
   "source": [
    "The silhouette score tells us that the affinity propagation clusterer provided a better solution. Nonetheless, we end up with similar spatial patterns"
   ]
  },
  {
   "cell_type": "code",
   "execution_count": null,
   "metadata": {},
   "outputs": [],
   "source": []
  },
  {
   "cell_type": "markdown",
   "metadata": {},
   "source": [
    "## Spatially-Constrained Geodemographics (Regionalization)"
   ]
  },
  {
   "cell_type": "markdown",
   "metadata": {},
   "source": [
    "Above, we notice there are some obvious spatial patterns in the neighborhood clusters. That happens due to the underlying spatial autocorrelation in the race and class indicators we used to develop the clusters. Instead of allowing this autocorrelation to \"fall out\" of the results, we can leverage it to create spatially-contiguous clusters"
   ]
  },
  {
   "cell_type": "markdown",
   "metadata": {},
   "source": [
    "`scikit-learn`'s agglomerative clustering algorithm allows us to pass a constraint and it accepts a pysal `W` object. Lets compare solutions with and without the constraint"
   ]
  },
  {
   "cell_type": "code",
   "execution_count": null,
   "metadata": {
    "execution": {
     "iopub.execute_input": "2020-11-03T03:38:46.930884Z",
     "iopub.status.busy": "2020-11-03T03:38:46.930393Z",
     "iopub.status.idle": "2020-11-03T03:38:47.120390Z",
     "shell.execute_reply": "2020-11-03T03:38:47.120865Z"
    }
   },
   "outputs": [],
   "source": [
    "w = weights.Queen.from_dataframe(la)"
   ]
  },
  {
   "cell_type": "code",
   "execution_count": null,
   "metadata": {
    "execution": {
     "iopub.execute_input": "2020-11-03T03:38:47.125860Z",
     "iopub.status.busy": "2020-11-03T03:38:47.125428Z",
     "iopub.status.idle": "2020-11-03T03:38:47.217083Z",
     "shell.execute_reply": "2020-11-03T03:38:47.218032Z"
    }
   },
   "outputs": [],
   "source": [
    "la_ward = AgglomerativeClustering(n_clusters=8, linkage='ward').fit(scaler.fit_transform(la[columns]))"
   ]
  },
  {
   "cell_type": "code",
   "execution_count": null,
   "metadata": {
    "execution": {
     "iopub.execute_input": "2020-11-03T03:38:47.221944Z",
     "iopub.status.busy": "2020-11-03T03:38:47.221374Z",
     "iopub.status.idle": "2020-11-03T03:38:47.223249Z",
     "shell.execute_reply": "2020-11-03T03:38:47.223773Z"
    }
   },
   "outputs": [],
   "source": [
    "la['ward'] = la_ward.labels_"
   ]
  },
  {
   "cell_type": "code",
   "execution_count": null,
   "metadata": {
    "execution": {
     "iopub.execute_input": "2020-11-03T03:38:47.228373Z",
     "iopub.status.busy": "2020-11-03T03:38:47.227862Z",
     "iopub.status.idle": "2020-11-03T03:38:47.238008Z",
     "shell.execute_reply": "2020-11-03T03:38:47.238712Z"
    }
   },
   "outputs": [],
   "source": [
    "la.groupby('ward')[columns].median()"
   ]
  },
  {
   "cell_type": "code",
   "execution_count": null,
   "metadata": {
    "execution": {
     "iopub.execute_input": "2020-11-03T03:38:47.242436Z",
     "iopub.status.busy": "2020-11-03T03:38:47.241870Z",
     "iopub.status.idle": "2020-11-03T03:38:47.244310Z",
     "shell.execute_reply": "2020-11-03T03:38:47.243873Z"
    }
   },
   "outputs": [],
   "source": [
    "sns.set_style('white')"
   ]
  },
  {
   "cell_type": "code",
   "execution_count": null,
   "metadata": {
    "execution": {
     "iopub.execute_input": "2020-11-03T03:38:47.260312Z",
     "iopub.status.busy": "2020-11-03T03:38:47.259836Z",
     "iopub.status.idle": "2020-11-03T03:38:47.854315Z",
     "shell.execute_reply": "2020-11-03T03:38:47.854781Z"
    }
   },
   "outputs": [],
   "source": [
    "la.plot('ward', categorical=True)"
   ]
  },
  {
   "cell_type": "code",
   "execution_count": null,
   "metadata": {},
   "outputs": [],
   "source": []
  },
  {
   "cell_type": "code",
   "execution_count": null,
   "metadata": {
    "execution": {
     "iopub.execute_input": "2020-11-03T03:38:47.860064Z",
     "iopub.status.busy": "2020-11-03T03:38:47.859547Z",
     "iopub.status.idle": "2020-11-03T03:38:47.955803Z",
     "shell.execute_reply": "2020-11-03T03:38:47.956280Z"
    }
   },
   "outputs": [],
   "source": [
    "la_ward_spatial = AgglomerativeClustering(n_clusters=8, linkage='ward', connectivity=w.sparse).fit(scaler.fit_transform(la[columns]))"
   ]
  },
  {
   "cell_type": "code",
   "execution_count": null,
   "metadata": {
    "execution": {
     "iopub.execute_input": "2020-11-03T03:38:47.959810Z",
     "iopub.status.busy": "2020-11-03T03:38:47.959271Z",
     "iopub.status.idle": "2020-11-03T03:38:47.960920Z",
     "shell.execute_reply": "2020-11-03T03:38:47.961441Z"
    }
   },
   "outputs": [],
   "source": [
    "la['ward_spatial'] = la_ward_spatial.labels_"
   ]
  },
  {
   "cell_type": "code",
   "execution_count": null,
   "metadata": {
    "execution": {
     "iopub.execute_input": "2020-11-03T03:38:47.965509Z",
     "iopub.status.busy": "2020-11-03T03:38:47.964984Z",
     "iopub.status.idle": "2020-11-03T03:38:55.958564Z",
     "shell.execute_reply": "2020-11-03T03:38:55.959018Z"
    }
   },
   "outputs": [],
   "source": [
    "la.hvplot(c='ward', cmap='tab10', line_width=0.1, alpha=0.7,  geo=True, tiles='CartoLight',  xaxis=False, yaxis=False, frame_height=450, colorbar=False) + \\\n",
    "la.hvplot(c='ward_spatial', cmap='tab10', line_width=0.1, alpha=0.7,  geo=True, tiles='CartoLight',  xaxis=False, yaxis=False, frame_height=450, colorbar=False)"
   ]
  },
  {
   "cell_type": "code",
   "execution_count": null,
   "metadata": {
    "execution": {
     "iopub.execute_input": "2020-11-03T03:38:55.964097Z",
     "iopub.status.busy": "2020-11-03T03:38:55.963678Z",
     "iopub.status.idle": "2020-11-03T03:38:56.044727Z",
     "shell.execute_reply": "2020-11-03T03:38:56.045455Z"
    }
   },
   "outputs": [],
   "source": [
    "silhouette_score(scaler.fit_transform(la[columns]), la_ward.labels_)"
   ]
  },
  {
   "cell_type": "code",
   "execution_count": null,
   "metadata": {
    "execution": {
     "iopub.execute_input": "2020-11-03T03:38:56.051340Z",
     "iopub.status.busy": "2020-11-03T03:38:56.050698Z",
     "iopub.status.idle": "2020-11-03T03:38:56.134453Z",
     "shell.execute_reply": "2020-11-03T03:38:56.135174Z"
    }
   },
   "outputs": [],
   "source": [
    "silhouette_score(scaler.fit_transform(la[columns]), la_ward_spatial.labels_)"
   ]
  },
  {
   "cell_type": "markdown",
   "metadata": {},
   "source": [
    "Why is the silhouette score higher for the first soluttion?"
   ]
  },
  {
   "cell_type": "code",
   "execution_count": null,
   "metadata": {},
   "outputs": [],
   "source": []
  },
  {
   "cell_type": "markdown",
   "metadata": {},
   "source": [
    "## Exercise"
   ]
  },
  {
   "cell_type": "markdown",
   "metadata": {},
   "source": [
    "1. Two geodemographic typologies for Orange County using the same race and class variables as above\n",
    "    - for the first, use 5 clusters\n",
    "    - for the second, use 8 clusters\n",
    "    - which solution is better?"
   ]
  },
  {
   "cell_type": "markdown",
   "metadata": {},
   "source": [
    "2. Create a geodemographic typology for Riverside County using Affinity Propagation with `damping=0.8` and `preference=-100`\n",
    "    - How many unique clusters do you find?\n",
    "    - What is the average home price for tracts in Cluster 3?"
   ]
  },
  {
   "cell_type": "markdown",
   "metadata": {},
   "source": [
    "3. What would happen if you created a spatially-constrained geodemographic typology using **DistanceBand**  spatial weights?"
   ]
  },
  {
   "cell_type": "code",
   "execution_count": null,
   "metadata": {
    "execution": {
     "iopub.execute_input": "2020-11-03T03:38:56.149931Z",
     "iopub.status.busy": "2020-11-03T03:38:56.142540Z",
     "iopub.status.idle": "2020-11-03T03:38:56.469548Z",
     "shell.execute_reply": "2020-11-03T03:38:56.470232Z"
    }
   },
   "outputs": [],
   "source": [
    "# %load solutions/05.py"
   ]
  },
  {
   "cell_type": "code",
   "execution_count": null,
   "metadata": {},
   "outputs": [],
   "source": []
  }
 ],
 "metadata": {
  "kernelspec": {
   "display_name": "Python [conda env:pysal-workshop]",
   "language": "python",
   "name": "conda-env-pysal-workshop-py"
  },
  "language_info": {
   "codemirror_mode": {
    "name": "ipython",
    "version": 3
   },
   "file_extension": ".py",
   "mimetype": "text/x-python",
   "name": "python",
   "nbconvert_exporter": "python",
   "pygments_lexer": "ipython3",
   "version": "3.7.8"
  },
  "toc": {
   "base_numbering": 1,
   "nav_menu": {},
   "number_sections": true,
   "sideBar": true,
   "skip_h1_title": false,
   "title_cell": "Table of Contents",
   "title_sidebar": "Contents",
   "toc_cell": false,
   "toc_position": {},
   "toc_section_display": true,
   "toc_window_display": false
  },
  "widgets": {
   "application/vnd.jupyter.widget-state+json": {
    "state": {},
    "version_major": 2,
    "version_minor": 0
   }
  }
 },
 "nbformat": 4,
 "nbformat_minor": 4
}
