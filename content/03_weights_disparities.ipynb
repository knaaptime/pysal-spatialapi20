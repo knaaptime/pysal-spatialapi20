{
 "cells": [
  {
   "cell_type": "markdown",
   "metadata": {},
   "source": [
    "# Spatial Weights\n",
    "\n",
    "Using spatial weights to explore spatial disparities"
   ]
  },
  {
   "cell_type": "code",
   "execution_count": null,
   "metadata": {
    "execution": {
     "iopub.execute_input": "2020-11-03T03:37:11.593534Z",
     "iopub.status.busy": "2020-11-03T03:37:11.592923Z",
     "iopub.status.idle": "2020-11-03T03:37:12.878858Z",
     "shell.execute_reply": "2020-11-03T03:37:12.879530Z"
    }
   },
   "outputs": [],
   "source": [
    "import geopandas\n",
    "import libpysal\n",
    "import numpy\n",
    "%matplotlib inline"
   ]
  },
  {
   "cell_type": "code",
   "execution_count": null,
   "metadata": {
    "execution": {
     "iopub.execute_input": "2020-11-03T03:37:13.222287Z",
     "iopub.status.busy": "2020-11-03T03:37:13.122200Z",
     "iopub.status.idle": "2020-11-03T03:37:13.761912Z",
     "shell.execute_reply": "2020-11-03T03:37:13.762470Z"
    }
   },
   "outputs": [],
   "source": [
    "df = geopandas.read_file('data/scag_region.gpkg')\n",
    "df.fillna(df.mean(), inplace=True)"
   ]
  },
  {
   "cell_type": "markdown",
   "metadata": {},
   "source": [
    "https://www.azavea.com/blog/2019/05/02/analyzing-life-expectancy-in-python/"
   ]
  },
  {
   "cell_type": "code",
   "execution_count": null,
   "metadata": {
    "execution": {
     "iopub.execute_input": "2020-11-03T03:37:13.772722Z",
     "iopub.status.busy": "2020-11-03T03:37:13.772208Z",
     "iopub.status.idle": "2020-11-03T03:37:14.417318Z",
     "shell.execute_reply": "2020-11-03T03:37:14.417834Z"
    }
   },
   "outputs": [],
   "source": [
    "wq = libpysal.weights.Queen.from_dataframe(df)"
   ]
  },
  {
   "cell_type": "code",
   "execution_count": null,
   "metadata": {
    "execution": {
     "iopub.execute_input": "2020-11-03T03:37:14.421009Z",
     "iopub.status.busy": "2020-11-03T03:37:14.420455Z",
     "iopub.status.idle": "2020-11-03T03:37:14.422051Z",
     "shell.execute_reply": "2020-11-03T03:37:14.422571Z"
    }
   },
   "outputs": [],
   "source": [
    "hv = df['median_home_value'].values"
   ]
  },
  {
   "cell_type": "code",
   "execution_count": null,
   "metadata": {
    "execution": {
     "iopub.execute_input": "2020-11-03T03:37:14.427136Z",
     "iopub.status.busy": "2020-11-03T03:37:14.426632Z",
     "iopub.status.idle": "2020-11-03T03:37:14.428957Z",
     "shell.execute_reply": "2020-11-03T03:37:14.429505Z"
    }
   },
   "outputs": [],
   "source": [
    "hv"
   ]
  },
  {
   "cell_type": "markdown",
   "metadata": {},
   "source": [
    "## Find maximum pairwise difference in hv"
   ]
  },
  {
   "cell_type": "code",
   "execution_count": null,
   "metadata": {
    "execution": {
     "iopub.execute_input": "2020-11-03T03:37:14.432402Z",
     "iopub.status.busy": "2020-11-03T03:37:14.431901Z",
     "iopub.status.idle": "2020-11-03T03:37:14.589043Z",
     "shell.execute_reply": "2020-11-03T03:37:14.589423Z"
    }
   },
   "outputs": [],
   "source": [
    "pw_diff = numpy.abs(hv[:, numpy.newaxis] - hv)\n"
   ]
  },
  {
   "cell_type": "code",
   "execution_count": null,
   "metadata": {
    "execution": {
     "iopub.execute_input": "2020-11-03T03:37:14.593055Z",
     "iopub.status.busy": "2020-11-03T03:37:14.592475Z",
     "iopub.status.idle": "2020-11-03T03:37:14.595507Z",
     "shell.execute_reply": "2020-11-03T03:37:14.594986Z"
    }
   },
   "outputs": [],
   "source": [
    "wq.neighbors[0]"
   ]
  },
  {
   "cell_type": "code",
   "execution_count": null,
   "metadata": {
    "execution": {
     "iopub.execute_input": "2020-11-03T03:37:14.599039Z",
     "iopub.status.busy": "2020-11-03T03:37:14.598489Z",
     "iopub.status.idle": "2020-11-03T03:37:15.360519Z",
     "shell.execute_reply": "2020-11-03T03:37:15.360018Z"
    }
   },
   "outputs": [],
   "source": [
    "W = wq.full()[0]\n"
   ]
  },
  {
   "cell_type": "code",
   "execution_count": null,
   "metadata": {
    "execution": {
     "iopub.execute_input": "2020-11-03T03:37:15.363336Z",
     "iopub.status.busy": "2020-11-03T03:37:15.362874Z",
     "iopub.status.idle": "2020-11-03T03:37:15.443750Z",
     "shell.execute_reply": "2020-11-03T03:37:15.444278Z"
    }
   },
   "outputs": [],
   "source": [
    "pw_sdiff = W * pw_diff"
   ]
  },
  {
   "cell_type": "code",
   "execution_count": null,
   "metadata": {
    "execution": {
     "iopub.execute_input": "2020-11-03T03:37:15.447991Z",
     "iopub.status.busy": "2020-11-03T03:37:15.447407Z",
     "iopub.status.idle": "2020-11-03T03:37:15.449949Z",
     "shell.execute_reply": "2020-11-03T03:37:15.450795Z"
    }
   },
   "outputs": [],
   "source": [
    "pw_sdiff[0, wq.neighbors[0]]"
   ]
  },
  {
   "cell_type": "code",
   "execution_count": null,
   "metadata": {
    "execution": {
     "iopub.execute_input": "2020-11-03T03:37:15.453804Z",
     "iopub.status.busy": "2020-11-03T03:37:15.453284Z",
     "iopub.status.idle": "2020-11-03T03:37:15.467350Z",
     "shell.execute_reply": "2020-11-03T03:37:15.467869Z"
    }
   },
   "outputs": [],
   "source": [
    "pw_sdiff.max()"
   ]
  },
  {
   "cell_type": "code",
   "execution_count": null,
   "metadata": {
    "execution": {
     "iopub.execute_input": "2020-11-03T03:37:15.472814Z",
     "iopub.status.busy": "2020-11-03T03:37:15.470325Z",
     "iopub.status.idle": "2020-11-03T03:37:15.543475Z",
     "shell.execute_reply": "2020-11-03T03:37:15.543996Z"
    }
   },
   "outputs": [],
   "source": [
    "d_idx = numpy.where(pw_sdiff == pw_sdiff.max())[0]"
   ]
  },
  {
   "cell_type": "code",
   "execution_count": null,
   "metadata": {
    "execution": {
     "iopub.execute_input": "2020-11-03T03:37:15.547360Z",
     "iopub.status.busy": "2020-11-03T03:37:15.546832Z",
     "iopub.status.idle": "2020-11-03T03:37:15.549119Z",
     "shell.execute_reply": "2020-11-03T03:37:15.549633Z"
    }
   },
   "outputs": [],
   "source": [
    "hv[d_idx]"
   ]
  },
  {
   "cell_type": "code",
   "execution_count": null,
   "metadata": {
    "execution": {
     "iopub.execute_input": "2020-11-03T03:37:15.552567Z",
     "iopub.status.busy": "2020-11-03T03:37:15.552064Z",
     "iopub.status.idle": "2020-11-03T03:37:15.554199Z",
     "shell.execute_reply": "2020-11-03T03:37:15.554703Z"
    }
   },
   "outputs": [],
   "source": [
    "d_idx"
   ]
  },
  {
   "cell_type": "code",
   "execution_count": null,
   "metadata": {
    "execution": {
     "iopub.execute_input": "2020-11-03T03:37:15.557761Z",
     "iopub.status.busy": "2020-11-03T03:37:15.557266Z",
     "iopub.status.idle": "2020-11-03T03:37:15.715029Z",
     "shell.execute_reply": "2020-11-03T03:37:15.715718Z"
    }
   },
   "outputs": [],
   "source": [
    "df.iloc[d_idx].plot()"
   ]
  },
  {
   "cell_type": "code",
   "execution_count": null,
   "metadata": {
    "execution": {
     "iopub.execute_input": "2020-11-03T03:37:15.728419Z",
     "iopub.status.busy": "2020-11-03T03:37:15.727529Z",
     "iopub.status.idle": "2020-11-03T03:37:15.741495Z",
     "shell.execute_reply": "2020-11-03T03:37:15.742084Z"
    }
   },
   "outputs": [],
   "source": [
    "df.iloc[d_idx].head()"
   ]
  },
  {
   "cell_type": "code",
   "execution_count": null,
   "metadata": {
    "execution": {
     "iopub.execute_input": "2020-11-03T03:37:15.747320Z",
     "iopub.status.busy": "2020-11-03T03:37:15.746739Z",
     "iopub.status.idle": "2020-11-03T03:37:15.749413Z",
     "shell.execute_reply": "2020-11-03T03:37:15.750092Z"
    }
   },
   "outputs": [],
   "source": [
    "df.iloc[d_idx]['median_home_value']"
   ]
  },
  {
   "cell_type": "code",
   "execution_count": null,
   "metadata": {
    "execution": {
     "iopub.execute_input": "2020-11-03T03:37:15.754936Z",
     "iopub.status.busy": "2020-11-03T03:37:15.754410Z",
     "iopub.status.idle": "2020-11-03T03:37:15.756504Z",
     "shell.execute_reply": "2020-11-03T03:37:15.757073Z"
    }
   },
   "outputs": [],
   "source": [
    "import numpy as np\n",
    "def largest_indices(ary, n):\n",
    "    \"\"\"Returns the n largest indices from a numpy array.\"\"\"\n",
    "    flat = ary.flatten()\n",
    "    indices = np.argpartition(flat, -n)[-n:]\n",
    "    indices = indices[np.argsort(-flat[indices])]\n",
    "    return np.unravel_index(indices, ary.shape)"
   ]
  },
  {
   "cell_type": "code",
   "execution_count": null,
   "metadata": {
    "execution": {
     "iopub.execute_input": "2020-11-03T03:37:15.760458Z",
     "iopub.status.busy": "2020-11-03T03:37:15.759913Z",
     "iopub.status.idle": "2020-11-03T03:37:15.761633Z",
     "shell.execute_reply": "2020-11-03T03:37:15.762180Z"
    }
   },
   "outputs": [],
   "source": [
    " xs = np.sin(np.arange(9)).reshape((3, 3))"
   ]
  },
  {
   "cell_type": "code",
   "execution_count": null,
   "metadata": {
    "execution": {
     "iopub.execute_input": "2020-11-03T03:37:15.766166Z",
     "iopub.status.busy": "2020-11-03T03:37:15.765526Z",
     "iopub.status.idle": "2020-11-03T03:37:15.767872Z",
     "shell.execute_reply": "2020-11-03T03:37:15.768446Z"
    }
   },
   "outputs": [],
   "source": [
    "xs"
   ]
  },
  {
   "cell_type": "code",
   "execution_count": null,
   "metadata": {
    "execution": {
     "iopub.execute_input": "2020-11-03T03:37:15.772463Z",
     "iopub.status.busy": "2020-11-03T03:37:15.771777Z",
     "iopub.status.idle": "2020-11-03T03:37:15.774331Z",
     "shell.execute_reply": "2020-11-03T03:37:15.774858Z"
    }
   },
   "outputs": [],
   "source": [
    "largest_indices(xs, 3)"
   ]
  },
  {
   "cell_type": "code",
   "execution_count": null,
   "metadata": {
    "execution": {
     "iopub.execute_input": "2020-11-03T03:37:15.777912Z",
     "iopub.status.busy": "2020-11-03T03:37:15.777328Z",
     "iopub.status.idle": "2020-11-03T03:37:16.004682Z",
     "shell.execute_reply": "2020-11-03T03:37:16.005288Z"
    }
   },
   "outputs": [],
   "source": [
    "largest_indices(pw_sdiff, 10)"
   ]
  },
  {
   "cell_type": "code",
   "execution_count": null,
   "metadata": {
    "execution": {
     "iopub.execute_input": "2020-11-03T03:37:16.008301Z",
     "iopub.status.busy": "2020-11-03T03:37:16.007791Z",
     "iopub.status.idle": "2020-11-03T03:37:16.145465Z",
     "shell.execute_reply": "2020-11-03T03:37:16.146042Z"
    }
   },
   "outputs": [],
   "source": [
    "pw_sdiff[largest_indices(pw_sdiff, 10)]"
   ]
  },
  {
   "cell_type": "code",
   "execution_count": null,
   "metadata": {
    "execution": {
     "iopub.execute_input": "2020-11-03T03:37:16.149246Z",
     "iopub.status.busy": "2020-11-03T03:37:16.148705Z",
     "iopub.status.idle": "2020-11-03T03:37:16.287719Z",
     "shell.execute_reply": "2020-11-03T03:37:16.288116Z"
    }
   },
   "outputs": [],
   "source": [
    "idxs = largest_indices(pw_sdiff, 10)"
   ]
  },
  {
   "cell_type": "code",
   "execution_count": null,
   "metadata": {
    "execution": {
     "iopub.execute_input": "2020-11-03T03:37:16.291468Z",
     "iopub.status.busy": "2020-11-03T03:37:16.290957Z",
     "iopub.status.idle": "2020-11-03T03:37:16.292766Z",
     "shell.execute_reply": "2020-11-03T03:37:16.293350Z"
    }
   },
   "outputs": [],
   "source": [
    "c_idxs = np.unique(np.concatenate(idxs))"
   ]
  },
  {
   "cell_type": "code",
   "execution_count": null,
   "metadata": {
    "execution": {
     "iopub.execute_input": "2020-11-03T03:37:16.296443Z",
     "iopub.status.busy": "2020-11-03T03:37:16.295928Z",
     "iopub.status.idle": "2020-11-03T03:37:16.298235Z",
     "shell.execute_reply": "2020-11-03T03:37:16.298756Z"
    }
   },
   "outputs": [],
   "source": [
    "c_idxs"
   ]
  },
  {
   "cell_type": "code",
   "execution_count": null,
   "metadata": {
    "execution": {
     "iopub.execute_input": "2020-11-03T03:37:16.315573Z",
     "iopub.status.busy": "2020-11-03T03:37:16.307240Z",
     "iopub.status.idle": "2020-11-03T03:37:16.441442Z",
     "shell.execute_reply": "2020-11-03T03:37:16.441890Z"
    }
   },
   "outputs": [],
   "source": [
    "df.iloc[c_idxs].plot()"
   ]
  },
  {
   "cell_type": "code",
   "execution_count": null,
   "metadata": {
    "execution": {
     "iopub.execute_input": "2020-11-03T03:37:16.445283Z",
     "iopub.status.busy": "2020-11-03T03:37:16.444856Z",
     "iopub.status.idle": "2020-11-03T03:37:16.447483Z",
     "shell.execute_reply": "2020-11-03T03:37:16.447047Z"
    }
   },
   "outputs": [],
   "source": [
    "n,k = df.shape\n",
    "pair_diff = np.zeros((n,1))\n",
    "pair_diff[c_idxs] = 1"
   ]
  },
  {
   "cell_type": "code",
   "execution_count": null,
   "metadata": {
    "execution": {
     "iopub.execute_input": "2020-11-03T03:37:16.450809Z",
     "iopub.status.busy": "2020-11-03T03:37:16.450390Z",
     "iopub.status.idle": "2020-11-03T03:37:16.452885Z",
     "shell.execute_reply": "2020-11-03T03:37:16.453326Z"
    }
   },
   "outputs": [],
   "source": [
    "df['pair_diff'] = pair_diff"
   ]
  },
  {
   "cell_type": "code",
   "execution_count": null,
   "metadata": {
    "execution": {
     "iopub.execute_input": "2020-11-03T03:37:16.468996Z",
     "iopub.status.busy": "2020-11-03T03:37:16.468546Z",
     "iopub.status.idle": "2020-11-03T03:37:17.548145Z",
     "shell.execute_reply": "2020-11-03T03:37:17.548684Z"
    }
   },
   "outputs": [],
   "source": [
    "df.plot(column='pair_diff', categorical='True', legend=True)"
   ]
  },
  {
   "cell_type": "code",
   "execution_count": null,
   "metadata": {
    "execution": {
     "iopub.execute_input": "2020-11-03T03:37:17.551657Z",
     "iopub.status.busy": "2020-11-03T03:37:17.551222Z",
     "iopub.status.idle": "2020-11-03T03:37:17.788134Z",
     "shell.execute_reply": "2020-11-03T03:37:17.788653Z"
    }
   },
   "outputs": [],
   "source": [
    "import folium\n",
    "from folium.plugins import MarkerCluster"
   ]
  },
  {
   "cell_type": "code",
   "execution_count": null,
   "metadata": {
    "execution": {
     "iopub.execute_input": "2020-11-03T03:37:17.792379Z",
     "iopub.status.busy": "2020-11-03T03:37:17.791664Z",
     "iopub.status.idle": "2020-11-03T03:37:17.802252Z",
     "shell.execute_reply": "2020-11-03T03:37:17.802876Z"
    }
   },
   "outputs": [],
   "source": [
    "m = folium.Map(tiles='cartodbpositron', min_zoom=4, zoom_start=4.25, \n",
    "               max_bounds=True,location=[33.8283459,-98.5794797],\n",
    "               min_lat=5.499550, min_lon=-160.276413, \n",
    "               max_lat=83.162102, max_lon=-52.233040)\n"
   ]
  },
  {
   "cell_type": "code",
   "execution_count": null,
   "metadata": {
    "execution": {
     "iopub.execute_input": "2020-11-03T03:37:17.809282Z",
     "iopub.status.busy": "2020-11-03T03:37:17.808786Z",
     "iopub.status.idle": "2020-11-03T03:37:55.047108Z",
     "shell.execute_reply": "2020-11-03T03:37:55.047609Z"
    }
   },
   "outputs": [],
   "source": [
    "df.to_file('data/pairs.geojson',  driver='GeoJSON')"
   ]
  },
  {
   "cell_type": "code",
   "execution_count": null,
   "metadata": {
    "execution": {
     "iopub.execute_input": "2020-11-03T03:37:55.051450Z",
     "iopub.status.busy": "2020-11-03T03:37:55.051028Z",
     "iopub.status.idle": "2020-11-03T03:37:55.181295Z",
     "shell.execute_reply": "2020-11-03T03:37:55.181761Z"
    }
   },
   "outputs": [],
   "source": [
    "min_lon, min_lat, max_lon, max_lat = df.total_bounds\n",
    "c_lon = (max_lon + min_lon)/2\n",
    "c_lat = (max_lat + min_lat)/2"
   ]
  },
  {
   "cell_type": "code",
   "execution_count": null,
   "metadata": {
    "execution": {
     "iopub.execute_input": "2020-11-03T03:37:55.187850Z",
     "iopub.status.busy": "2020-11-03T03:37:55.187368Z",
     "iopub.status.idle": "2020-11-03T03:37:59.665234Z",
     "shell.execute_reply": "2020-11-03T03:37:59.441438Z"
    }
   },
   "outputs": [],
   "source": [
    "m = folium.Map(tiles='cartodbpositron', min_zoom=4, zoom_start=7, \n",
    "               max_bounds=True,location=[c_lon, c_lat],\n",
    "               min_lat=min_lat, min_lon=min_lon, \n",
    "               max_lat=max_lat, max_lon=max_lon)\n",
    "marker_cluster = MarkerCluster(\n",
    "    options = {'maxClusterRadius':15, \n",
    "               'disableCusteringAtZoom':5, \n",
    "               'singleMarkerMode':True}).add_to(m)\n",
    "folium.Choropleth(\n",
    "    geo_data = 'data/pairs.geojson',\n",
    "    data = df,\n",
    "    columns = ['geoid','median_home_value'],\n",
    "    fill_color = 'YlGn',\n",
    "    key_on = 'feature.properties.geoid',\n",
    "    name = 'geojson',\n",
    "    legend_name='median_home_value'\n",
    ").add_to(m)\n",
    "for i, tract in df.iloc[c_idxs].iterrows():   #top_50_tracts_gdf.iterrows():\n",
    "    x = tract.geometry.centroid.x\n",
    "    y = tract.geometry.centroid.y\n",
    "    l = tract.median_home_value\n",
    "    folium.CircleMarker([y, x], radius=8, color='black', \n",
    "                        fill_color='white', fill_opacity=0.5, \n",
    "                        tooltip='Median House Value: {}'.format(str(l))).add_to(marker_cluster)\n",
    "f = folium.Figure()\n",
    "title = '<h2>Spatial Housing Markets</h2>'\n",
    "subtitle = '<h4><i>Census tract neighbors across ' + \\\n",
    "           'Southern California with the widest disparities ' + \\\n",
    "           'in home values<i></h4>'\n",
    "f.html.add_child(folium.Element(title))\n",
    "f.html.add_child(folium.Element(subtitle))\n",
    "f.add_child(m)\n",
    "f"
   ]
  },
  {
   "cell_type": "code",
   "execution_count": null,
   "metadata": {
    "execution": {
     "iopub.execute_input": "2020-11-03T03:37:59.676717Z",
     "iopub.status.busy": "2020-11-03T03:37:59.676219Z",
     "iopub.status.idle": "2020-11-03T03:37:59.689192Z",
     "shell.execute_reply": "2020-11-03T03:37:59.689759Z"
    }
   },
   "outputs": [],
   "source": [
    "df.head()"
   ]
  },
  {
   "cell_type": "code",
   "execution_count": null,
   "metadata": {},
   "outputs": [],
   "source": []
  }
 ],
 "metadata": {
  "kernelspec": {
   "display_name": "Python 3",
   "language": "python",
   "name": "python3"
  },
  "language_info": {
   "codemirror_mode": {
    "name": "ipython",
    "version": 3
   },
   "file_extension": ".py",
   "mimetype": "text/x-python",
   "name": "python",
   "nbconvert_exporter": "python",
   "pygments_lexer": "ipython3",
   "version": "3.7.8"
  },
  "widgets": {
   "application/vnd.jupyter.widget-state+json": {
    "state": {},
    "version_major": 2,
    "version_minor": 0
   }
  }
 },
 "nbformat": 4,
 "nbformat_minor": 4
}
