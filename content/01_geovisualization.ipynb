{
 "cells": [
  {
   "cell_type": "markdown",
   "metadata": {},
   "source": [
    "# Geovisualization with PySAL\n",
    "\n",
    "\n",
    "\n",
    "## Introduction\n",
    "\n",
    "When the [Python Spatial Analysis Library](https://github.com/pysal), `PySAL`, was originally planned, the intention was to focus on the computational aspects of exploratory spatial data analysis and spatial econometric methods, while relying on existing GIS packages and visualization libraries for visualization of computations. Indeed, we have partnered with [esri](https://geodacenter.asu.edu/arc_pysal) and [QGIS](http://planet.qgis.org/planet/tag/pysal/ ) towards this end.\n",
    "\n",
    "However, over time we have received many requests for supporting basic geovisualization within PySAL so that the step of having to interoperate with an external package can be avoided, thereby increasing the efficiency of the spatial analytical workflow.\n",
    "\n",
    "\n",
    "\n",
    "In this notebook, we demonstrate several approaches towards a particular subset of geovisualization methods, namely **choropleth maps**. We start with an exploratory workflow introducing mapclassify and geopandas to create different choropleth classifications and maps for quick exploratory data analysis. We then introduce the **geoviews** package for interactive mapping in support of exploratory spatial data analysis.\n",
    "\n",
    "\n"
   ]
  },
  {
   "cell_type": "markdown",
   "metadata": {},
   "source": [
    "### PySAL Map Classifiers\n"
   ]
  },
  {
   "cell_type": "code",
   "execution_count": null,
   "metadata": {
    "execution": {
     "iopub.execute_input": "2020-11-03T03:35:41.166608Z",
     "iopub.status.busy": "2020-11-03T03:35:41.166046Z",
     "iopub.status.idle": "2020-11-03T03:35:42.415253Z",
     "shell.execute_reply": "2020-11-03T03:35:42.415878Z"
    }
   },
   "outputs": [],
   "source": [
    "import mapclassify\n",
    "import geopandas as gpd\n",
    "import matplotlib.pyplot as plt\n",
    "import contextily as cx"
   ]
  },
  {
   "cell_type": "code",
   "execution_count": null,
   "metadata": {
    "execution": {
     "iopub.execute_input": "2020-11-03T03:35:42.915470Z",
     "iopub.status.busy": "2020-11-03T03:35:42.574249Z",
     "iopub.status.idle": "2020-11-03T03:35:43.273093Z",
     "shell.execute_reply": "2020-11-03T03:35:43.273890Z"
    }
   },
   "outputs": [],
   "source": [
    "shp_link = 'data/scag_region.gpkg'\n",
    "gdf = gpd.read_file(shp_link)"
   ]
  },
  {
   "cell_type": "code",
   "execution_count": null,
   "metadata": {
    "execution": {
     "iopub.execute_input": "2020-11-03T03:35:43.277737Z",
     "iopub.status.busy": "2020-11-03T03:35:43.277175Z",
     "iopub.status.idle": "2020-11-03T03:35:43.679001Z",
     "shell.execute_reply": "2020-11-03T03:35:43.679465Z"
    }
   },
   "outputs": [],
   "source": [
    "gdf = gdf.to_crs(3857)"
   ]
  },
  {
   "cell_type": "code",
   "execution_count": null,
   "metadata": {
    "execution": {
     "iopub.execute_input": "2020-11-03T03:35:43.696453Z",
     "iopub.status.busy": "2020-11-03T03:35:43.695988Z",
     "iopub.status.idle": "2020-11-03T03:35:44.694280Z",
     "shell.execute_reply": "2020-11-03T03:35:44.694725Z"
    }
   },
   "outputs": [],
   "source": [
    "f, ax = plt.subplots(1, figsize=(12, 8))\n",
    "gdf.plot(column='median_home_value', scheme='QUANTILES', ax=ax,\n",
    "        edgecolor='white', legend=True, linewidth=0.3)\n",
    "ax.set_axis_off()\n",
    "plt.show()"
   ]
  },
  {
   "cell_type": "markdown",
   "metadata": {},
   "source": [
    "As a first cut, `geopandas` makes it very easy to plot a map quickly. If you know the area well, this may do fine for quick exploration. If you *don't* know a place extremely well (or you want to make a figure easy to understand for those who don't) it's often a good idea to add a basemap for context. We can do that easily using the `contextily` package"
   ]
  },
  {
   "cell_type": "code",
   "execution_count": null,
   "metadata": {},
   "outputs": [],
   "source": []
  },
  {
   "cell_type": "code",
   "execution_count": null,
   "metadata": {
    "execution": {
     "iopub.execute_input": "2020-11-03T03:35:44.697873Z",
     "iopub.status.busy": "2020-11-03T03:35:44.697448Z",
     "iopub.status.idle": "2020-11-03T03:35:44.821248Z",
     "shell.execute_reply": "2020-11-03T03:35:44.821788Z"
    }
   },
   "outputs": [],
   "source": [
    "gdf.fillna(gdf.mean(), inplace = True) \n",
    "  "
   ]
  },
  {
   "cell_type": "code",
   "execution_count": null,
   "metadata": {
    "execution": {
     "iopub.execute_input": "2020-11-03T03:35:44.839675Z",
     "iopub.status.busy": "2020-11-03T03:35:44.839184Z",
     "iopub.status.idle": "2020-11-03T03:35:48.458446Z",
     "shell.execute_reply": "2020-11-03T03:35:48.458889Z"
    }
   },
   "outputs": [],
   "source": [
    "f, ax = plt.subplots(1, figsize=(12, 8))\n",
    "gdf.plot(column='median_home_value', scheme='QUANTILES', alpha=0.6, ax=ax, legend=True)\n",
    "cx.add_basemap(ax, crs=gdf.crs.to_string(), source=cx.providers.Stamen.TonerLite)\n",
    "ax.set_axis_off()\n",
    "plt.show()"
   ]
  },
  {
   "cell_type": "code",
   "execution_count": null,
   "metadata": {
    "execution": {
     "iopub.execute_input": "2020-11-03T03:35:48.461621Z",
     "iopub.status.busy": "2020-11-03T03:35:48.461139Z",
     "iopub.status.idle": "2020-11-03T03:35:48.462770Z",
     "shell.execute_reply": "2020-11-03T03:35:48.463213Z"
    }
   },
   "outputs": [],
   "source": [
    "hv = gdf['median_home_value']"
   ]
  },
  {
   "cell_type": "code",
   "execution_count": null,
   "metadata": {
    "execution": {
     "iopub.execute_input": "2020-11-03T03:35:48.465862Z",
     "iopub.status.busy": "2020-11-03T03:35:48.465423Z",
     "iopub.status.idle": "2020-11-03T03:35:48.471654Z",
     "shell.execute_reply": "2020-11-03T03:35:48.472114Z"
    }
   },
   "outputs": [],
   "source": [
    "mapclassify.Quantiles(hv, k=5)"
   ]
  },
  {
   "cell_type": "code",
   "execution_count": null,
   "metadata": {
    "execution": {
     "iopub.execute_input": "2020-11-03T03:35:48.474614Z",
     "iopub.status.busy": "2020-11-03T03:35:48.474198Z",
     "iopub.status.idle": "2020-11-03T03:35:48.482383Z",
     "shell.execute_reply": "2020-11-03T03:35:48.482842Z"
    }
   },
   "outputs": [],
   "source": [
    "mapclassify.Quantiles(hv, k=10)"
   ]
  },
  {
   "cell_type": "code",
   "execution_count": null,
   "metadata": {
    "execution": {
     "iopub.execute_input": "2020-11-03T03:35:48.485627Z",
     "iopub.status.busy": "2020-11-03T03:35:48.485155Z",
     "iopub.status.idle": "2020-11-03T03:35:48.492462Z",
     "shell.execute_reply": "2020-11-03T03:35:48.492953Z"
    }
   },
   "outputs": [],
   "source": [
    "q10 = mapclassify.Quantiles(hv, k=10)"
   ]
  },
  {
   "cell_type": "code",
   "execution_count": null,
   "metadata": {
    "execution": {
     "iopub.execute_input": "2020-11-03T03:35:48.497052Z",
     "iopub.status.busy": "2020-11-03T03:35:48.496297Z",
     "iopub.status.idle": "2020-11-03T03:35:48.498470Z",
     "shell.execute_reply": "2020-11-03T03:35:48.498923Z"
    }
   },
   "outputs": [],
   "source": [
    "dir(q10)"
   ]
  },
  {
   "cell_type": "code",
   "execution_count": null,
   "metadata": {
    "execution": {
     "iopub.execute_input": "2020-11-03T03:35:48.501973Z",
     "iopub.status.busy": "2020-11-03T03:35:48.501455Z",
     "iopub.status.idle": "2020-11-03T03:35:48.503653Z",
     "shell.execute_reply": "2020-11-03T03:35:48.504107Z"
    }
   },
   "outputs": [],
   "source": [
    "q10.bins"
   ]
  },
  {
   "cell_type": "code",
   "execution_count": null,
   "metadata": {
    "execution": {
     "iopub.execute_input": "2020-11-03T03:35:48.506860Z",
     "iopub.status.busy": "2020-11-03T03:35:48.506402Z",
     "iopub.status.idle": "2020-11-03T03:35:48.508468Z",
     "shell.execute_reply": "2020-11-03T03:35:48.508924Z"
    }
   },
   "outputs": [],
   "source": [
    "q10.counts"
   ]
  },
  {
   "cell_type": "code",
   "execution_count": null,
   "metadata": {
    "execution": {
     "iopub.execute_input": "2020-11-03T03:35:48.511730Z",
     "iopub.status.busy": "2020-11-03T03:35:48.511263Z",
     "iopub.status.idle": "2020-11-03T03:35:49.864537Z",
     "shell.execute_reply": "2020-11-03T03:35:49.864992Z"
    }
   },
   "outputs": [],
   "source": [
    "fj10 = mapclassify.FisherJenks(hv, k=10)"
   ]
  },
  {
   "cell_type": "code",
   "execution_count": null,
   "metadata": {
    "execution": {
     "iopub.execute_input": "2020-11-03T03:35:49.868097Z",
     "iopub.status.busy": "2020-11-03T03:35:49.867640Z",
     "iopub.status.idle": "2020-11-03T03:35:49.869926Z",
     "shell.execute_reply": "2020-11-03T03:35:49.870378Z"
    }
   },
   "outputs": [],
   "source": [
    "fj10"
   ]
  },
  {
   "cell_type": "code",
   "execution_count": null,
   "metadata": {
    "execution": {
     "iopub.execute_input": "2020-11-03T03:35:49.873200Z",
     "iopub.status.busy": "2020-11-03T03:35:49.872685Z",
     "iopub.status.idle": "2020-11-03T03:35:49.874822Z",
     "shell.execute_reply": "2020-11-03T03:35:49.875263Z"
    }
   },
   "outputs": [],
   "source": [
    "fj10.adcm"
   ]
  },
  {
   "cell_type": "code",
   "execution_count": null,
   "metadata": {
    "execution": {
     "iopub.execute_input": "2020-11-03T03:35:49.878015Z",
     "iopub.status.busy": "2020-11-03T03:35:49.877510Z",
     "iopub.status.idle": "2020-11-03T03:35:49.879739Z",
     "shell.execute_reply": "2020-11-03T03:35:49.880802Z"
    }
   },
   "outputs": [],
   "source": [
    "q10.adcm"
   ]
  },
  {
   "cell_type": "code",
   "execution_count": null,
   "metadata": {
    "execution": {
     "iopub.execute_input": "2020-11-03T03:35:49.883936Z",
     "iopub.status.busy": "2020-11-03T03:35:49.883455Z",
     "iopub.status.idle": "2020-11-03T03:35:49.885100Z",
     "shell.execute_reply": "2020-11-03T03:35:49.885622Z"
    }
   },
   "outputs": [],
   "source": [
    "bins = [100000, 500000, 1000000, 1500000]"
   ]
  },
  {
   "cell_type": "code",
   "execution_count": null,
   "metadata": {
    "execution": {
     "iopub.execute_input": "2020-11-03T03:35:49.888880Z",
     "iopub.status.busy": "2020-11-03T03:35:49.888392Z",
     "iopub.status.idle": "2020-11-03T03:35:49.893596Z",
     "shell.execute_reply": "2020-11-03T03:35:49.894093Z"
    }
   },
   "outputs": [],
   "source": [
    "ud4 = mapclassify.UserDefined(hv, bins=bins)\n",
    "ud4"
   ]
  },
  {
   "cell_type": "markdown",
   "metadata": {},
   "source": [
    "## GeoPandas: Choropleths"
   ]
  },
  {
   "cell_type": "code",
   "execution_count": null,
   "metadata": {
    "execution": {
     "iopub.execute_input": "2020-11-03T03:35:49.910013Z",
     "iopub.status.busy": "2020-11-03T03:35:49.909581Z",
     "iopub.status.idle": "2020-11-03T03:35:51.220824Z",
     "shell.execute_reply": "2020-11-03T03:35:51.221279Z"
    }
   },
   "outputs": [],
   "source": [
    "f, ax = plt.subplots(1, figsize=(12, 8))\n",
    "gdf.plot(column='median_home_value', scheme='QUANTILES', ax=ax, alpha=0.6, legend=True)\n",
    "\n",
    "cx.add_basemap(ax, crs=gdf.crs.to_string(), source=cx.providers.Stamen.TonerLite)\n",
    "ax.set_axis_off()\n",
    "plt.show()"
   ]
  },
  {
   "cell_type": "code",
   "execution_count": null,
   "metadata": {
    "execution": {
     "iopub.execute_input": "2020-11-03T03:35:51.238643Z",
     "iopub.status.busy": "2020-11-03T03:35:51.238154Z",
     "iopub.status.idle": "2020-11-03T03:35:52.732946Z",
     "shell.execute_reply": "2020-11-03T03:35:52.733461Z"
    }
   },
   "outputs": [],
   "source": [
    "f, ax = plt.subplots(1, figsize=(12, 8))\n",
    "gdf.plot(column='median_home_value', scheme='FisherJenks', ax=ax,\n",
    "        alpha=0.6, legend=True)\n",
    "\n",
    "cx.add_basemap(ax, crs=gdf.crs.to_string(), source=cx.providers.Stamen.TonerLite)\n",
    "\n",
    "ax.set_axis_off()\n",
    "plt.show()"
   ]
  },
  {
   "cell_type": "code",
   "execution_count": null,
   "metadata": {
    "execution": {
     "iopub.execute_input": "2020-11-03T03:35:52.750967Z",
     "iopub.status.busy": "2020-11-03T03:35:52.750533Z",
     "iopub.status.idle": "2020-11-03T03:35:54.200248Z",
     "shell.execute_reply": "2020-11-03T03:35:54.200946Z"
    }
   },
   "outputs": [],
   "source": [
    "f, ax = plt.subplots(1, figsize=(12, 8))\n",
    "gdf.plot(column='median_home_value', scheme='FisherJenks', ax=ax,\n",
    "        alpha=0.6, legend=True, cmap='Blues')\n",
    "\n",
    "cx.add_basemap(ax, crs=gdf.crs.to_string(), source=cx.providers.Stamen.TonerLite)\n",
    "\n",
    "ax.set_axis_off()\n",
    "plt.show()"
   ]
  },
  {
   "cell_type": "code",
   "execution_count": null,
   "metadata": {
    "execution": {
     "iopub.execute_input": "2020-11-03T03:35:54.219133Z",
     "iopub.status.busy": "2020-11-03T03:35:54.218666Z",
     "iopub.status.idle": "2020-11-03T03:35:55.579941Z",
     "shell.execute_reply": "2020-11-03T03:35:55.580468Z"
    }
   },
   "outputs": [],
   "source": [
    "f, ax = plt.subplots(1, figsize=(12, 8))\n",
    "gdf.plot(column='median_home_value', scheme='FisherJenks', ax=ax,\n",
    "        alpha=0.6, legend=True, cmap='Blues')\n",
    "cx.add_basemap(ax, crs=gdf.crs.to_string(), source=cx.providers.Stamen.TonerLite)\n",
    "\n",
    "ax.set_axis_off()\n",
    "plt.show()"
   ]
  },
  {
   "cell_type": "code",
   "execution_count": null,
   "metadata": {
    "execution": {
     "iopub.execute_input": "2020-11-03T03:35:55.597068Z",
     "iopub.status.busy": "2020-11-03T03:35:55.596526Z",
     "iopub.status.idle": "2020-11-03T03:35:57.042334Z",
     "shell.execute_reply": "2020-11-03T03:35:57.042777Z"
    }
   },
   "outputs": [],
   "source": [
    "f, ax = plt.subplots(1, figsize=(12, 8))\n",
    "gdf.plot(column='median_home_value', scheme='FisherJenks', ax=ax,\n",
    "        alpha=0.6, legend=True, cmap='Blues')\n",
    "cx.add_basemap(ax, crs=gdf.crs.to_string(), source=cx.providers.Stamen.TonerLite)\n",
    "\n",
    "ax.set_axis_off()\n",
    "plt.show()"
   ]
  },
  {
   "cell_type": "code",
   "execution_count": null,
   "metadata": {
    "execution": {
     "iopub.execute_input": "2020-11-03T03:35:57.047400Z",
     "iopub.status.busy": "2020-11-03T03:35:57.046849Z",
     "iopub.status.idle": "2020-11-03T03:35:57.049148Z",
     "shell.execute_reply": "2020-11-03T03:35:57.049585Z"
    }
   },
   "outputs": [],
   "source": [
    "gdf.geoid"
   ]
  },
  {
   "cell_type": "code",
   "execution_count": null,
   "metadata": {
    "execution": {
     "iopub.execute_input": "2020-11-03T03:35:57.052061Z",
     "iopub.status.busy": "2020-11-03T03:35:57.051640Z",
     "iopub.status.idle": "2020-11-03T03:35:57.053415Z",
     "shell.execute_reply": "2020-11-03T03:35:57.053857Z"
    }
   },
   "outputs": [],
   "source": [
    "import numpy"
   ]
  },
  {
   "cell_type": "code",
   "execution_count": null,
   "metadata": {
    "execution": {
     "iopub.execute_input": "2020-11-03T03:35:57.058391Z",
     "iopub.status.busy": "2020-11-03T03:35:57.057850Z",
     "iopub.status.idle": "2020-11-03T03:35:57.059225Z",
     "shell.execute_reply": "2020-11-03T03:35:57.059694Z"
    }
   },
   "outputs": [],
   "source": [
    "counties = set([geoid[:5] for geoid in gdf.geoid])"
   ]
  },
  {
   "cell_type": "code",
   "execution_count": null,
   "metadata": {
    "execution": {
     "iopub.execute_input": "2020-11-03T03:35:57.063205Z",
     "iopub.status.busy": "2020-11-03T03:35:57.062693Z",
     "iopub.status.idle": "2020-11-03T03:35:57.064928Z",
     "shell.execute_reply": "2020-11-03T03:35:57.065486Z"
    }
   },
   "outputs": [],
   "source": [
    "counties"
   ]
  },
  {
   "cell_type": "code",
   "execution_count": null,
   "metadata": {
    "execution": {
     "iopub.execute_input": "2020-11-03T03:35:57.072254Z",
     "iopub.status.busy": "2020-11-03T03:35:57.069844Z",
     "iopub.status.idle": "2020-11-03T03:35:59.335759Z",
     "shell.execute_reply": "2020-11-03T03:35:59.336203Z"
    }
   },
   "outputs": [],
   "source": [
    "for county in counties:\n",
    "    cgdf = gdf[gdf['geoid'].str.match(f'^{county}')]\n",
    "    f, ax = plt.subplots(1, figsize=(12, 8))\n",
    "    cgdf.plot(column='median_home_value', scheme='FisherJenks', ax=ax,\n",
    "        edgecolor='grey', legend=True, cmap='Blues', alpha=0.6)\n",
    "    plt.title(county)\n",
    "    ax.set_axis_off()\n",
    "    plt.show()\n"
   ]
  },
  {
   "cell_type": "markdown",
   "metadata": {},
   "source": [
    "## Geoviews"
   ]
  },
  {
   "cell_type": "code",
   "execution_count": null,
   "metadata": {
    "execution": {
     "iopub.execute_input": "2020-11-03T03:35:59.339151Z",
     "iopub.status.busy": "2020-11-03T03:35:59.338728Z",
     "iopub.status.idle": "2020-11-03T03:36:02.408441Z",
     "shell.execute_reply": "2020-11-03T03:36:02.408892Z"
    }
   },
   "outputs": [],
   "source": [
    "import geoviews as gv\n",
    "import geoviews.feature as gf\n",
    "import xarray as xr\n",
    "from cartopy import crs\n",
    "import hvplot.pandas"
   ]
  },
  {
   "cell_type": "code",
   "execution_count": null,
   "metadata": {
    "execution": {
     "iopub.execute_input": "2020-11-03T03:36:02.424996Z",
     "iopub.status.busy": "2020-11-03T03:36:02.424476Z",
     "iopub.status.idle": "2020-11-03T03:36:02.594907Z",
     "shell.execute_reply": "2020-11-03T03:36:02.594401Z"
    }
   },
   "outputs": [],
   "source": [
    "import geopandas as gpd\n",
    "cities = gpd.read_file(gpd.datasets.get_path('naturalearth_cities'))\n",
    "\n",
    "cities.hvplot(global_extent=True, frame_height=450, tiles=True)"
   ]
  },
  {
   "cell_type": "code",
   "execution_count": null,
   "metadata": {
    "execution": {
     "iopub.execute_input": "2020-11-03T03:36:02.603996Z",
     "iopub.status.busy": "2020-11-03T03:36:02.603537Z",
     "iopub.status.idle": "2020-11-03T03:36:03.536189Z",
     "shell.execute_reply": "2020-11-03T03:36:03.536694Z"
    }
   },
   "outputs": [],
   "source": [
    "shp_link = 'data/scag_region.gpkg'\n",
    "gdf = gpd.read_file(shp_link)\n",
    "gdf.fillna(gdf.mean(), inplace = True)"
   ]
  },
  {
   "cell_type": "code",
   "execution_count": null,
   "metadata": {
    "execution": {
     "iopub.execute_input": "2020-11-03T03:36:03.539690Z",
     "iopub.status.busy": "2020-11-03T03:36:03.539238Z",
     "iopub.status.idle": "2020-11-03T03:36:07.454122Z",
     "shell.execute_reply": "2020-11-03T03:36:07.454653Z"
    }
   },
   "outputs": [],
   "source": [
    "gdf.hvplot()"
   ]
  },
  {
   "cell_type": "code",
   "execution_count": null,
   "metadata": {
    "execution": {
     "iopub.execute_input": "2020-11-03T03:36:07.458442Z",
     "iopub.status.busy": "2020-11-03T03:36:07.457946Z",
     "iopub.status.idle": "2020-11-03T03:36:14.695245Z",
     "shell.execute_reply": "2020-11-03T03:36:14.696447Z"
    }
   },
   "outputs": [],
   "source": [
    "gdf.hvplot(geo=True)"
   ]
  },
  {
   "cell_type": "code",
   "execution_count": null,
   "metadata": {
    "execution": {
     "iopub.execute_input": "2020-11-03T03:36:14.701530Z",
     "iopub.status.busy": "2020-11-03T03:36:14.701041Z",
     "iopub.status.idle": "2020-11-03T03:36:14.702836Z",
     "shell.execute_reply": "2020-11-03T03:36:14.703393Z"
    }
   },
   "outputs": [],
   "source": [
    "def choro(df, field, scheme='Quantiles', ncolors=5, cmap='Blues',\n",
    "          width=600, height=400, tools=['hover']):\n",
    "    from holoviews.plotting.util import process_cmap\n",
    "    cl = getattr(mapclassify, scheme)\n",
    "    yb = cl(df[field], k=ncolors).yb\n",
    "    pcmap = process_cmap(cmap, ncolors=ncolors)\n",
    "    #yb, pcmap = choro(values, scheme=scheme, ncolors=ncolors, cmap=cmap)\n",
    "    df[scheme] = yb\n",
    "    return gv.Polygons(df, vdims=[scheme, field]).opts(cmap=pcmap, width=width, height=height, tools=tools, line_width=0.1)\n",
    "\n",
    "    "
   ]
  },
  {
   "cell_type": "code",
   "execution_count": null,
   "metadata": {
    "execution": {
     "iopub.execute_input": "2020-11-03T03:36:14.707083Z",
     "iopub.status.busy": "2020-11-03T03:36:14.706600Z",
     "iopub.status.idle": "2020-11-03T03:36:22.564906Z",
     "shell.execute_reply": "2020-11-03T03:36:22.566195Z"
    }
   },
   "outputs": [],
   "source": [
    "choro(gdf, 'median_home_value')"
   ]
  },
  {
   "cell_type": "code",
   "execution_count": null,
   "metadata": {
    "execution": {
     "iopub.execute_input": "2020-11-03T03:36:22.569651Z",
     "iopub.status.busy": "2020-11-03T03:36:22.569132Z",
     "iopub.status.idle": "2020-11-03T03:36:30.219943Z",
     "shell.execute_reply": "2020-11-03T03:36:30.220419Z"
    }
   },
   "outputs": [],
   "source": [
    "choro(gdf, 'median_home_value', ncolors=9, cmap='Greens')"
   ]
  },
  {
   "cell_type": "code",
   "execution_count": null,
   "metadata": {
    "execution": {
     "iopub.execute_input": "2020-11-03T03:36:30.224231Z",
     "iopub.status.busy": "2020-11-03T03:36:30.223764Z",
     "iopub.status.idle": "2020-11-03T03:36:38.693340Z",
     "shell.execute_reply": "2020-11-03T03:36:38.693807Z"
    }
   },
   "outputs": [],
   "source": [
    "(gv.tile_sources.CartoLight * choro(gdf, 'median_home_value', scheme='FisherJenks', ncolors=9, cmap='Greens'))"
   ]
  },
  {
   "cell_type": "markdown",
   "metadata": {},
   "source": [
    "<div class=\"alert alert-success\" style=\"font-size:120%\">\n",
    "<b>Exercise</b>: <br>\n",
    "Create choropleth maps for each of the counties that use the FisherJenks classification for k=6 defined on the entire Southern California region.\n",
    "</div>"
   ]
  },
  {
   "cell_type": "code",
   "execution_count": null,
   "metadata": {
    "execution": {
     "iopub.execute_input": "2020-11-03T03:36:38.697476Z",
     "iopub.status.busy": "2020-11-03T03:36:38.697002Z",
     "iopub.status.idle": "2020-11-03T03:36:38.698771Z",
     "shell.execute_reply": "2020-11-03T03:36:38.699406Z"
    }
   },
   "outputs": [],
   "source": [
    "# %load solutions/01.py"
   ]
  },
  {
   "cell_type": "markdown",
   "metadata": {},
   "source": [
    "---\n",
    "\n",
    "<a rel=\"license\" href=\"http://creativecommons.org/licenses/by-nc-\n",
    "sa/4.0/\"><img alt=\"Creative Commons License\" style=\"border-width:0\"\n",
    "src=\"https://i.creativecommons.org/l/by-nc-sa/4.0/88x31.png\" /></a><br /><span\n",
    "xmlns:dct=\"http://purl.org/dc/terms/\" property=\"dct:title\">Geovisualization</span> by <a xmlns:cc=\"http://creativecommons.org/ns#\"\n",
    "href=\"http://sergerey.org\" property=\"cc:attributionName\"\n",
    "rel=\"cc:attributionURL\">Serge Rey</a> is licensed under a <a\n",
    "rel=\"license\" href=\"http://creativecommons.org/licenses/by-nc-sa/4.0/\">Creative\n",
    "Commons Attribution-NonCommercial-ShareAlike 4.0 International License</a>."
   ]
  }
 ],
 "metadata": {
  "jupytext": {
   "formats": "ipynb,md"
  },
  "kernelspec": {
   "display_name": "Python 3",
   "language": "python",
   "name": "python3"
  },
  "language_info": {
   "codemirror_mode": {
    "name": "ipython",
    "version": 3
   },
   "file_extension": ".py",
   "mimetype": "text/x-python",
   "name": "python",
   "nbconvert_exporter": "python",
   "pygments_lexer": "ipython3",
   "version": "3.7.8"
  },
  "widgets": {
   "application/vnd.jupyter.widget-state+json": {
    "state": {},
    "version_major": 2,
    "version_minor": 0
   }
  }
 },
 "nbformat": 4,
 "nbformat_minor": 4
}
